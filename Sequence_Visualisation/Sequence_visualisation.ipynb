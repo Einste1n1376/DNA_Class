{
 "cells": [
  {
   "cell_type": "code",
   "execution_count": 8,
   "id": "71eacd05",
   "metadata": {},
   "outputs": [
    {
     "data": {
      "application/vnd.plotly.v1+json": {
       "config": {
        "plotlyServerURL": "https://plot.ly"
       },
       "data": [
        {
         "marker": {
          "color": [
           "orange",
           "blue",
           "blue",
           "red",
           "red",
           "blue",
           "orange",
           "blue",
           "red",
           "orange",
           "green",
           "blue",
           "blue",
           "red",
           "blue",
           "blue",
           "red",
           "red",
           "red",
           "blue",
           "red",
           "red",
           "red",
           "orange",
           "green",
           "red",
           "red",
           "orange",
           "orange",
           "green",
           "red",
           "green",
           "blue",
           "orange",
           "red",
           "red",
           "red",
           "red",
           "blue",
           "orange",
           "green",
           "green",
           "blue",
           "red",
           "orange",
           "red",
           "red",
           "orange",
           "red",
           "orange",
           "blue",
           "green",
           "red",
           "green",
           "red",
           "red",
           "orange",
           "red",
           "green",
           "blue",
           "green",
           "green",
           "red",
           "blue",
           "red",
           "red",
           "red",
           "green",
           "red",
           "green",
           "red",
           "red",
           "red",
           "orange",
           "orange",
           "blue",
           "blue",
           "blue",
           "orange",
           "orange",
           "blue",
           "green",
           "green",
           "blue",
           "orange",
           "orange",
           "green",
           "green",
           "blue",
           "blue",
           "green",
           "green",
           "blue",
           "red",
           "blue",
           "blue",
           "red",
           "orange",
           "blue",
           "blue",
           "red",
           "blue",
           "blue",
           "red",
           "red",
           "green",
           "red",
           "orange",
           "orange",
           "red",
           "blue",
           "blue",
           "red",
           "green",
           "red",
           "green",
           "red",
           "blue",
           "orange",
           "green",
           "red",
           "red",
           "orange",
           "blue",
           "green",
           "blue",
           "green",
           "green",
           "red",
           "green",
           "red",
           "blue",
           "green",
           "green",
           "green",
           "orange",
           "orange",
           "blue",
           "orange",
           "red",
           "red",
           "red",
           "red",
           "blue",
           "orange",
           "green",
           "green",
           "green",
           "blue",
           "green",
           "blue",
           "red",
           "red",
           "red",
           "blue",
           "green",
           "red",
           "blue",
           "green",
           "red",
           "blue",
           "orange",
           "blue",
           "orange",
           "red",
           "blue",
           "blue",
           "red",
           "red",
           "red",
           "red",
           "orange",
           "orange",
           "red",
           "orange",
           "green",
           "blue",
           "orange",
           "orange",
           "blue",
           "red",
           "blue",
           "green",
           "red",
           "red",
           "orange",
           "green",
           "red",
           "green",
           "red",
           "green",
           "blue",
           "blue",
           "red",
           "blue",
           "red",
           "red",
           "orange",
           "blue",
           "orange",
           "orange",
           "green",
           "blue",
           "blue",
           "red",
           "blue",
           "red",
           "red",
           "green",
           "orange",
           "green",
           "green",
           "blue",
           "blue",
           "orange",
           "green",
           "blue",
           "green",
           "red",
           "red",
           "green",
           "green",
           "red",
           "green",
           "red",
           "green",
           "green",
           "green",
           "green",
           "green",
           "red",
           "green",
           "orange",
           "orange",
           "orange",
           "red",
           "blue",
           "red",
           "green",
           "red",
           "orange",
           "green",
           "red",
           "orange",
           "blue",
           "orange",
           "red",
           "blue",
           "red",
           "red",
           "red",
           "red",
           "red",
           "blue",
           "blue",
           "red",
           "red",
           "orange",
           "green",
           "blue",
           "red",
           "blue",
           "orange",
           "red",
           "red",
           "green",
           "orange",
           "red",
           "red",
           "red",
           "orange",
           "blue",
           "blue",
           "green",
           "orange",
           "red",
           "green",
           "blue",
           "red",
           "red",
           "orange",
           "green",
           "green",
           "red",
           "blue",
           "orange",
           "blue",
           "blue",
           "red",
           "orange",
           "green",
           "red",
           "green",
           "green",
           "red",
           "red",
           "orange",
           "red",
           "orange",
           "blue",
           "blue",
           "orange",
           "orange",
           "blue",
           "red",
           "red",
           "red",
           "blue",
           "blue",
           "blue",
           "green",
           "orange",
           "blue",
           "orange",
           "green",
           "green",
           "red",
           "orange",
           "green",
           "green",
           "red",
           "green",
           "green",
           "orange",
           "green",
           "orange",
           "orange",
           "blue",
           "green",
           "red",
           "blue",
           "red",
           "green",
           "orange",
           "red",
           "blue",
           "blue",
           "red",
           "red",
           "green",
           "green",
           "green",
           "red",
           "red",
           "red",
           "blue",
           "blue",
           "red",
           "red",
           "blue",
           "red",
           "orange",
           "orange",
           "green",
           "green",
           "green",
           "red",
           "green",
           "orange",
           "orange",
           "green",
           "orange",
           "blue",
           "red",
           "red",
           "red",
           "red",
           "green",
           "orange",
           "blue",
           "orange",
           "blue",
           "blue",
           "red",
           "red",
           "orange",
           "red",
           "red",
           "green",
           "blue",
           "red",
           "green",
           "red",
           "red",
           "green",
           "red",
           "red",
           "blue",
           "red",
           "green",
           "blue",
           "red",
           "red",
           "red",
           "orange",
           "blue",
           "blue",
           "red",
           "red",
           "red",
           "red",
           "blue",
           "blue",
           "blue",
           "red",
           "red",
           "green",
           "red",
           "red",
           "orange",
           "orange",
           "green",
           "green",
           "orange",
           "blue",
           "red",
           "red",
           "red",
           "red",
           "red",
           "orange",
           "green",
           "blue",
           "red",
           "green",
           "blue",
           "orange",
           "blue",
           "blue",
           "red",
           "red",
           "blue",
           "red",
           "green",
           "red",
           "red",
           "red",
           "red",
           "blue",
           "red",
           "blue",
           "orange",
           "green",
           "blue",
           "red",
           "green",
           "orange",
           "red",
           "red",
           "red",
           "orange",
           "blue",
           "orange",
           "red",
           "green",
           "blue",
           "blue",
           "blue",
           "red",
           "green",
           "blue",
           "red",
           "blue",
           "red",
           "blue",
           "green",
           "green",
           "orange",
           "red",
           "green",
           "red",
           "red",
           "green",
           "red",
           "green",
           "orange",
           "red",
           "blue",
           "red",
           "orange",
           "green",
           "blue",
           "orange",
           "red",
           "orange",
           "orange",
           "green",
           "green",
           "green",
           "red",
           "red",
           "red",
           "green",
           "blue",
           "orange",
           "orange",
           "orange",
           "red",
           "blue",
           "blue",
           "red",
           "orange",
           "red",
           "blue",
           "red",
           "green",
           "green",
           "green",
           "green",
           "red",
           "green",
           "blue",
           "red",
           "blue",
           "orange",
           "green",
           "blue",
           "green",
           "red",
           "orange",
           "green",
           "green",
           "green",
           "blue",
           "red",
           "red",
           "red",
           "green",
           "red",
           "blue",
           "red",
           "orange",
           "red",
           "blue",
           "red",
           "orange",
           "green",
           "blue",
           "blue",
           "red",
           "green",
           "red",
           "blue",
           "red",
           "red",
           "green",
           "red",
           "red",
           "red",
           "red",
           "green",
           "blue",
           "red",
           "blue",
           "green",
           "blue",
           "orange",
           "green",
           "green",
           "red",
           "orange",
           "red",
           "orange",
           "red",
           "red",
           "green",
           "blue",
           "red",
           "green",
           "blue",
           "red",
           "orange",
           "green",
           "red",
           "red",
           "green",
           "red",
           "orange",
           "green",
           "blue",
           "blue",
           "red",
           "red",
           "red",
           "red",
           "green",
           "blue",
           "green",
           "red",
           "red",
           "red",
           "orange",
           "orange",
           "red",
           "green",
           "blue",
           "blue",
           "orange",
           "orange",
           "green",
           "orange",
           "orange",
           "blue",
           "orange",
           "green",
           "blue",
           "blue",
           "blue",
           "red",
           "green",
           "red",
           "blue",
           "green",
           "green",
           "green",
           "blue",
           "green",
           "blue",
           "red",
           "orange",
           "red",
           "orange",
           "orange",
           "red",
           "orange",
           "green",
           "green",
           "blue",
           "orange",
           "blue",
           "blue",
           "green",
           "blue",
           "red",
           "blue",
           "red",
           "red",
           "blue",
           "green",
           "orange",
           "red",
           "blue",
           "red",
           "red",
           "red",
           "green",
           "green",
           "green",
           "green",
           "orange",
           "red",
           "blue",
           "red",
           "blue",
           "red",
           "green",
           "green",
           "blue",
           "green",
           "red",
           "green",
           "green",
           "red",
           "green",
           "blue",
           "blue",
           "green",
           "blue",
           "red",
           "orange",
           "green",
           "blue",
           "orange",
           "red",
           "red",
           "blue",
           "green",
           "red",
           "orange",
           "blue",
           "green",
           "blue",
           "red",
           "blue",
           "red",
           "blue",
           "red",
           "green",
           "green",
           "orange",
           "green",
           "green",
           "red",
           "blue",
           "green",
           "blue",
           "blue",
           "green",
           "red",
           "orange"
          ],
          "opacity": 0.8,
          "size": 6
         },
         "mode": "markers+text",
         "text": [
          "G",
          "T",
          "T",
          "A",
          "A",
          "T",
          "G",
          "T",
          "A",
          "G",
          "C",
          "T",
          "T",
          "A",
          "T",
          "T",
          "A",
          "A",
          "A",
          "T",
          "A",
          "A",
          "A",
          "G",
          "C",
          "A",
          "A",
          "G",
          "G",
          "C",
          "A",
          "C",
          "T",
          "G",
          "A",
          "A",
          "A",
          "A",
          "T",
          "G",
          "C",
          "C",
          "T",
          "A",
          "G",
          "A",
          "A",
          "G",
          "A",
          "G",
          "T",
          "C",
          "A",
          "C",
          "A",
          "A",
          "G",
          "A",
          "C",
          "T",
          "C",
          "C",
          "A",
          "T",
          "A",
          "A",
          "A",
          "C",
          "A",
          "C",
          "A",
          "A",
          "A",
          "G",
          "G",
          "T",
          "T",
          "T",
          "G",
          "G",
          "T",
          "C",
          "C",
          "T",
          "G",
          "G",
          "C",
          "C",
          "T",
          "T",
          "C",
          "C",
          "T",
          "A",
          "T",
          "T",
          "A",
          "G",
          "T",
          "T",
          "A",
          "T",
          "T",
          "A",
          "A",
          "C",
          "A",
          "G",
          "G",
          "A",
          "T",
          "T",
          "A",
          "C",
          "A",
          "C",
          "A",
          "T",
          "G",
          "C",
          "A",
          "A",
          "G",
          "T",
          "C",
          "T",
          "C",
          "C",
          "A",
          "C",
          "A",
          "T",
          "C",
          "C",
          "C",
          "G",
          "G",
          "T",
          "G",
          "A",
          "A",
          "A",
          "A",
          "T",
          "G",
          "C",
          "C",
          "C",
          "T",
          "C",
          "T",
          "A",
          "A",
          "A",
          "T",
          "C",
          "A",
          "T",
          "C",
          "A",
          "T",
          "G",
          "T",
          "G",
          "A",
          "T",
          "T",
          "A",
          "A",
          "A",
          "A",
          "G",
          "G",
          "A",
          "G",
          "C",
          "T",
          "G",
          "G",
          "T",
          "A",
          "T",
          "C",
          "A",
          "A",
          "G",
          "C",
          "A",
          "C",
          "A",
          "C",
          "T",
          "T",
          "A",
          "T",
          "A",
          "A",
          "G",
          "T",
          "G",
          "G",
          "C",
          "T",
          "T",
          "A",
          "T",
          "A",
          "A",
          "C",
          "G",
          "C",
          "C",
          "T",
          "T",
          "G",
          "C",
          "T",
          "C",
          "A",
          "A",
          "C",
          "C",
          "A",
          "C",
          "A",
          "C",
          "C",
          "C",
          "C",
          "C",
          "A",
          "C",
          "G",
          "G",
          "G",
          "A",
          "T",
          "A",
          "C",
          "A",
          "G",
          "C",
          "A",
          "G",
          "T",
          "G",
          "A",
          "T",
          "A",
          "A",
          "A",
          "A",
          "A",
          "T",
          "T",
          "A",
          "A",
          "G",
          "C",
          "T",
          "A",
          "T",
          "G",
          "A",
          "A",
          "C",
          "G",
          "A",
          "A",
          "A",
          "G",
          "T",
          "T",
          "C",
          "G",
          "A",
          "C",
          "T",
          "A",
          "A",
          "G",
          "C",
          "C",
          "A",
          "T",
          "G",
          "T",
          "T",
          "A",
          "G",
          "C",
          "A",
          "C",
          "C",
          "A",
          "A",
          "G",
          "A",
          "G",
          "T",
          "T",
          "G",
          "G",
          "T",
          "A",
          "A",
          "A",
          "T",
          "T",
          "T",
          "C",
          "G",
          "T",
          "G",
          "C",
          "C",
          "A",
          "G",
          "C",
          "C",
          "A",
          "C",
          "C",
          "G",
          "C",
          "G",
          "G",
          "T",
          "C",
          "A",
          "T",
          "A",
          "C",
          "G",
          "A",
          "T",
          "T",
          "A",
          "A",
          "C",
          "C",
          "C",
          "A",
          "A",
          "A",
          "T",
          "T",
          "A",
          "A",
          "T",
          "A",
          "G",
          "G",
          "C",
          "C",
          "C",
          "A",
          "C",
          "G",
          "G",
          "C",
          "G",
          "T",
          "A",
          "A",
          "A",
          "A",
          "C",
          "G",
          "T",
          "G",
          "T",
          "T",
          "A",
          "A",
          "G",
          "A",
          "A",
          "C",
          "T",
          "A",
          "C",
          "A",
          "A",
          "C",
          "A",
          "A",
          "T",
          "A",
          "C",
          "T",
          "A",
          "A",
          "A",
          "G",
          "T",
          "T",
          "A",
          "A",
          "A",
          "A",
          "T",
          "T",
          "T",
          "A",
          "A",
          "C",
          "A",
          "A",
          "G",
          "G",
          "C",
          "C",
          "G",
          "T",
          "A",
          "A",
          "A",
          "A",
          "A",
          "G",
          "C",
          "T",
          "A",
          "C",
          "T",
          "G",
          "T",
          "T",
          "A",
          "A",
          "T",
          "A",
          "C",
          "A",
          "A",
          "A",
          "A",
          "T",
          "A",
          "T",
          "G",
          "C",
          "T",
          "A",
          "C",
          "G",
          "A",
          "A",
          "A",
          "G",
          "T",
          "G",
          "A",
          "C",
          "T",
          "T",
          "T",
          "A",
          "C",
          "T",
          "A",
          "T",
          "A",
          "T",
          "C",
          "C",
          "G",
          "A",
          "C",
          "A",
          "A",
          "C",
          "A",
          "C",
          "G",
          "A",
          "T",
          "A",
          "G",
          "C",
          "T",
          "G",
          "A",
          "G",
          "G",
          "C",
          "C",
          "C",
          "A",
          "A",
          "A",
          "C",
          "T",
          "G",
          "G",
          "G",
          "A",
          "T",
          "T",
          "A",
          "G",
          "A",
          "T",
          "A",
          "C",
          "C",
          "C",
          "C",
          "A",
          "C",
          "T",
          "A",
          "T",
          "G",
          "C",
          "T",
          "C",
          "A",
          "G",
          "C",
          "C",
          "C",
          "T",
          "A",
          "A",
          "A",
          "C",
          "A",
          "T",
          "A",
          "G",
          "A",
          "T",
          "A",
          "G",
          "C",
          "T",
          "T",
          "A",
          "C",
          "A",
          "T",
          "A",
          "A",
          "C",
          "A",
          "A",
          "A",
          "A",
          "C",
          "T",
          "A",
          "T",
          "C",
          "T",
          "G",
          "C",
          "C",
          "A",
          "G",
          "A",
          "G",
          "A",
          "A",
          "C",
          "T",
          "A",
          "C",
          "T",
          "A",
          "G",
          "C",
          "A",
          "A",
          "C",
          "A",
          "G",
          "C",
          "T",
          "T",
          "A",
          "A",
          "A",
          "A",
          "C",
          "T",
          "C",
          "A",
          "A",
          "A",
          "G",
          "G",
          "A",
          "C",
          "T",
          "T",
          "G",
          "G",
          "C",
          "G",
          "G",
          "T",
          "G",
          "C",
          "T",
          "T",
          "T",
          "A",
          "C",
          "A",
          "T",
          "C",
          "C",
          "C",
          "T",
          "C",
          "T",
          "A",
          "G",
          "A",
          "G",
          "G",
          "A",
          "G",
          "C",
          "C",
          "T",
          "G",
          "T",
          "T",
          "C",
          "T",
          "A",
          "T",
          "A",
          "A",
          "T",
          "C",
          "G",
          "A",
          "T",
          "A",
          "A",
          "A",
          "C",
          "C",
          "C",
          "C",
          "G",
          "A",
          "T",
          "A",
          "T",
          "A",
          "C",
          "C",
          "T",
          "C",
          "A",
          "C",
          "C",
          "A",
          "C",
          "T",
          "T",
          "C",
          "T",
          "A",
          "G",
          "C",
          "T",
          "G",
          "A",
          "A",
          "T",
          "C",
          "A",
          "G",
          "T",
          "C",
          "T",
          "A",
          "T",
          "A",
          "T",
          "A",
          "C",
          "C",
          "G",
          "C",
          "C",
          "A",
          "T",
          "C",
          "T",
          "T",
          "C",
          "A",
          "G"
         ],
         "textposition": "top center",
         "type": "scatter3d",
         "x": {
          "bdata": "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",
          "dtype": "f8"
         },
         "y": {
          "bdata": "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",
          "dtype": "f8"
         },
         "z": {
          "bdata": "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",
          "dtype": "f8"
         }
        },
        {
         "line": {
          "color": "lightgray",
          "width": 2
         },
         "mode": "lines",
         "name": "Helix",
         "type": "scatter3d",
         "x": {
          "bdata": "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",
          "dtype": "f8"
         },
         "y": {
          "bdata": "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",
          "dtype": "f8"
         },
         "z": {
          "bdata": "AAAAAAAAAAAED5Uri0yNPwQPlSuLTJ0/Q8uvYGj5pT8ED5Uri0ytP2IpPfvWT7I/Q8uvYGj5tT8kbSLG+aK5PwQPlSuLTL0/ctiDSA57wD9iKT371k/CP1N69q2fJMQ/Q8uvYGj5xT8zHGkTMc7HPyRtIsb5osk/FL7beMJ3yz8ED5Uri0zNP/RfTt5TIc8/ctiDSA570D/qgOChcmXRP2IpPfvWT9I/29GZVDs60z9TevatnyTUP8siUwcED9U/Q8uvYGj51T+7cwy6zOPWPzMcaRMxztc/q8TFbJW42D8kbSLG+aLZP5wVfx9ejdo/FL7beMJ32z+MZjjSJmLcPwQPlSuLTN0/fLfxhO823j/0X07eUyHfPzaE1RvcBeA/ctiDSA574D+uLDJ1QPDgP+qA4KFyZeE/JtWOzqTa4T9iKT371k/iP5996ycJxeI/29GZVDs64z8XJkiBba/jP1N69q2fJOQ/j86k2tGZ5D/LIlMHBA/lPwd3ATQ2hOU/Q8uvYGj55T9/H16Nmm7mP7tzDLrM4+Y/98e65v5Y5z8zHGkTMc7nP29wF0BjQ+g/q8TFbJW46D/nGHSZxy3pPyRtIsb5ouk/YMHQ8isY6j+cFX8fXo3qP9hpLUyQAus/FL7beMJ36z9QEoql9OzrP4xmONImYuw/yLrm/ljX7D8ED5Uri0ztP0BjQ1i9we0/fLfxhO827j+4C6CxIazuP/RfTt5TIe8/MLT8CoaW7z82hNUb3AXwP1SuLDJ1QPA/ctiDSA578D+QAttep7XwP64sMnVA8PA/zFaJi9kq8T/qgOChcmXxPwirN7gLoPE/JtWOzqTa8T9E/+XkPRXyP2IpPfvWT/I/gVOUEXCK8j+ffesnCcXyP72nQj6i//I/29GZVDs68z/5+/Bq1HTzPxcmSIFtr/M/NVCflwbq8z9TevatnyT0P3GkTcQ4X/Q/j86k2tGZ9D+t+PvwatT0P8siUwcED/U/6UyqHZ1J9T8HdwE0NoT1PyWhWErPvvU/Q8uvYGj59T9h9QZ3ATT2P38fXo2abvY/nUm1ozOp9j+7cwy6zOP2P9mdY9BlHvc/98e65v5Y9z8V8hH9l5P3PzMcaRMxzvc/UUbAKcoI+D9vcBdAY0P4P42ablb8ffg/q8TFbJW4+D/J7hyDLvP4P+cYdJnHLfk/BUPLr2Bo+T8kbSLG+aL5P0KXedyS3fk/YMHQ8isY+j9+6ycJxVL6P5wVfx9ejfo/uj/WNffH+j/YaS1MkAL7P/aThGIpPfs/FL7beMJ3+z8y6DKPW7L7P1ASiqX07Ps/bjzhu40n/D+MZjjSJmL8P6qQj+i/nPw/yLrm/ljX/D/m5D0V8hH9PwQPlSuLTP0/IjnsQSSH/T9AY0NYvcH9P16Nmm5W/P0/fLfxhO82/j+a4UibiHH+P7gLoLEhrP4/1jX3x7rm/j/0X07eUyH/PxKKpfTsW/8/MLT8CoaW/z9O3lMhH9H/PzaE1RvcBQBARRkBpygjAEBUriwydUAAQGNDWL3BXQBActiDSA57AECBba/TWpgAQJAC216ntQBAn5cG6vPSAECuLDJ1QPAAQL3BXQCNDQFAzFaJi9kqAUDb67QWJkgBQOqA4KFyZQFA+RUMLb+CAUAIqze4C6ABQBdAY0NYvQFAJtWOzqTaAUA1arpZ8fcBQET/5eQ9FQJAU5QRcIoyAkBiKT371k8CQHK+aIYjbQJAgVOUEXCKAkCQ6L+cvKcCQJ996ycJxQJArhIXs1XiAkC9p0I+ov8CQMw8bsnuHANA29GZVDs6A0DqZsXfh1cDQPn78GrUdANACJEc9iCSA0AXJkiBba8DQCa7cwy6zANANVCflwbqA0BE5coiUwcEQFN69q2fJARAYg8iOexBBEBxpE3EOF8EQIA5eU+FfARAj86k2tGZBECeY9BlHrcEQK34+/Bq1ARAvI0nfLfxBEDLIlMHBA8FQNq3fpJQLAVA6UyqHZ1JBUD44dWo6WYFQAd3ATQ2hAVAFgwtv4KhBUAloVhKz74FQDQ2hNUb3AVAQ8uvYGj5BUBSYNvrtBYGQGH1BncBNAZAcIoyAk5RBkB/H16Nmm4GQI60iRjniwZAnUm1ozOpBkCs3uAugMYGQLtzDLrM4wZAygg4RRkBB0DZnWPQZR4HQOgyj1uyOwdA98e65v5YB0AGXeZxS3YHQBXyEf2XkwdAJIc9iOSwB0AzHGkTMc4HQEKxlJ596wdAUUbAKcoICEBg2+u0FiYIQG9wF0BjQwhAfgVDy69gCECNmm5W/H0IQJwvmuFImwhAq8TFbJW4CEC6WfH34dUIQMnuHIMu8whA2INIDnsQCUDnGHSZxy0JQPatnyQUSwlABUPLr2BoCUAU2PY6rYUJQCRtIsb5oglAMwJOUUbACUBCl3nckt0JQFEspWff+glAYMHQ8isYCkBvVvx9eDUKQH7rJwnFUgpAjYBTlBFwCkCcFX8fXo0KQKuqqqqqqgpAuj/WNffHCkDJ1AHBQ+UKQNhpLUyQAgtA5/5Y19wfC0D2k4RiKT0LQAUpsO11WgtAFL7beMJ3C0AjUwcED5ULQDLoMo9bsgtAQX1eGqjPC0BQEoql9OwLQF+ntTBBCgxAbjzhu40nDEB90QxH2kQMQIxmONImYgxAm/tjXXN/DECqkI/ov5wMQLklu3MMugxAyLrm/ljXDEDXTxKKpfQMQObkPRXyEQ1A9XlpoD4vDUAED5Uri0wNQBOkwLbXaQ1AIjnsQSSHDUAxzhfNcKQNQEBjQ1i9wQ1AT/hu4wnfDUBejZpuVvwNQG0ixvmiGQ5AfLfxhO82DkCLTB0QPFQOQJrhSJuIcQ5AqXZ0JtWODkC4C6CxIawOQMegyzxuyQ5A1jX3x7rmDkDlyiJTBwQPQPRfTt5TIQ9AA/V5aaA+D0ASiqX07FsPQCEf0X85eQ9AMLT8CoaWD0A/SSiW0rMPQE7eUyEf0Q9AXXN/rGvuD0A2hNUb3AUQQL5Oa2GCFBBARRkBpygjEEDN45bszjEQQFSuLDJ1QBBA3HjCdxtPEEBjQ1i9wV0QQOsN7gJobBBActiDSA57EED6ohmOtIkQQIFtr9NamBBACThFGQGnEECQAttep7UQQBjNcKRNxBBAn5cG6vPSEEAnYpwvmuEQQK4sMnVA8BBANvfHuub+EEC9wV0AjQ0RQEWM80UzHBFAzFaJi9kqEUBUIR/RfzkRQNvrtBYmSBFAY7ZKXMxWEUDqgOChcmURQHJLducYdBFA+RUMLb+CEUCB4KFyZZERQAirN7gLoBFAkHXN/bGuEUAXQGNDWL0RQJ8K+Yj+yxFAJtWOzqTaEUCunyQUS+kRQDVqulnx9xFAvTRQn5cGEkBE/+XkPRUSQMzJeyrkIxJAU5QRcIoyEkDbXqe1MEESQGIpPfvWTxJA6vPSQH1eEkByvmiGI20SQPmI/svJexJAgVOUEXCKEkAIHipXFpkSQJDov5y8pxJAF7NV4mK2EkCffesnCcUSQCZIgW2v0xJArhIXs1XiEkA13az4+/ASQL2nQj6i/xJARHLYg0gOE0DMPG7J7hwTQFMHBA+VKxNA29GZVDs6E0BinC+a4UgTQOpmxd+HVxNAcTFbJS5mE0D5+/Bq1HQTQIDGhrB6gxNACJEc9iCSE0CPW7I7x6ATQBcmSIFtrxNAnvDdxhO+E0Amu3MMuswTQK2FCVJg2xNANVCflwbqE0C8GjXdrPgTQETlyiJTBxRAy69gaPkVFEBTevatnyQUQNpEjPNFMxRAYg8iOexBFEDp2bd+klAUQHGkTcQ4XxRA+G7jCd9tFECAOXlPhXwUQAcED5UrixRAj86k2tGZFEAWmTogeKgUQJ5j0GUetxRAJS5mq8TFFECt+PvwatQUQDTDkTYR4xRAvI0nfLfxFEBDWL3BXQAVQMsiUwcEDxVAUu3oTKodFUDat36SUCwVQGGCFNj2OhVA6UyqHZ1JFUBwF0BjQ1gVQPjh1ajpZhVAf6xr7o91FUAHdwE0NoQVQI5Bl3nckhVAFgwtv4KhFUCd1sIEKbAVQCWhWErPvhVArGvuj3XNFUA0NoTVG9wVQLsAGhvC6hVAQ8uvYGj5FUDLlUWmDggWQFJg2+u0FhZA2ipxMVslFkBh9QZ3ATQWQOm/nLynQhZAcIoyAk5RFkD4VMhH9F8WQH8fXo2abhZAB+rz0kB9FkCOtIkY54sWQBZ/H16NmhZAnUm1ozOpFkAlFEvp2bcWQKze4C6AxhZANKl2dCbVFkC7cwy6zOMWQEM+ov9y8hZAygg4RRkBF0BS082Kvw8XQNmdY9BlHhdAYWj5FQwtF0DoMo9bsjsXQHD9JKFYShdA98e65v5YF0B/klAspWcXQAZd5nFLdhdAjid8t/GEF0AV8hH9l5MXQJ28p0I+ohdAJIc9iOSwF0CsUdPNir8XQDMcaRMxzhdAu+b+WNfcF0BCsZSefesXQMp7KuQj+hdAUUbAKcoIGEDZEFZvcBcYQGDb67QWJhhA6KWB+rw0GEBvcBdAY0MYQPc6rYUJUhhAfgVDy69gGEAG0NgQVm8YQI2ablb8fRhAFWUEnKKMGECcL5rhSJsYQCT6LyfvqRhAq8TFbJW4GEAzj1uyO8cYQLpZ8ffh1RhAQiSHPYjkGEDJ7hyDLvMYQFG5ssjUARlA2INIDnsQGUBgTt5TIR8ZQOcYdJnHLRlAb+MJ3208GUD2rZ8kFEsZQH54NWq6WRlABUPLr2BoGUCNDWH1BncZQBTY9jqthRlAnKKMgFOUGUAkbSLG+aIZQKs3uAugsRlAMwJOUUbAGUC6zOOW7M4ZQEKXedyS3RlAyWEPIjnsGUBRLKVn3/oZQNj2Oq2FCRpAYMHQ8isYGkDni2Y40iYaQG9W/H14NRpA9iCSwx5EGkB+6ycJxVIaQAW2vU5rYRpAjYBTlBFwGkAUS+nZt34aQJwVfx9ejRpAI+AUZQScGkCrqqqqqqoaQDJ1QPBQuRpAuj/WNffHGkBBCmx7ndYaQMnUAcFD5RpAUJ+XBurzGkDYaS1MkAIbQF80w5E2ERtA5/5Y19wfG0Buye4cgy4bQPaThGIpPRtAfV4aqM9LG0AFKbDtdVobQIzzRTMcaRtAFL7beMJ3G0CbiHG+aIYbQCNTBwQPlRtAqh2dSbWjG0Ay6DKPW7IbQLmyyNQBwRtAQX1eGqjPG0DIR/RfTt4bQFASiqX07BtA19wf65r7G0Bfp7UwQQocQOZxS3bnGBxAbjzhu40nHED1BncBNDYcQH3RDEfaRBxABJyijIBTHECMZjjSJmIcQBMxzhfNcBxAm/tjXXN/HEAixvmiGY4cQKqQj+i/nBxAMVslLmarHEC5JbtzDLocQEDwULmyyBxAyLrm/ljXHEBPhXxE/+UcQNdPEoql9BxAXhqoz0sDHUDm5D0V8hEdQG2v01qYIB1A9XlpoD4vHUB8RP/l5D0dQAQPlSuLTB1AjNkqcTFbHUATpMC212kdQJtuVvx9eB1AIjnsQSSHHUCqA4KHypUdQDHOF81wpB1AuZitEhezHUBAY0NYvcEdQMgt2Z1j0B1AT/hu4wnfHUDXwgQpsO0dQF6Nmm5W/B1A5lcwtPwKHkBtIsb5ohkeQPXsWz9JKB5AfLfxhO82HkAEgofKlUUeQItMHRA8VB5AExezVeJiHkCa4UibiHEeQCKs3uAugB5AqXZ0JtWOHkAxQQpse50eQLgLoLEhrB5AQNY198e6HkDHoMs8bskeQE9rYYIU2B5A1jX3x7rmHkBeAI0NYfUeQOXKIlMHBB9AbZW4mK0SH0D0X07eUyEfQHwq5CP6Lx9AA/V5aaA+H0CLvw+vRk0fQBKKpfTsWx9AmlQ7OpNqH0AhH9F/OXkfQKnpZsXfhx9AMLT8CoaWH0C4fpJQLKUfQD9JKJbSsx9AxxO+23jCH0BO3lMhH9EfQNao6WbF3x9AXXN/rGvuH0DlPRXyEf0fQDaE1RvcBSBAemmgPi8NIEC+TmthghQgQAE0NoTVGyBARRkBpygjIECJ/svJeyogQM3jluzOMSBAEMlhDyI5IEBUriwydUAgQJiT91TIRyBA3HjCdxtPIEAfXo2ablYgQGNDWL3BXSBApygj4BRlIEDrDe4CaGwgQC7zuCW7cyBActiDSA57IEC2vU5rYYIgQPqiGY60iSBAPojksAeRIECBba/TWpggQMVSevatnyBACThFGQGnIEBNHRA8VK4gQJAC216ntSBA1Oelgfq8IEAYzXCkTcQgQFyyO8egyyBAn5cG6vPSIEDjfNEMR9ogQCdinC+a4SBAa0dnUu3oIECuLDJ1QPAgQPIR/ZeT9yBANvfHuub+IEB63JLdOQYhQL3BXQCNDSFAAacoI+AUIUBFjPNFMxwhQIlxvmiGIyFAzFaJi9kqIUAQPFSuLDIhQFQhH9F/OSFAmAbq89JAIUDb67QWJkghQB/Rfzl5TyFAY7ZKXMxWIUCnmxV/H14hQOqA4KFyZSFALmarxMVsIUByS3bnGHQhQLYwQQpseyFA+RUMLb+CIUA9+9ZPEoohQIHgoXJlkSFAxcVslbiYIUAIqze4C6AhQEyQAttepyFAkHXN/bGuIUDUWpggBbYhQBdAY0NYvSFAWyUuZqvEIUCfCvmI/sshQOPvw6tR0yFAJtWOzqTaIUBqulnx9+EhQK6fJBRL6SFA8oTvNp7wIUA1arpZ8fchQHlPhXxE/yFAvTRQn5cGIkABGhvC6g0iQET/5eQ9FSJAiOSwB5EcIkDMyXsq5CMiQBCvRk03KyJAU5QRcIoyIkCXedyS3TkiQNtep7UwQSJAH0Ry2INIIkBiKT371k8iQKYOCB4qVyJA6vPSQH1eIkAu2Z1j0GUiQHK+aIYjbSJAtaMzqXZ0IkD5iP7LyXsiQD1uye4cgyJAgVOUEXCKIkDEOF80w5EiQAgeKlcWmSJATAP1eWmgIkCQ6L+cvKciQNPNir8PryJAF7NV4mK2IkBbmCAFtr0iQJ996ycJxSJA4mK2SlzMIkAmSIFtr9MiQGotTJAC2yJArhIXs1XiIkDx9+HVqOkiQDXdrPj78CJAecJ3G0/4IkC9p0I+ov8iQACNDWH1BiNARHLYg0gOI0CIV6OmmxUjQMw8bsnuHCNADyI57EEkI0BTBwQPlSsjQJfszjHoMiNA29GZVDs6I0Aet2R3jkEjQGKcL5rhSCNApoH6vDRQI0DqZsXfh1cjQC1MkALbXiNAcTFbJS5mI0C1FiZIgW0jQPn78GrUdCNAPOG7jSd8I0CAxoaweoMjQMSrUdPNiiNACJEc9iCSI0BLducYdJkjQI9bsjvHoCNA00B9XhqoI0AXJkiBba8jQFoLE6TAtiNAnvDdxhO+I0Di1ajpZsUjQCa7cwy6zCNAaaA+Lw3UI0CthQlSYNsjQPFq1HSz4iNANVCflwbqI0B4NWq6WfEjQLwaNd2s+CNAAAAAAAAAJEA=",
          "dtype": "f8"
         }
        },
        {
         "marker": {
          "color": [
           "green",
           "red",
           "red",
           "blue",
           "blue",
           "red",
           "green",
           "red",
           "blue",
           "green",
           "orange",
           "red",
           "red",
           "blue",
           "red",
           "red",
           "blue",
           "blue",
           "blue",
           "red",
           "blue",
           "blue",
           "blue",
           "green",
           "orange",
           "blue",
           "blue",
           "green",
           "green",
           "orange",
           "blue",
           "orange",
           "red",
           "green",
           "blue",
           "blue",
           "blue",
           "blue",
           "red",
           "green",
           "orange",
           "orange",
           "red",
           "blue",
           "green",
           "blue",
           "blue",
           "green",
           "blue",
           "green",
           "red",
           "orange",
           "blue",
           "orange",
           "blue",
           "blue",
           "green",
           "blue",
           "orange",
           "red",
           "orange",
           "orange",
           "blue",
           "red",
           "blue",
           "blue",
           "blue",
           "orange",
           "blue",
           "orange",
           "blue",
           "blue",
           "blue",
           "green",
           "green",
           "red",
           "red",
           "red",
           "green",
           "green",
           "red",
           "orange",
           "orange",
           "red",
           "green",
           "green",
           "orange",
           "orange",
           "red",
           "red",
           "orange",
           "orange",
           "red",
           "blue",
           "red",
           "red",
           "blue",
           "green",
           "red",
           "red",
           "blue",
           "red",
           "red",
           "blue",
           "blue",
           "orange",
           "blue",
           "green",
           "green",
           "blue",
           "red",
           "red",
           "blue",
           "orange",
           "blue",
           "orange",
           "blue",
           "red",
           "green",
           "orange",
           "blue",
           "blue",
           "green",
           "red",
           "orange",
           "red",
           "orange",
           "orange",
           "blue",
           "orange",
           "blue",
           "red",
           "orange",
           "orange",
           "orange",
           "green",
           "green",
           "red",
           "green",
           "blue",
           "blue",
           "blue",
           "blue",
           "red",
           "green",
           "orange",
           "orange",
           "orange",
           "red",
           "orange",
           "red",
           "blue",
           "blue",
           "blue",
           "red",
           "orange",
           "blue",
           "red",
           "orange",
           "blue",
           "red",
           "green",
           "red",
           "green",
           "blue",
           "red",
           "red",
           "blue",
           "blue",
           "blue",
           "blue",
           "green",
           "green",
           "blue",
           "green",
           "orange",
           "red",
           "green",
           "green",
           "red",
           "blue",
           "red",
           "orange",
           "blue",
           "blue",
           "green",
           "orange",
           "blue",
           "orange",
           "blue",
           "orange",
           "red",
           "red",
           "blue",
           "red",
           "blue",
           "blue",
           "green",
           "red",
           "green",
           "green",
           "orange",
           "red",
           "red",
           "blue",
           "red",
           "blue",
           "blue",
           "orange",
           "green",
           "orange",
           "orange",
           "red",
           "red",
           "green",
           "orange",
           "red",
           "orange",
           "blue",
           "blue",
           "orange",
           "orange",
           "blue",
           "orange",
           "blue",
           "orange",
           "orange",
           "orange",
           "orange",
           "orange",
           "blue",
           "orange",
           "green",
           "green",
           "green",
           "blue",
           "red",
           "blue",
           "orange",
           "blue",
           "green",
           "orange",
           "blue",
           "green",
           "red",
           "green",
           "blue",
           "red",
           "blue",
           "blue",
           "blue",
           "blue",
           "blue",
           "red",
           "red",
           "blue",
           "blue",
           "green",
           "orange",
           "red",
           "blue",
           "red",
           "green",
           "blue",
           "blue",
           "orange",
           "green",
           "blue",
           "blue",
           "blue",
           "green",
           "red",
           "red",
           "orange",
           "green",
           "blue",
           "orange",
           "red",
           "blue",
           "blue",
           "green",
           "orange",
           "orange",
           "blue",
           "red",
           "green",
           "red",
           "red",
           "blue",
           "green",
           "orange",
           "blue",
           "orange",
           "orange",
           "blue",
           "blue",
           "green",
           "blue",
           "green",
           "red",
           "red",
           "green",
           "green",
           "red",
           "blue",
           "blue",
           "blue",
           "red",
           "red",
           "red",
           "orange",
           "green",
           "red",
           "green",
           "orange",
           "orange",
           "blue",
           "green",
           "orange",
           "orange",
           "blue",
           "orange",
           "orange",
           "green",
           "orange",
           "green",
           "green",
           "red",
           "orange",
           "blue",
           "red",
           "blue",
           "orange",
           "green",
           "blue",
           "red",
           "red",
           "blue",
           "blue",
           "orange",
           "orange",
           "orange",
           "blue",
           "blue",
           "blue",
           "red",
           "red",
           "blue",
           "blue",
           "red",
           "blue",
           "green",
           "green",
           "orange",
           "orange",
           "orange",
           "blue",
           "orange",
           "green",
           "green",
           "orange",
           "green",
           "red",
           "blue",
           "blue",
           "blue",
           "blue",
           "orange",
           "green",
           "red",
           "green",
           "red",
           "red",
           "blue",
           "blue",
           "green",
           "blue",
           "blue",
           "orange",
           "red",
           "blue",
           "orange",
           "blue",
           "blue",
           "orange",
           "blue",
           "blue",
           "red",
           "blue",
           "orange",
           "red",
           "blue",
           "blue",
           "blue",
           "green",
           "red",
           "red",
           "blue",
           "blue",
           "blue",
           "blue",
           "red",
           "red",
           "red",
           "blue",
           "blue",
           "orange",
           "blue",
           "blue",
           "green",
           "green",
           "orange",
           "orange",
           "green",
           "red",
           "blue",
           "blue",
           "blue",
           "blue",
           "blue",
           "green",
           "orange",
           "red",
           "blue",
           "orange",
           "red",
           "green",
           "red",
           "red",
           "blue",
           "blue",
           "red",
           "blue",
           "orange",
           "blue",
           "blue",
           "blue",
           "blue",
           "red",
           "blue",
           "red",
           "green",
           "orange",
           "red",
           "blue",
           "orange",
           "green",
           "blue",
           "blue",
           "blue",
           "green",
           "red",
           "green",
           "blue",
           "orange",
           "red",
           "red",
           "red",
           "blue",
           "orange",
           "red",
           "blue",
           "red",
           "blue",
           "red",
           "orange",
           "orange",
           "green",
           "blue",
           "orange",
           "blue",
           "blue",
           "orange",
           "blue",
           "orange",
           "green",
           "blue",
           "red",
           "blue",
           "green",
           "orange",
           "red",
           "green",
           "blue",
           "green",
           "green",
           "orange",
           "orange",
           "orange",
           "blue",
           "blue",
           "blue",
           "orange",
           "red",
           "green",
           "green",
           "green",
           "blue",
           "red",
           "red",
           "blue",
           "green",
           "blue",
           "red",
           "blue",
           "orange",
           "orange",
           "orange",
           "orange",
           "blue",
           "orange",
           "red",
           "blue",
           "red",
           "green",
           "orange",
           "red",
           "orange",
           "blue",
           "green",
           "orange",
           "orange",
           "orange",
           "red",
           "blue",
           "blue",
           "blue",
           "orange",
           "blue",
           "red",
           "blue",
           "green",
           "blue",
           "red",
           "blue",
           "green",
           "orange",
           "red",
           "red",
           "blue",
           "orange",
           "blue",
           "red",
           "blue",
           "blue",
           "orange",
           "blue",
           "blue",
           "blue",
           "blue",
           "orange",
           "red",
           "blue",
           "red",
           "orange",
           "red",
           "green",
           "orange",
           "orange",
           "blue",
           "green",
           "blue",
           "green",
           "blue",
           "blue",
           "orange",
           "red",
           "blue",
           "orange",
           "red",
           "blue",
           "green",
           "orange",
           "blue",
           "blue",
           "orange",
           "blue",
           "green",
           "orange",
           "red",
           "red",
           "blue",
           "blue",
           "blue",
           "blue",
           "orange",
           "red",
           "orange",
           "blue",
           "blue",
           "blue",
           "green",
           "green",
           "blue",
           "orange",
           "red",
           "red",
           "green",
           "green",
           "orange",
           "green",
           "green",
           "red",
           "green",
           "orange",
           "red",
           "red",
           "red",
           "blue",
           "orange",
           "blue",
           "red",
           "orange",
           "orange",
           "orange",
           "red",
           "orange",
           "red",
           "blue",
           "green",
           "blue",
           "green",
           "green",
           "blue",
           "green",
           "orange",
           "orange",
           "red",
           "green",
           "red",
           "red",
           "orange",
           "red",
           "blue",
           "red",
           "blue",
           "blue",
           "red",
           "orange",
           "green",
           "blue",
           "red",
           "blue",
           "blue",
           "blue",
           "orange",
           "orange",
           "orange",
           "orange",
           "green",
           "blue",
           "red",
           "blue",
           "red",
           "blue",
           "orange",
           "orange",
           "red",
           "orange",
           "blue",
           "orange",
           "orange",
           "blue",
           "orange",
           "red",
           "red",
           "orange",
           "red",
           "blue",
           "green",
           "orange",
           "red",
           "green",
           "blue",
           "blue",
           "red",
           "orange",
           "blue",
           "green",
           "red",
           "orange",
           "red",
           "blue",
           "red",
           "blue",
           "red",
           "blue",
           "orange",
           "orange",
           "green",
           "orange",
           "orange",
           "blue",
           "red",
           "orange",
           "red",
           "red",
           "orange",
           "blue",
           "green"
          ],
          "opacity": 0.8,
          "size": 6
         },
         "mode": "markers+text",
         "text": [
          "C",
          "A",
          "A",
          "T",
          "T",
          "A",
          "C",
          "A",
          "T",
          "C",
          "G",
          "A",
          "A",
          "T",
          "A",
          "A",
          "T",
          "T",
          "T",
          "A",
          "T",
          "T",
          "T",
          "C",
          "G",
          "T",
          "T",
          "C",
          "C",
          "G",
          "T",
          "G",
          "A",
          "C",
          "T",
          "T",
          "T",
          "T",
          "A",
          "C",
          "G",
          "G",
          "A",
          "T",
          "C",
          "T",
          "T",
          "C",
          "T",
          "C",
          "A",
          "G",
          "T",
          "G",
          "T",
          "T",
          "C",
          "T",
          "G",
          "A",
          "G",
          "G",
          "T",
          "A",
          "T",
          "T",
          "T",
          "G",
          "T",
          "G",
          "T",
          "T",
          "T",
          "C",
          "C",
          "A",
          "A",
          "A",
          "C",
          "C",
          "A",
          "G",
          "G",
          "A",
          "C",
          "C",
          "G",
          "G",
          "A",
          "A",
          "G",
          "G",
          "A",
          "T",
          "A",
          "A",
          "T",
          "C",
          "A",
          "A",
          "T",
          "A",
          "A",
          "T",
          "T",
          "G",
          "T",
          "C",
          "C",
          "T",
          "A",
          "A",
          "T",
          "G",
          "T",
          "G",
          "T",
          "A",
          "C",
          "G",
          "T",
          "T",
          "C",
          "A",
          "G",
          "A",
          "G",
          "G",
          "T",
          "G",
          "T",
          "A",
          "G",
          "G",
          "G",
          "C",
          "C",
          "A",
          "C",
          "T",
          "T",
          "T",
          "T",
          "A",
          "C",
          "G",
          "G",
          "G",
          "A",
          "G",
          "A",
          "T",
          "T",
          "T",
          "A",
          "G",
          "T",
          "A",
          "G",
          "T",
          "A",
          "C",
          "A",
          "C",
          "T",
          "A",
          "A",
          "T",
          "T",
          "T",
          "T",
          "C",
          "C",
          "T",
          "C",
          "G",
          "A",
          "C",
          "C",
          "A",
          "T",
          "A",
          "G",
          "T",
          "T",
          "C",
          "G",
          "T",
          "G",
          "T",
          "G",
          "A",
          "A",
          "T",
          "A",
          "T",
          "T",
          "C",
          "A",
          "C",
          "C",
          "G",
          "A",
          "A",
          "T",
          "A",
          "T",
          "T",
          "G",
          "C",
          "G",
          "G",
          "A",
          "A",
          "C",
          "G",
          "A",
          "G",
          "T",
          "T",
          "G",
          "G",
          "T",
          "G",
          "T",
          "G",
          "G",
          "G",
          "G",
          "G",
          "T",
          "G",
          "C",
          "C",
          "C",
          "T",
          "A",
          "T",
          "G",
          "T",
          "C",
          "G",
          "T",
          "C",
          "A",
          "C",
          "T",
          "A",
          "T",
          "T",
          "T",
          "T",
          "T",
          "A",
          "A",
          "T",
          "T",
          "C",
          "G",
          "A",
          "T",
          "A",
          "C",
          "T",
          "T",
          "G",
          "C",
          "T",
          "T",
          "T",
          "C",
          "A",
          "A",
          "G",
          "C",
          "T",
          "G",
          "A",
          "T",
          "T",
          "C",
          "G",
          "G",
          "T",
          "A",
          "C",
          "A",
          "A",
          "T",
          "C",
          "G",
          "T",
          "G",
          "G",
          "T",
          "T",
          "C",
          "T",
          "C",
          "A",
          "A",
          "C",
          "C",
          "A",
          "T",
          "T",
          "T",
          "A",
          "A",
          "A",
          "G",
          "C",
          "A",
          "C",
          "G",
          "G",
          "T",
          "C",
          "G",
          "G",
          "T",
          "G",
          "G",
          "C",
          "G",
          "C",
          "C",
          "A",
          "G",
          "T",
          "A",
          "T",
          "G",
          "C",
          "T",
          "A",
          "A",
          "T",
          "T",
          "G",
          "G",
          "G",
          "T",
          "T",
          "T",
          "A",
          "A",
          "T",
          "T",
          "A",
          "T",
          "C",
          "C",
          "G",
          "G",
          "G",
          "T",
          "G",
          "C",
          "C",
          "G",
          "C",
          "A",
          "T",
          "T",
          "T",
          "T",
          "G",
          "C",
          "A",
          "C",
          "A",
          "A",
          "T",
          "T",
          "C",
          "T",
          "T",
          "G",
          "A",
          "T",
          "G",
          "T",
          "T",
          "G",
          "T",
          "T",
          "A",
          "T",
          "G",
          "A",
          "T",
          "T",
          "T",
          "C",
          "A",
          "A",
          "T",
          "T",
          "T",
          "T",
          "A",
          "A",
          "A",
          "T",
          "T",
          "G",
          "T",
          "T",
          "C",
          "C",
          "G",
          "G",
          "C",
          "A",
          "T",
          "T",
          "T",
          "T",
          "T",
          "C",
          "G",
          "A",
          "T",
          "G",
          "A",
          "C",
          "A",
          "A",
          "T",
          "T",
          "A",
          "T",
          "G",
          "T",
          "T",
          "T",
          "T",
          "A",
          "T",
          "A",
          "C",
          "G",
          "A",
          "T",
          "G",
          "C",
          "T",
          "T",
          "T",
          "C",
          "A",
          "C",
          "T",
          "G",
          "A",
          "A",
          "A",
          "T",
          "G",
          "A",
          "T",
          "A",
          "T",
          "A",
          "G",
          "G",
          "C",
          "T",
          "G",
          "T",
          "T",
          "G",
          "T",
          "G",
          "C",
          "T",
          "A",
          "T",
          "C",
          "G",
          "A",
          "C",
          "T",
          "C",
          "C",
          "G",
          "G",
          "G",
          "T",
          "T",
          "T",
          "G",
          "A",
          "C",
          "C",
          "C",
          "T",
          "A",
          "A",
          "T",
          "C",
          "T",
          "A",
          "T",
          "G",
          "G",
          "G",
          "G",
          "T",
          "G",
          "A",
          "T",
          "A",
          "C",
          "G",
          "A",
          "G",
          "T",
          "C",
          "G",
          "G",
          "G",
          "A",
          "T",
          "T",
          "T",
          "G",
          "T",
          "A",
          "T",
          "C",
          "T",
          "A",
          "T",
          "C",
          "G",
          "A",
          "A",
          "T",
          "G",
          "T",
          "A",
          "T",
          "T",
          "G",
          "T",
          "T",
          "T",
          "T",
          "G",
          "A",
          "T",
          "A",
          "G",
          "A",
          "C",
          "G",
          "G",
          "T",
          "C",
          "T",
          "C",
          "T",
          "T",
          "G",
          "A",
          "T",
          "G",
          "A",
          "T",
          "C",
          "G",
          "T",
          "T",
          "G",
          "T",
          "C",
          "G",
          "A",
          "A",
          "T",
          "T",
          "T",
          "T",
          "G",
          "A",
          "G",
          "T",
          "T",
          "T",
          "C",
          "C",
          "T",
          "G",
          "A",
          "A",
          "C",
          "C",
          "G",
          "C",
          "C",
          "A",
          "C",
          "G",
          "A",
          "A",
          "A",
          "T",
          "G",
          "T",
          "A",
          "G",
          "G",
          "G",
          "A",
          "G",
          "A",
          "T",
          "C",
          "T",
          "C",
          "C",
          "T",
          "C",
          "G",
          "G",
          "A",
          "C",
          "A",
          "A",
          "G",
          "A",
          "T",
          "A",
          "T",
          "T",
          "A",
          "G",
          "C",
          "T",
          "A",
          "T",
          "T",
          "T",
          "G",
          "G",
          "G",
          "G",
          "C",
          "T",
          "A",
          "T",
          "A",
          "T",
          "G",
          "G",
          "A",
          "G",
          "T",
          "G",
          "G",
          "T",
          "G",
          "A",
          "A",
          "G",
          "A",
          "T",
          "C",
          "G",
          "A",
          "C",
          "T",
          "T",
          "A",
          "G",
          "T",
          "C",
          "A",
          "G",
          "A",
          "T",
          "A",
          "T",
          "A",
          "T",
          "G",
          "G",
          "C",
          "G",
          "G",
          "T",
          "A",
          "G",
          "A",
          "A",
          "G",
          "T",
          "C"
         ],
         "textposition": "top center",
         "type": "scatter3d",
         "x": {
          "bdata": "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",
          "dtype": "f8"
         },
         "y": {
          "bdata": "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",
          "dtype": "f8"
         },
         "z": {
          "bdata": "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",
          "dtype": "f8"
         }
        },
        {
         "line": {
          "color": "lightgray",
          "width": 2
         },
         "mode": "lines",
         "name": "Helix",
         "type": "scatter3d",
         "x": {
          "bdata": "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",
          "dtype": "f8"
         },
         "y": {
          "bdata": "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",
          "dtype": "f8"
         },
         "z": {
          "bdata": "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",
          "dtype": "f8"
         }
        },
        {
         "line": {
          "color": "gray",
          "width": 1
         },
         "mode": "lines",
         "name": "Hydrogen Bond",
         "type": "scatter3d",
         "x": [
          2,
          -2
         ],
         "y": [
          0,
          0
         ],
         "z": [
          0,
          0
         ]
        },
        {
         "line": {
          "color": "gray",
          "width": 1
         },
         "mode": "lines",
         "name": "Hydrogen Bond",
         "type": "scatter3d",
         "x": [
          1.9996768131514666,
          -1.9996768131514666
         ],
         "y": [
          0.03595334399460429,
          -0.03595334399460429
         ],
         "z": [
          0.01430615164520744,
          0.01430615164520744
         ]
        },
        {
         "line": {
          "color": "gray",
          "width": 1
         },
         "mode": "lines",
         "name": "Hydrogen Bond",
         "type": "scatter3d",
         "x": [
          1.9987073570556058,
          -1.9987073570556058
         ],
         "y": [
          0.07189506834126871,
          -0.07189506834126871
         ],
         "z": [
          0.02861230329041488,
          0.02861230329041488
         ]
        },
        {
         "line": {
          "color": "gray",
          "width": 1
         },
         "mode": "lines",
         "name": "Hydrogen Bond",
         "type": "scatter3d",
         "x": [
          1.9970919450278775,
          -1.9970919450278775
         ],
         "y": [
          0.10781355714737084,
          -0.10781355714737084
         ],
         "z": [
          0.04291845493562232,
          0.04291845493562232
         ]
        },
        {
         "line": {
          "color": "gray",
          "width": 1
         },
         "mode": "lines",
         "name": "Hydrogen Bond",
         "type": "scatter3d",
         "x": [
          1.9948310991482043,
          -1.9948310991482043
         ],
         "y": [
          0.14369720202970934,
          -0.14369720202970934
         ],
         "z": [
          0.05722460658082976,
          0.05722460658082976
         ]
        },
        {
         "line": {
          "color": "gray",
          "width": 1
         },
         "mode": "lines",
         "name": "Hydrogen Bond",
         "type": "scatter3d",
         "x": [
          1.991925550092241,
          -1.991925550092241
         ],
         "y": [
          0.1795344058661808,
          -0.1795344058661808
         ],
         "z": [
          0.07153075822603719,
          0.07153075822603719
         ]
        },
        {
         "line": {
          "color": "gray",
          "width": 1
         },
         "mode": "lines",
         "name": "Hydrogen Bond",
         "type": "scatter3d",
         "x": [
          1.9883762368952307,
          -1.9883762368952307
         ],
         "y": [
          0.21531358654381705,
          -0.21531358654381705
         ],
         "z": [
          0.08583690987124463,
          0.08583690987124463
         ]
        },
        {
         "line": {
          "color": "gray",
          "width": 1
         },
         "mode": "lines",
         "name": "Hydrogen Bond",
         "type": "scatter3d",
         "x": [
          1.9841843066485192,
          -1.9841843066485192
         ],
         "y": [
          0.25102318070197177,
          -0.25102318070197177
         ],
         "z": [
          0.10014306151645208,
          0.10014306151645208
         ]
        },
        {
         "line": {
          "color": "gray",
          "width": 1
         },
         "mode": "lines",
         "name": "Hydrogen Bond",
         "type": "scatter3d",
         "x": [
          1.979351114128833,
          -1.979351114128833
         ],
         "y": [
          0.28665164746944666,
          -0.28665164746944666
         ],
         "z": [
          0.11444921316165951,
          0.11444921316165951
         ]
        },
        {
         "line": {
          "color": "gray",
          "width": 1
         },
         "mode": "lines",
         "name": "Hydrogen Bond",
         "type": "scatter3d",
         "x": [
          1.9738782213604302,
          -1.9738782213604302
         ],
         "y": [
          0.322187472194349,
          -0.322187472194349
         ],
         "z": [
          0.12875536480686695,
          0.12875536480686695
         ]
        },
        {
         "line": {
          "color": "gray",
          "width": 1
         },
         "mode": "lines",
         "name": "Hydrogen Bond",
         "type": "scatter3d",
         "x": [
          1.9677673971102774,
          -1.9677673971102774
         ],
         "y": [
          0.3576191701654759,
          -0.3576191701654759
         ],
         "z": [
          0.14306151645207438,
          0.14306151645207438
         ]
        },
        {
         "line": {
          "color": "gray",
          "width": 1
         },
         "mode": "lines",
         "name": "Hydrogen Bond",
         "type": "scatter3d",
         "x": [
          1.961020616316406,
          -1.961020616316406
         ],
         "y": [
          0.39293529032402186,
          -0.39293529032402186
         ],
         "z": [
          0.15736766809728184,
          0.15736766809728184
         ]
        },
        {
         "line": {
          "color": "gray",
          "width": 1
         },
         "mode": "lines",
         "name": "Hydrogen Bond",
         "type": "scatter3d",
         "x": [
          1.9536400594496381,
          -1.9536400594496381
         ],
         "y": [
          0.4281244189644105,
          -0.4281244189644105
         ],
         "z": [
          0.17167381974248927,
          0.17167381974248927
         ]
        },
        {
         "line": {
          "color": "gray",
          "width": 1
         },
         "mode": "lines",
         "name": "Hydrogen Bond",
         "type": "scatter3d",
         "x": [
          1.9456281118088885,
          -1.9456281118088885
         ],
         "y": [
          0.4631751834230539,
          -0.4631751834230539
         ],
         "z": [
          0.1859799713876967,
          0.1859799713876967
         ]
        },
        {
         "line": {
          "color": "gray",
          "width": 1
         },
         "mode": "lines",
         "name": "Hydrogen Bond",
         "type": "scatter3d",
         "x": [
          1.9369873627502652,
          -1.9369873627502652
         ],
         "y": [
          0.49807625575384784,
          -0.49807625575384784
         ],
         "z": [
          0.20028612303290416,
          0.20028612303290416
         ]
        },
        {
         "line": {
          "color": "gray",
          "width": 1
         },
         "mode": "lines",
         "name": "Hydrogen Bond",
         "type": "scatter3d",
         "x": [
          1.9277206048502258,
          -1.9277206048502258
         ],
         "y": [
          0.5328163563892155,
          -0.5328163563892155
         ],
         "z": [
          0.2145922746781116,
          0.2145922746781116
         ]
        },
        {
         "line": {
          "color": "gray",
          "width": 1
         },
         "mode": "lines",
         "name": "Hydrogen Bond",
         "type": "scatter3d",
         "x": [
          1.917830833003052,
          -1.917830833003052
         ],
         "y": [
          0.5673842577855147,
          -0.5673842577855147
         ],
         "z": [
          0.22889842632331903,
          0.22889842632331903
         ]
        },
        {
         "line": {
          "color": "gray",
          "width": 1
         },
         "mode": "lines",
         "name": "Hydrogen Bond",
         "type": "scatter3d",
         "x": [
          1.90732124345294,
          -1.90732124345294
         ],
         "y": [
          0.6017687880516328,
          -0.6017687880516328
         ],
         "z": [
          0.24320457796852646,
          0.24320457796852646
         ]
        },
        {
         "line": {
          "color": "gray",
          "width": 1
         },
         "mode": "lines",
         "name": "Hydrogen Bond",
         "type": "scatter3d",
         "x": [
          1.8961952327610156,
          -1.8961952327610156
         ],
         "y": [
          0.6359588345595947,
          -0.6359588345595947
         ],
         "z": [
          0.2575107296137339,
          0.2575107296137339
         ]
        },
        {
         "line": {
          "color": "gray",
          "width": 1
         },
         "mode": "lines",
         "name": "Hydrogen Bond",
         "type": "scatter3d",
         "x": [
          1.8844563967076113,
          -1.8844563967076113
         ],
         "y": [
          0.6699433475360183,
          -0.6699433475360183
         ],
         "z": [
          0.2718168812589413,
          0.2718168812589413
         ]
        },
        {
         "line": {
          "color": "gray",
          "width": 1
         },
         "mode": "lines",
         "name": "Hydrogen Bond",
         "type": "scatter3d",
         "x": [
          1.8721085291301565,
          -1.8721085291301565
         ],
         "y": [
          0.7037113436332558,
          -0.7037113436332558
         ],
         "z": [
          0.28612303290414876,
          0.28612303290414876
         ]
        },
        {
         "line": {
          "color": "gray",
          "width": 1
         },
         "mode": "lines",
         "name": "Hydrogen Bond",
         "type": "scatter3d",
         "x": [
          1.8591556206970596,
          -1.8591556206970596
         ],
         "y": [
          0.7372519094790675,
          -0.7372519094790675
         ],
         "z": [
          0.30042918454935624,
          0.30042918454935624
         ]
        },
        {
         "line": {
          "color": "gray",
          "width": 1
         },
         "mode": "lines",
         "name": "Hydrogen Bond",
         "type": "scatter3d",
         "x": [
          1.8456018576179767,
          -1.8456018576179767
         ],
         "y": [
          0.7705542052036792,
          -0.7705542052036792
         ],
         "z": [
          0.3147353361945637,
          0.3147353361945637
         ]
        },
        {
         "line": {
          "color": "gray",
          "width": 1
         },
         "mode": "lines",
         "name": "Hydrogen Bond",
         "type": "scatter3d",
         "x": [
          1.8314516202908828,
          -1.8314516202908828
         ],
         "y": [
          0.8036074679430872,
          -0.8036074679430872
         ],
         "z": [
          0.3290414878397711,
          0.3290414878397711
         ]
        },
        {
         "line": {
          "color": "gray",
          "width": 1
         },
         "mode": "lines",
         "name": "Hydrogen Bond",
         "type": "scatter3d",
         "x": [
          1.8167094818863858,
          -1.8167094818863858
         ],
         "y": [
          0.8364010153174728,
          -0.8364010153174728
         ],
         "z": [
          0.34334763948497854,
          0.34334763948497854
         ]
        },
        {
         "line": {
          "color": "gray",
          "width": 1
         },
         "mode": "lines",
         "name": "Hydrogen Bond",
         "type": "scatter3d",
         "x": [
          1.8013802068697373,
          -1.8013802068697373
         ],
         "y": [
          0.8689242488836078,
          -0.8689242488836078
         ],
         "z": [
          0.35765379113018597,
          0.35765379113018597
         ]
        },
        {
         "line": {
          "color": "gray",
          "width": 1
         },
         "mode": "lines",
         "name": "Hydrogen Bond",
         "type": "scatter3d",
         "x": [
          1.7854687494610204,
          -1.7854687494610204
         ],
         "y": [
          0.9011666575601319,
          -0.9011666575601319
         ],
         "z": [
          0.3719599427753934,
          0.3719599427753934
         ]
        },
        {
         "line": {
          "color": "gray",
          "width": 1
         },
         "mode": "lines",
         "name": "Hydrogen Bond",
         "type": "scatter3d",
         "x": [
          1.7689802520340103,
          -1.7689802520340103
         ],
         "y": [
          0.9331178210245957,
          -0.9331178210245957
         ],
         "z": [
          0.38626609442060084,
          0.38626609442060084
         ]
        },
        {
         "line": {
          "color": "gray",
          "width": 1
         },
         "mode": "lines",
         "name": "Hydrogen Bond",
         "type": "scatter3d",
         "x": [
          1.7519200434542275,
          -1.7519200434542275
         ],
         "y": [
          0.9647674130811723,
          -0.9647674130811723
         ],
         "z": [
          0.4005722460658083,
          0.4005722460658083
         ]
        },
        {
         "line": {
          "color": "gray",
          "width": 1
         },
         "mode": "lines",
         "name": "Hydrogen Bond",
         "type": "scatter3d",
         "x": [
          1.7342936373567184,
          -1.7342936373567184
         ],
         "y": [
          0.9961052049979477,
          -0.9961052049979477
         ],
         "z": [
          0.41487839771101576,
          0.41487839771101576
         ]
        },
        {
         "line": {
          "color": "gray",
          "width": 1
         },
         "mode": "lines",
         "name": "Hydrogen Bond",
         "type": "scatter3d",
         "x": [
          1.7161067303641206,
          -1.7161067303641206
         ],
         "y": [
          1.027121068812712,
          -1.027121068812712
         ],
         "z": [
          0.4291845493562232,
          0.4291845493562232
         ]
        },
        {
         "line": {
          "color": "gray",
          "width": 1
         },
         "mode": "lines",
         "name": "Hydrogen Bond",
         "type": "scatter3d",
         "x": [
          1.6973652002455892,
          -1.6973652002455892
         ],
         "y": [
          1.0578049806061847,
          -1.0578049806061847
         ],
         "z": [
          0.4434907010014306,
          0.4434907010014306
         ]
        },
        {
         "line": {
          "color": "gray",
          "width": 1
         },
         "mode": "lines",
         "name": "Hydrogen Bond",
         "type": "scatter3d",
         "x": [
          1.6780751040171806,
          -1.6780751040171806
         ],
         "y": [
          1.088147023741612,
          -1.088147023741612
         ],
         "z": [
          0.45779685264663805,
          0.45779685264663805
         ]
        },
        {
         "line": {
          "color": "gray",
          "width": 1
         },
         "mode": "lines",
         "name": "Hydrogen Bond",
         "type": "scatter3d",
         "x": [
          1.6582426759843023,
          -1.6582426759843023
         ],
         "y": [
          1.1181373920696955,
          -1.1181373920696955
         ],
         "z": [
          0.4721030042918455,
          0.4721030042918455
         ]
        },
        {
         "line": {
          "color": "gray",
          "width": 1
         },
         "mode": "lines",
         "name": "Hydrogen Bond",
         "type": "scatter3d",
         "x": [
          1.637874325726869,
          -1.637874325726869
         ],
         "y": [
          1.1477663930978088,
          -1.1477663930978088
         ],
         "z": [
          0.4864091559370529,
          0.4864091559370529
         ]
        },
        {
         "line": {
          "color": "gray",
          "width": 1
         },
         "mode": "lines",
         "name": "Hydrogen Bond",
         "type": "scatter3d",
         "x": [
          1.6169766360278106,
          -1.6169766360278106
         ],
         "y": [
          1.1770244511224843,
          -1.1770244511224843
         ],
         "z": [
          0.5007153075822603,
          0.5007153075822603
         ]
        },
        {
         "line": {
          "color": "gray",
          "width": 1
         },
         "mode": "lines",
         "name": "Hydrogen Bond",
         "type": "scatter3d",
         "x": [
          1.595556360745602,
          -1.595556360745602
         ],
         "y": [
          1.2059021103241547,
          -1.2059021103241547
         ],
         "z": [
          0.5150214592274678,
          0.5150214592274678
         ]
        },
        {
         "line": {
          "color": "gray",
          "width": 1
         },
         "mode": "lines",
         "name": "Hydrogen Bond",
         "type": "scatter3d",
         "x": [
          1.5736204226315071,
          -1.5736204226315071
         ],
         "y": [
          1.2343900378231498,
          -1.2343900378231498
         ],
         "z": [
          0.5293276108726752,
          0.5293276108726752
         ]
        },
        {
         "line": {
          "color": "gray",
          "width": 1
         },
         "mode": "lines",
         "name": "Hydrogen Bond",
         "type": "scatter3d",
         "x": [
          1.5511759110922339,
          -1.5511759110922339
         ],
         "y": [
          1.2624790266959598,
          -1.2624790266959598
         ],
         "z": [
          0.5436337625178826,
          0.5436337625178826
         ]
        },
        {
         "line": {
          "color": "gray",
          "width": 1
         },
         "mode": "lines",
         "name": "Hydrogen Bond",
         "type": "scatter3d",
         "x": [
          1.5282300798987338,
          -1.5282300798987338
         ],
         "y": [
          1.2901599989507928,
          -1.2901599989507928
         ],
         "z": [
          0.5579399141630901,
          0.5579399141630901
         ]
        },
        {
         "line": {
          "color": "gray",
          "width": 1
         },
         "mode": "lines",
         "name": "Hydrogen Bond",
         "type": "scatter3d",
         "x": [
          1.5047903448418778,
          -1.5047903448418778
         ],
         "y": [
          1.3174240084614606,
          -1.3174240084614606
         ],
         "z": [
          0.5722460658082975,
          0.5722460658082975
         ]
        },
        {
         "line": {
          "color": "gray",
          "width": 1
         },
         "mode": "lines",
         "name": "Hydrogen Bond",
         "type": "scatter3d",
         "x": [
          1.4808642813357686,
          -1.4808642813357686
         ],
         "y": [
          1.3442622438586518,
          -1.3442622438586518
         ],
         "z": [
          0.586552217453505,
          0.586552217453505
         ]
        },
        {
         "line": {
          "color": "gray",
          "width": 1
         },
         "mode": "lines",
         "name": "Hydrogen Bond",
         "type": "scatter3d",
         "x": [
          1.456459621969469,
          -1.456459621969469
         ],
         "y": [
          1.370666031377648,
          -1.370666031377648
         ],
         "z": [
          0.6008583690987125,
          0.6008583690987125
         ]
        },
        {
         "line": {
          "color": "gray",
          "width": 1
         },
         "mode": "lines",
         "name": "Hydrogen Bond",
         "type": "scatter3d",
         "x": [
          1.4315842540079289,
          -1.4315842540079289
         ],
         "y": [
          1.3966268376615716,
          -1.3966268376615716
         ],
         "z": [
          0.6151645207439199,
          0.6151645207439199
         ]
        },
        {
         "line": {
          "color": "gray",
          "width": 1
         },
         "mode": "lines",
         "name": "Hydrogen Bond",
         "type": "scatter3d",
         "x": [
          1.4062462168429262,
          -1.4062462168429262
         ],
         "y": [
          1.422136272519254,
          -1.422136272519254
         ],
         "z": [
          0.6294706723891274,
          0.6294706723891274
         ]
        },
        {
         "line": {
          "color": "gray",
          "width": 1
         },
         "mode": "lines",
         "name": "Hydrogen Bond",
         "type": "scatter3d",
         "x": [
          1.38045369939484,
          -1.38045369939484
         ],
         "y": [
          1.4471860916368362,
          -1.4471860916368362
         ],
         "z": [
          0.6437768240343348,
          0.6437768240343348
         ]
        },
        {
         "line": {
          "color": "gray",
          "width": 1
         },
         "mode": "lines",
         "name": "Hydrogen Bond",
         "type": "scatter3d",
         "x": [
          1.3542150374661002,
          -1.3542150374661002
         ],
         "y": [
          1.4717681992422207,
          -1.4717681992422207
         ],
         "z": [
          0.6580829756795422,
          0.6580829756795422
         ]
        },
        {
         "line": {
          "color": "gray",
          "width": 1
         },
         "mode": "lines",
         "name": "Hydrogen Bond",
         "type": "scatter3d",
         "x": [
          1.327538711047165,
          -1.327538711047165
         ],
         "y": [
          1.4958746507215208,
          -1.4958746507215208
         ],
         "z": [
          0.6723891273247496,
          0.6723891273247496
         ]
        },
        {
         "line": {
          "color": "gray",
          "width": 1
         },
         "mode": "lines",
         "name": "Hydrogen Bond",
         "type": "scatter3d",
         "x": [
          1.3004333415759008,
          -1.3004333415759008
         ],
         "y": [
          1.519497655186653,
          -1.519497655186653
         ],
         "z": [
          0.6866952789699571,
          0.6866952789699571
         ]
        },
        {
         "line": {
          "color": "gray",
          "width": 1
         },
         "mode": "lines",
         "name": "Hydrogen Bond",
         "type": "scatter3d",
         "x": [
          1.2729076891512447,
          -1.2729076891512447
         ],
         "y": [
          1.5426295779932517,
          -1.5426295779932517
         ],
         "z": [
          0.7010014306151645,
          0.7010014306151645
         ]
        },
        {
         "line": {
          "color": "gray",
          "width": 1
         },
         "mode": "lines",
         "name": "Hydrogen Bond",
         "type": "scatter3d",
         "x": [
          1.244970649702058,
          -1.244970649702058
         ],
         "y": [
          1.5652629432080847,
          -1.5652629432080847
         ],
         "z": [
          0.7153075822603719,
          0.7153075822603719
         ]
        },
        {
         "line": {
          "color": "gray",
          "width": 1
         },
         "mode": "lines",
         "name": "Hydrogen Bond",
         "type": "scatter3d",
         "x": [
          1.216631252112078,
          -1.216631252112078
         ],
         "y": [
          1.5873904360251758,
          -1.5873904360251758
         ],
         "z": [
          0.7296137339055794,
          0.7296137339055794
         ]
        },
        {
         "line": {
          "color": "gray",
          "width": 1
         },
         "mode": "lines",
         "name": "Hydrogen Bond",
         "type": "scatter3d",
         "x": [
          1.1878986553019,
          -1.1878986553019
         ],
         "y": [
          1.6090049051298563,
          -1.6090049051298563
         ],
         "z": [
          0.7439198855507868,
          0.7439198855507868
         ]
        },
        {
         "line": {
          "color": "gray",
          "width": 1
         },
         "mode": "lines",
         "name": "Hydrogen Bond",
         "type": "scatter3d",
         "x": [
          1.1587821452689384,
          -1.1587821452689384
         ],
         "y": [
          1.6300993650099729,
          -1.6300993650099729
         ],
         "z": [
          0.7582260371959942,
          0.7582260371959942
         ]
        },
        {
         "line": {
          "color": "gray",
          "width": 1
         },
         "mode": "lines",
         "name": "Hydrogen Bond",
         "type": "scatter3d",
         "x": [
          1.1292911320863106,
          -1.1292911320863106
         ],
         "y": [
          1.6506669982135158,
          -1.6506669982135158
         ],
         "z": [
          0.7725321888412017,
          0.7725321888412017
         ]
        },
        {
         "line": {
          "color": "gray",
          "width": 1
         },
         "mode": "lines",
         "name": "Hydrogen Bond",
         "type": "scatter3d",
         "x": [
          1.099435146861627,
          -1.099435146861627
         ],
         "y": [
          1.6707011575519282,
          -1.6707011575519282
         ],
         "z": [
          0.7868383404864091,
          0.7868383404864091
         ]
        },
        {
         "line": {
          "color": "gray",
          "width": 1
         },
         "mode": "lines",
         "name": "Hydrogen Bond",
         "type": "scatter3d",
         "x": [
          1.0692238386566626,
          -1.0692238386566626
         ],
         "y": [
          1.6901953682483901,
          -1.6901953682483901
         ],
         "z": [
          0.8011444921316166,
          0.8011444921316166
         ]
        },
        {
         "line": {
          "color": "gray",
          "width": 1
         },
         "mode": "lines",
         "name": "Hydrogen Bond",
         "type": "scatter3d",
         "x": [
          1.0386669713689056,
          -1.0386669713689056
         ],
         "y": [
          1.7091433300303824,
          -1.7091433300303824
         ],
         "z": [
          0.8154506437768241,
          0.8154506437768241
         ]
        },
        {
         "line": {
          "color": "gray",
          "width": 1
         },
         "mode": "lines",
         "name": "Hydrogen Bond",
         "type": "scatter3d",
         "x": [
          1.0077744205759966,
          -1.0077744205759966
         ],
         "y": [
          1.7275389191658503,
          -1.7275389191658503
         ],
         "z": [
          0.8297567954220315,
          0.8297567954220315
         ]
        },
        {
         "line": {
          "color": "gray",
          "width": 1
         },
         "mode": "lines",
         "name": "Hydrogen Bond",
         "type": "scatter3d",
         "x": [
          0.9765561703440692,
          -0.9765561703440692
         ],
         "y": [
          1.7453761904423142,
          -1.7453761904423142
         ],
         "z": [
          0.844062947067239,
          0.844062947067239
         ]
        },
        {
         "line": {
          "color": "gray",
          "width": 1
         },
         "mode": "lines",
         "name": "Hydrogen Bond",
         "type": "scatter3d",
         "x": [
          0.9450223100010322,
          -0.9450223100010322
         ],
         "y": [
          1.762649379088284,
          -1.762649379088284
         ],
         "z": [
          0.8583690987124464,
          0.8583690987124464
         ]
        },
        {
         "line": {
          "color": "gray",
          "width": 1
         },
         "mode": "lines",
         "name": "Hydrogen Bond",
         "type": "scatter3d",
         "x": [
          0.9131830308758324,
          -0.9131830308758324
         ],
         "y": [
          1.7793529026363568,
          -1.7793529026363568
         ],
         "z": [
          0.8726752503576538,
          0.8726752503576538
         ]
        },
        {
         "line": {
          "color": "gray",
          "width": 1
         },
         "mode": "lines",
         "name": "Hydrogen Bond",
         "type": "scatter3d",
         "x": [
          0.8810486230047494,
          -0.8810486230047494
         ],
         "y": [
          1.7954813627273982,
          -1.7954813627273982
         ],
         "z": [
          0.8869814020028612,
          0.8869814020028612
         ]
        },
        {
         "line": {
          "color": "gray",
          "width": 1
         },
         "mode": "lines",
         "name": "Hydrogen Bond",
         "type": "scatter3d",
         "x": [
          0.8486294718057932,
          -0.8486294718057932
         ],
         "y": [
          1.811029546855219,
          -1.811029546855219
         ],
         "z": [
          0.9012875536480687,
          0.9012875536480687
         ]
        },
        {
         "line": {
          "color": "gray",
          "width": 1
         },
         "mode": "lines",
         "name": "Hydrogen Bond",
         "type": "scatter3d",
         "x": [
          0.8159360547222715,
          -0.8159360547222715
         ],
         "y": [
          1.8259924300511912,
          -1.8259924300511912
         ],
         "z": [
          0.9155937052932761,
          0.9155937052932761
         ]
        },
        {
         "line": {
          "color": "gray",
          "width": 1
         },
         "mode": "lines",
         "name": "Hydrogen Bond",
         "type": "scatter3d",
         "x": [
          0.7829789378366194,
          -0.7829789378366194
         ],
         "y": [
          1.8403651765082492,
          -1.8403651765082492
         ],
         "z": [
          0.9298998569384835,
          0.9298998569384835
         ]
        },
        {
         "line": {
          "color": "gray",
          "width": 1
         },
         "mode": "lines",
         "name": "Hydrogen Bond",
         "type": "scatter3d",
         "x": [
          0.7497687724555799,
          -0.7497687724555799
         ],
         "y": [
          1.854143141143761,
          -1.854143141143761
         ],
         "z": [
          0.944206008583691,
          0.944206008583691
         ]
        },
        {
         "line": {
          "color": "gray",
          "width": 1
         },
         "mode": "lines",
         "name": "Hydrogen Bond",
         "type": "scatter3d",
         "x": [
          0.7163162916678414,
          -0.7163162916678414
         ],
         "y": [
          1.8673218711007569,
          -1.8673218711007569
         ],
         "z": [
          0.9585121602288984,
          0.9585121602288984
         ]
        },
        {
         "line": {
          "color": "gray",
          "width": 1
         },
         "mode": "lines",
         "name": "Hydrogen Bond",
         "type": "scatter3d",
         "x": [
          0.682632306875246,
          -0.682632306875246
         ],
         "y": [
          1.8798971071870343,
          -1.8798971071870343
         ],
         "z": [
          0.9728183118741058,
          0.9728183118741058
         ]
        },
        {
         "line": {
          "color": "gray",
          "width": 1
         },
         "mode": "lines",
         "name": "Hydrogen Bond",
         "type": "scatter3d",
         "x": [
          0.6487277042986846,
          -0.6487277042986846
         ],
         "y": [
          1.8918647852516728,
          -1.8918647852516728
         ],
         "z": [
          0.9871244635193133,
          0.9871244635193133
         ]
        },
        {
         "line": {
          "color": "gray",
          "width": 1
         },
         "mode": "lines",
         "name": "Hydrogen Bond",
         "type": "scatter3d",
         "x": [
          0.6146134414598147,
          -0.6146134414598147
         ],
         "y": [
          1.9032210374985148,
          -1.9032210374985148
         ],
         "z": [
          1.0014306151645207,
          1.0014306151645207
         ]
        },
        {
         "line": {
          "color": "gray",
          "width": 1
         },
         "mode": "lines",
         "name": "Hydrogen Bond",
         "type": "scatter3d",
         "x": [
          0.580300543639733,
          -0.580300543639733
         ],
         "y": [
          1.913962193736185,
          -1.913962193736185
         ],
         "z": [
          1.0157367668097281,
          1.0157367668097281
         ]
        },
        {
         "line": {
          "color": "gray",
          "width": 1
         },
         "mode": "lines",
         "name": "Hydrogen Bond",
         "type": "scatter3d",
         "x": [
          0.5458001003157499,
          -0.5458001003157499
         ],
         "y": [
          1.92408478256425,
          -1.92408478256425
         ],
         "z": [
          1.0300429184549356,
          1.0300429184549356
         ]
        },
        {
         "line": {
          "color": "gray",
          "width": 1
         },
         "mode": "lines",
         "name": "Hydrogen Bond",
         "type": "scatter3d",
         "x": [
          0.5111232615774169,
          -0.5111232615774169
         ],
         "y": [
          1.933585532495127,
          -1.933585532495127
         ],
         "z": [
          1.044349070100143,
          1.044349070100143
         ]
        },
        {
         "line": {
          "color": "gray",
          "width": 1
         },
         "mode": "lines",
         "name": "Hydrogen Bond",
         "type": "scatter3d",
         "x": [
          0.47628123452296267,
          -0.47628123452296267
         ],
         "y": [
          1.9424613730113869,
          -1.9424613730113869
         ],
         "z": [
          1.0586552217453504,
          1.0586552217453504
         ]
        },
        {
         "line": {
          "color": "gray",
          "width": 1
         },
         "mode": "lines",
         "name": "Hydrogen Bond",
         "type": "scatter3d",
         "x": [
          0.44128527963730735,
          -0.44128527963730735
         ],
         "y": [
          1.9507094355581058,
          -1.9507094355581058
         ],
         "z": [
          1.0729613733905579,
          1.0729613733905579
         ]
        },
        {
         "line": {
          "color": "gray",
          "width": 1
         },
         "mode": "lines",
         "name": "Hydrogen Bond",
         "type": "scatter3d",
         "x": [
          0.40614670715282186,
          -0.40614670715282186
         ],
         "y": [
          1.9583270544699423,
          -1.9583270544699423
         ],
         "z": [
          1.0872675250357653,
          1.0872675250357653
         ]
        },
        {
         "line": {
          "color": "gray",
          "width": 1
         },
         "mode": "lines",
         "name": "Hydrogen Bond",
         "type": "scatter3d",
         "x": [
          0.3708768733940095,
          -0.3708768733940095
         ],
         "y": [
          1.9653117678326468,
          -1.9653117678326468
         ],
         "z": [
          1.1015736766809727,
          1.1015736766809727
         ]
        },
        {
         "line": {
          "color": "gray",
          "width": 1
         },
         "mode": "lines",
         "name": "Hydrogen Bond",
         "type": "scatter3d",
         "x": [
          0.3354871771072906,
          -0.3354871771072906
         ],
         "y": [
          1.9716613182787204,
          -1.9716613182787204
         ],
         "z": [
          1.1158798283261802,
          1.1158798283261802
         ]
        },
        {
         "line": {
          "color": "gray",
          "width": 1
         },
         "mode": "lines",
         "name": "Hydrogen Bond",
         "type": "scatter3d",
         "x": [
          0.29998905577707946,
          -0.29998905577707946
         ],
         "y": [
          1.9773736537169642,
          -1.9773736537169642
         ],
         "z": [
          1.1301859799713876,
          1.1301859799713876
         ]
        },
        {
         "line": {
          "color": "gray",
          "width": 1
         },
         "mode": "lines",
         "name": "Hydrogen Bond",
         "type": "scatter3d",
         "x": [
          0.2643939819293372,
          -0.2643939819293372
         ],
         "y": [
          1.9824469279956902,
          -1.9824469279956902
         ],
         "z": [
          1.144492131616595,
          1.144492131616595
         ]
        },
        {
         "line": {
          "color": "gray",
          "width": 1
         },
         "mode": "lines",
         "name": "Hydrogen Bond",
         "type": "scatter3d",
         "x": [
          0.22871345942380406,
          -0.22871345942380406
         ],
         "y": [
          1.9868795014993728,
          -1.9868795014993728
         ],
         "z": [
          1.1587982832618027,
          1.1587982832618027
         ]
        },
        {
         "line": {
          "color": "gray",
          "width": 1
         },
         "mode": "lines",
         "name": "Hydrogen Bond",
         "type": "scatter3d",
         "x": [
          0.19295901973610255,
          -0.19295901973610255
         ],
         "y": [
          1.9906699416785503,
          -1.9906699416785503
         ],
         "z": [
          1.17310443490701,
          1.17310443490701
         ]
        },
        {
         "line": {
          "color": "gray",
          "width": 1
         },
         "mode": "lines",
         "name": "Hydrogen Bond",
         "type": "scatter3d",
         "x": [
          0.157142218230916,
          -0.157142218230916
         ],
         "y": [
          1.9938170235128065,
          -1.9938170235128065
         ],
         "z": [
          1.1874105865522175,
          1.1874105865522175
         ]
        },
        {
         "line": {
          "color": "gray",
          "width": 1
         },
         "mode": "lines",
         "name": "Hydrogen Bond",
         "type": "scatter3d",
         "x": [
          0.12127463042744833,
          -0.12127463042744833
         ],
         "y": [
          1.9963197299066815,
          -1.9963197299066815
         ],
         "z": [
          1.201716738197425,
          1.201716738197425
         ]
        },
        {
         "line": {
          "color": "gray",
          "width": 1
         },
         "mode": "lines",
         "name": "Hydrogen Bond",
         "type": "scatter3d",
         "x": [
          0.08536784825836574,
          -0.08536784825836574
         ],
         "y": [
          1.9981772520183831,
          -1.9981772520183831
         ],
         "z": [
          1.2160228898426324,
          1.2160228898426324
         ]
        },
        {
         "line": {
          "color": "gray",
          "width": 1
         },
         "mode": "lines",
         "name": "Hydrogen Bond",
         "type": "scatter3d",
         "x": [
          0.049433476323438474,
          -0.049433476323438474
         ],
         "y": [
          1.9993889895211938,
          -1.9993889895211938
         ],
         "z": [
          1.2303290414878398,
          1.2303290414878398
         ]
        },
        {
         "line": {
          "color": "gray",
          "width": 1
         },
         "mode": "lines",
         "name": "Hydrogen Bond",
         "type": "scatter3d",
         "x": [
          0.013483128139086175,
          -0.013483128139086175
         ],
         "y": [
          1.9999545507974887,
          -1.9999545507974887
         ],
         "z": [
          1.2446351931330473,
          1.2446351931330473
         ]
        },
        {
         "line": {
          "color": "gray",
          "width": 1
         },
         "mode": "lines",
         "name": "Hydrogen Bond",
         "type": "scatter3d",
         "x": [
          -0.022471577614957765,
          0.022471577614957765
         ],
         "y": [
          1.9998737530653017,
          -1.9998737530653017
         ],
         "z": [
          1.2589413447782547,
          1.2589413447782547
         ]
        },
        {
         "line": {
          "color": "gray",
          "width": 1
         },
         "mode": "lines",
         "name": "Hydrogen Bond",
         "type": "scatter3d",
         "x": [
          -0.05841902085065119,
          0.05841902085065119
         ],
         "y": [
          1.9991466224373966,
          -1.9991466224373966
         ],
         "z": [
          1.2732474964234621,
          1.2732474964234621
         ]
        },
        {
         "line": {
          "color": "gray",
          "width": 1
         },
         "mode": "lines",
         "name": "Hydrogen Bond",
         "type": "scatter3d",
         "x": [
          -0.09434758382710105,
          0.09434758382710105
         ],
         "y": [
          1.9977733939128302,
          -1.9977733939128302
         ],
         "z": [
          1.2875536480686696,
          1.2875536480686696
         ]
        },
        {
         "line": {
          "color": "gray",
          "width": 1
         },
         "mode": "lines",
         "name": "Hydrogen Bond",
         "type": "scatter3d",
         "x": [
          -0.1302456549052671,
          0.1302456549052671
         ],
         "y": [
          1.9957545113010011,
          -1.9957545113010011
         ],
         "z": [
          1.301859799713877,
          1.301859799713877
         ]
        },
        {
         "line": {
          "color": "gray",
          "width": 1
         },
         "mode": "lines",
         "name": "Hydrogen Bond",
         "type": "scatter3d",
         "x": [
          -0.16610163230068917,
          0.16610163230068917
         ],
         "y": [
          1.9930906270782187,
          -1.9930906270782187
         ],
         "z": [
          1.3161659513590844,
          1.3161659513590844
         ]
        },
        {
         "line": {
          "color": "gray",
          "width": 1
         },
         "mode": "lines",
         "name": "Hydrogen Bond",
         "type": "scatter3d",
         "x": [
          -0.2019039278330317,
          0.2019039278330317
         ],
         "y": [
          1.9897826021768292,
          -1.9897826021768292
         ],
         "z": [
          1.3304721030042919,
          1.3304721030042919
         ]
        },
        {
         "line": {
          "color": "gray",
          "width": 1
         },
         "mode": "lines",
         "name": "Hydrogen Bond",
         "type": "scatter3d",
         "x": [
          -0.23764097067123183,
          0.23764097067123183
         ],
         "y": [
          1.9858315057069758,
          -1.9858315057069758
         ],
         "z": [
          1.3447782546494993,
          1.3447782546494993
         ]
        },
        {
         "line": {
          "color": "gray",
          "width": 1
         },
         "mode": "lines",
         "name": "Hydrogen Bond",
         "type": "scatter3d",
         "x": [
          -0.27330121107303784,
          0.27330121107303784
         ],
         "y": [
          1.9812386146110748,
          -1.9812386146110748
         ],
         "z": [
          1.3590844062947067,
          1.3590844062947067
         ]
        },
        {
         "line": {
          "color": "gray",
          "width": 1
         },
         "mode": "lines",
         "name": "Hydrogen Bond",
         "type": "scatter3d",
         "x": [
          -0.3088731241177369,
          0.3088731241177369
         ],
         "y": [
          1.9760054132511249,
          -1.9760054132511249
         ],
         "z": [
          1.3733905579399142,
          1.3733905579399142
         ]
        },
        {
         "line": {
          "color": "gray",
          "width": 1
         },
         "mode": "lines",
         "name": "Hydrogen Bond",
         "type": "scatter3d",
         "x": [
          -0.3443452134308556,
          0.3443452134308556
         ],
         "y": [
          1.9701335929289816,
          -1.9701335929289816
         ],
         "z": [
          1.3876967095851216,
          1.3876967095851216
         ]
        },
        {
         "line": {
          "color": "gray",
          "width": 1
         },
         "mode": "lines",
         "name": "Hydrogen Bond",
         "type": "scatter3d",
         "x": [
          -0.37970601489963807,
          0.37970601489963807
         ],
         "y": [
          1.96362505133975,
          -1.96362505133975
         ],
         "z": [
          1.402002861230329,
          1.402002861230329
         ]
        },
        {
         "line": {
          "color": "gray",
          "width": 1
         },
         "mode": "lines",
         "name": "Hydrogen Bond",
         "type": "scatter3d",
         "x": [
          -0.41494410037809637,
          0.41494410037809637
         ],
         "y": [
          1.9564818919584746,
          -1.9564818919584746
         ],
         "z": [
          1.4163090128755365,
          1.4163090128755365
         ]
        },
        {
         "line": {
          "color": "gray",
          "width": 1
         },
         "mode": "lines",
         "name": "Hydrogen Bond",
         "type": "scatter3d",
         "x": [
          -0.45004808138043556,
          0.45004808138043556
         ],
         "y": [
          1.9487064233603246,
          -1.9487064233603246
         ],
         "z": [
          1.4306151645207439,
          1.4306151645207439
         ]
        },
        {
         "line": {
          "color": "gray",
          "width": 1
         },
         "mode": "lines",
         "name": "Hydrogen Bond",
         "type": "scatter3d",
         "x": [
          -0.48500661276166496,
          0.48500661276166496
         ],
         "y": [
          1.9403011584744922,
          -1.9403011584744922
         ],
         "z": [
          1.4449213161659513,
          1.4449213161659513
         ]
        },
        {
         "line": {
          "color": "gray",
          "width": 1
         },
         "mode": "lines",
         "name": "Hydrogen Bond",
         "type": "scatter3d",
         "x": [
          -0.5198083963841981,
          0.5198083963841981
         ],
         "y": [
          1.9312688137720466,
          -1.9312688137720466
         ],
         "z": [
          1.4592274678111588,
          1.4592274678111588
         ]
        },
        {
         "line": {
          "color": "gray",
          "width": 1
         },
         "mode": "lines",
         "name": "Hydrogen Bond",
         "type": "scatter3d",
         "x": [
          -0.5544421847692625,
          0.5544421847692625
         ],
         "y": [
          1.9216123083880075,
          -1.9216123083880075
         ],
         "z": [
          1.4735336194563662,
          1.4735336194563662
         ]
        },
        {
         "line": {
          "color": "gray",
          "width": 1
         },
         "mode": "lines",
         "name": "Hydrogen Bond",
         "type": "scatter3d",
         "x": [
          -0.588896784731938,
          0.588896784731938
         ],
         "y": [
          1.9113347631779174,
          -1.9113347631779174
         ],
         "z": [
          1.4878397711015736,
          1.4878397711015736
         ]
        },
        {
         "line": {
          "color": "gray",
          "width": 1
         },
         "mode": "lines",
         "name": "Hydrogen Bond",
         "type": "scatter3d",
         "x": [
          -0.623161060998644,
          0.623161060998644
         ],
         "y": [
          1.9004394997092238,
          -1.9004394997092238
         ],
         "z": [
          1.502145922746781,
          1.502145922746781
         ]
        },
        {
         "line": {
          "color": "gray",
          "width": 1
         },
         "mode": "lines",
         "name": "Hydrogen Bond",
         "type": "scatter3d",
         "x": [
          -0.6572239398059172,
          0.6572239398059172
         ],
         "y": [
          1.8889300391877906,
          -1.8889300391877906
         ],
         "z": [
          1.5164520743919885,
          1.5164520743919885
         ]
        },
        {
         "line": {
          "color": "gray",
          "width": 1
         },
         "mode": "lines",
         "name": "Hydrogen Bond",
         "type": "scatter3d",
         "x": [
          -0.6910744124793038,
          0.6910744124793038
         ],
         "y": [
          1.8768101013198926,
          -1.8768101013198926
         ],
         "z": [
          1.530758226037196,
          1.530758226037196
         ]
        },
        {
         "line": {
          "color": "gray",
          "width": 1
         },
         "mode": "lines",
         "name": "Hydrogen Bond",
         "type": "scatter3d",
         "x": [
          -0.7247015389912193,
          0.7247015389912193
         ],
         "y": [
          1.8640836031100532,
          -1.8640836031100532
         ],
         "z": [
          1.5450643776824033,
          1.5450643776824033
         ]
        },
        {
         "line": {
          "color": "gray",
          "width": 1
         },
         "mode": "lines",
         "name": "Hydrogen Bond",
         "type": "scatter3d",
         "x": [
          -0.7580944514966208,
          0.7580944514966208
         ],
         "y": [
          1.8507546575951221,
          -1.8507546575951221
         ],
         "z": [
          1.5593705293276108,
          1.5593705293276108
         ]
        },
        {
         "line": {
          "color": "gray",
          "width": 1
         },
         "mode": "lines",
         "name": "Hydrogen Bond",
         "type": "scatter3d",
         "x": [
          -0.791242357845353,
          0.791242357845353
         ],
         "y": [
          1.8368275725149943,
          -1.8368275725149943
         ],
         "z": [
          1.5736766809728182,
          1.5736766809728182
         ]
        },
        {
         "line": {
          "color": "gray",
          "width": 1
         },
         "mode": "lines",
         "name": "Hydrogen Bond",
         "type": "scatter3d",
         "x": [
          -0.8241345450700266,
          0.8241345450700266
         ],
         "y": [
          1.8223068489204062,
          -1.8223068489204062
         ],
         "z": [
          1.5879828326180256,
          1.5879828326180256
         ]
        },
        {
         "line": {
          "color": "gray",
          "width": 1
         },
         "mode": "lines",
         "name": "Hydrogen Bond",
         "type": "scatter3d",
         "x": [
          -0.8567603828483111,
          0.8567603828483111
         ],
         "y": [
          1.807197179718255,
          -1.807197179718255
         ],
         "z": [
          1.6022889842632333,
          1.6022889842632333
         ]
        },
        {
         "line": {
          "color": "gray",
          "width": 1
         },
         "mode": "lines",
         "name": "Hydrogen Bond",
         "type": "scatter3d",
         "x": [
          -0.889109326938516,
          0.889109326938516
         ],
         "y": [
          1.791503448154912,
          -1.791503448154912
         ],
         "z": [
          1.6165951359084407,
          1.6165951359084407
         ]
        },
        {
         "line": {
          "color": "gray",
          "width": 1
         },
         "mode": "lines",
         "name": "Hydrogen Bond",
         "type": "scatter3d",
         "x": [
          -0.9211709225873451,
          0.9211709225873451
         ],
         "y": [
          1.7752307262380234,
          -1.7752307262380234
         ],
         "z": [
          1.6309012875536482,
          1.6309012875536482
         ]
        },
        {
         "line": {
          "color": "gray",
          "width": 1
         },
         "mode": "lines",
         "name": "Hydrogen Bond",
         "type": "scatter3d",
         "x": [
          -0.9529348079087426,
          0.9529348079087426
         ],
         "y": [
          1.7583842730973023,
          -1.7583842730973023
         ],
         "z": [
          1.6452074391988556,
          1.6452074391988556
         ]
        },
        {
         "line": {
          "color": "gray",
          "width": 1
         },
         "mode": "lines",
         "name": "Hydrogen Bond",
         "type": "scatter3d",
         "x": [
          -0.9843907172327143,
          0.9843907172327143
         ],
         "y": [
          1.7409695332848483,
          -1.7409695332848483
         ],
         "z": [
          1.659513590844063,
          1.659513590844063
         ]
        },
        {
         "line": {
          "color": "gray",
          "width": 1
         },
         "mode": "lines",
         "name": "Hydrogen Bond",
         "type": "scatter3d",
         "x": [
          -1.0155284844230583,
          1.0155284844230583
         ],
         "y": [
          1.7229921350155393,
          -1.7229921350155393
         ],
         "z": [
          1.6738197424892705,
          1.6738197424892705
         ]
        },
        {
         "line": {
          "color": "gray",
          "width": 1
         },
         "mode": "lines",
         "name": "Hydrogen Bond",
         "type": "scatter3d",
         "x": [
          -1.0463380461629255,
          1.0463380461629255
         ],
         "y": [
          1.704457888348067,
          -1.704457888348067
         ],
         "z": [
          1.688125894134478,
          1.688125894134478
         ]
        },
        {
         "line": {
          "color": "gray",
          "width": 1
         },
         "mode": "lines",
         "name": "Hydrogen Bond",
         "type": "scatter3d",
         "x": [
          -1.076809445207153,
          1.076809445207153
         ],
         "y": [
          1.6853727833072016,
          -1.6853727833072016
         ],
         "z": [
          1.7024320457796853,
          1.7024320457796853
         ]
        },
        {
         "line": {
          "color": "gray",
          "width": 1
         },
         "mode": "lines",
         "name": "Hydrogen Bond",
         "type": "scatter3d",
         "x": [
          -1.1069328336003128,
          1.1069328336003128
         ],
         "y": [
          1.6657429879478953,
          -1.6657429879478953
         ],
         "z": [
          1.7167381974248928,
          1.7167381974248928
         ]
        },
        {
         "line": {
          "color": "gray",
          "width": 1
         },
         "mode": "lines",
         "name": "Hydrogen Bond",
         "type": "scatter3d",
         "x": [
          -1.1366984758594434,
          1.1366984758594434
         ],
         "y": [
          1.6455748463618476,
          -1.6455748463618476
         ],
         "z": [
          1.7310443490701002,
          1.7310443490701002
         ]
        },
        {
         "line": {
          "color": "gray",
          "width": 1
         },
         "mode": "lines",
         "name": "Hydrogen Bond",
         "type": "scatter3d",
         "x": [
          -1.1660967521204284,
          1.1660967521204284
         ],
         "y": [
          1.6248748766271783,
          -1.6248748766271783
         ],
         "z": [
          1.7453505007153076,
          1.7453505007153076
         ]
        },
        {
         "line": {
          "color": "gray",
          "width": 1
         },
         "mode": "lines",
         "name": "Hydrogen Bond",
         "type": "scatter3d",
         "x": [
          -1.1951181612470112,
          1.1951181612470112
         ],
         "y": [
          1.6036497687018705,
          -1.6036497687018705
         ],
         "z": [
          1.759656652360515,
          1.759656652360515
         ]
        },
        {
         "line": {
          "color": "gray",
          "width": 1
         },
         "mode": "lines",
         "name": "Hydrogen Bond",
         "type": "scatter3d",
         "x": [
          -1.2237533239014349,
          1.2237533239014349
         ],
         "y": [
          1.5819063822616652,
          -1.5819063822616652
         ],
         "z": [
          1.7739628040057225,
          1.7739628040057225
         ]
        },
        {
         "line": {
          "color": "gray",
          "width": 1
         },
         "mode": "lines",
         "name": "Hydrogen Bond",
         "type": "scatter3d",
         "x": [
          -1.2519929855757248,
          1.2519929855757248
         ],
         "y": [
          1.559651744483102,
          -1.559651744483102
         ],
         "z": [
          1.78826895565093,
          1.78826895565093
         ]
        },
        {
         "line": {
          "color": "gray",
          "width": 1
         },
         "mode": "lines",
         "name": "Hydrogen Bond",
         "type": "scatter3d",
         "x": [
          -1.2798280195826204,
          1.2798280195826204
         ],
         "y": [
          1.5368930477724296,
          -1.5368930477724296
         ],
         "z": [
          1.8025751072961373,
          1.8025751072961373
         ]
        },
        {
         "line": {
          "color": "gray",
          "width": 1
         },
         "mode": "lines",
         "name": "Hydrogen Bond",
         "type": "scatter3d",
         "x": [
          -1.3072494300052027,
          1.3072494300052027
         ],
         "y": [
          1.513637647441115,
          -1.513637647441115
         ],
         "z": [
          1.8168812589413448,
          1.8168812589413448
         ]
        },
        {
         "line": {
          "color": "gray",
          "width": 1
         },
         "mode": "lines",
         "name": "Hydrogen Bond",
         "type": "scatter3d",
         "x": [
          -1.3342483546042543,
          1.3342483546042543
         ],
         "y": [
          1.4898930593287023,
          -1.4898930593287023
         ],
         "z": [
          1.8311874105865522,
          1.8311874105865522
         ]
        },
        {
         "line": {
          "color": "gray",
          "width": 1
         },
         "mode": "lines",
         "name": "Hydrogen Bond",
         "type": "scatter3d",
         "x": [
          -1.3608160676824206,
          1.3608160676824206
         ],
         "y": [
          1.4656669573737937,
          -1.4656669573737937
         ],
         "z": [
          1.8454935622317596,
          1.8454935622317596
         ]
        },
        {
         "line": {
          "color": "gray",
          "width": 1
         },
         "mode": "lines",
         "name": "Hydrogen Bond",
         "type": "scatter3d",
         "x": [
          -1.3869439829042391,
          1.3869439829042391
         ],
         "y": [
          1.4409671711339316,
          -1.4409671711339316
         ],
         "z": [
          1.859799713876967,
          1.859799713876967
         ]
        },
        {
         "line": {
          "color": "gray",
          "width": 1
         },
         "mode": "lines",
         "name": "Hydrogen Bond",
         "type": "scatter3d",
         "x": [
          -1.4126236560711305,
          1.4126236560711305
         ],
         "y": [
          1.4158016832551912,
          -1.4158016832551912
         ],
         "z": [
          1.8741058655221745,
          1.8741058655221745
         ]
        },
        {
         "line": {
          "color": "gray",
          "width": 1
         },
         "mode": "lines",
         "name": "Hydrogen Bond",
         "type": "scatter3d",
         "x": [
          -1.4378467878504528,
          1.4378467878504528
         ],
         "y": [
          1.3901786268922909,
          -1.3901786268922909
         ],
         "z": [
          1.888412017167382,
          1.888412017167382
         ]
        },
        {
         "line": {
          "color": "gray",
          "width": 1
         },
         "mode": "lines",
         "name": "Hydrogen Bond",
         "type": "scatter3d",
         "x": [
          -1.4626052264577356,
          1.4626052264577356
         ],
         "y": [
          1.364106283080067,
          -1.364106283080067
         ],
         "z": [
          1.9027181688125894,
          1.9027181688125894
         ]
        },
        {
         "line": {
          "color": "gray",
          "width": 1
         },
         "mode": "lines",
         "name": "Hydrogen Bond",
         "type": "scatter3d",
         "x": [
          -1.486890970291232,
          1.486890970291232
         ],
         "y": [
          1.3375930780571492,
          -1.3375930780571492
         ],
         "z": [
          1.9170243204577968,
          1.9170243204577968
         ]
        },
        {
         "line": {
          "color": "gray",
          "width": 1
         },
         "mode": "lines",
         "name": "Hydrogen Bond",
         "type": "scatter3d",
         "x": [
          -1.5106961705179265,
          1.5106961705179265
         ],
         "y": [
          1.310647580542715,
          -1.310647580542715
         ],
         "z": [
          1.9313304721030042,
          1.9313304721030042
         ]
        },
        {
         "line": {
          "color": "gray",
          "width": 1
         },
         "mode": "lines",
         "name": "Hydrogen Bond",
         "type": "scatter3d",
         "x": [
          -1.5340131336101799,
          1.5340131336101799
         ],
         "y": [
          1.283278498967187,
          -1.283278498967187
         ],
         "z": [
          1.9456366237482117,
          1.9456366237482117
         ]
        },
        {
         "line": {
          "color": "gray",
          "width": 1
         },
         "mode": "lines",
         "name": "Hydrogen Bond",
         "type": "scatter3d",
         "x": [
          -1.5568343238321731,
          1.5568343238321731
         ],
         "y": [
          1.2554946786577872,
          -1.2554946786577872
         ],
         "z": [
          1.959942775393419,
          1.959942775393419
         ]
        },
        {
         "line": {
          "color": "gray",
          "width": 1
         },
         "mode": "lines",
         "name": "Hydrogen Bond",
         "type": "scatter3d",
         "x": [
          -1.5791523656753583,
          1.5791523656753583
         ],
         "y": [
          1.2273050989798417,
          -1.2273050989798417
         ],
         "z": [
          1.9742489270386265,
          1.9742489270386265
         ]
        },
        {
         "line": {
          "color": "gray",
          "width": 1
         },
         "mode": "lines",
         "name": "Hydrogen Bond",
         "type": "scatter3d",
         "x": [
          -1.6009600462421272,
          1.6009600462421272
         ],
         "y": [
          1.1987188704347682,
          -1.1987188704347682
         ],
         "z": [
          1.988555078683834,
          1.988555078683834
         ]
        },
        {
         "line": {
          "color": "gray",
          "width": 1
         },
         "mode": "lines",
         "name": "Hydrogen Bond",
         "type": "scatter3d",
         "x": [
          -1.622250317576923,
          1.622250317576923
         ],
         "y": [
          1.1697452317156811,
          -1.1697452317156811
         ],
         "z": [
          2.0028612303290414,
          2.0028612303290414
         ]
        },
        {
         "line": {
          "color": "gray",
          "width": 1
         },
         "mode": "lines",
         "name": "Hydrogen Bond",
         "type": "scatter3d",
         "x": [
          -1.6430162989440489,
          1.6430162989440489
         ],
         "y": [
          1.1403935467215691,
          -1.1403935467215691
         ],
         "z": [
          2.017167381974249,
          2.017167381974249
         ]
        },
        {
         "line": {
          "color": "gray",
          "width": 1
         },
         "mode": "lines",
         "name": "Hydrogen Bond",
         "type": "scatter3d",
         "x": [
          -1.6632512790514302,
          1.6632512790514302
         ],
         "y": [
          1.1106733015310044,
          -1.1106733015310044
         ],
         "z": [
          2.0314735336194563,
          2.0314735336194563
         ]
        },
        {
         "line": {
          "color": "gray",
          "width": 1
         },
         "mode": "lines",
         "name": "Hydrogen Bond",
         "type": "scatter3d",
         "x": [
          -1.682948718219616,
          1.682948718219616
         ],
         "y": [
          1.0805941013363676,
          -1.0805941013363676
         ],
         "z": [
          2.0457796852646637,
          2.0457796852646637
         ]
        },
        {
         "line": {
          "color": "gray",
          "width": 1
         },
         "mode": "lines",
         "name": "Hydrogen Bond",
         "type": "scatter3d",
         "x": [
          -1.7021022504953174,
          1.7021022504953174
         ],
         "y": [
          1.0501656673395754,
          -1.0501656673395754
         ],
         "z": [
          2.060085836909871,
          2.060085836909871
         ]
        },
        {
         "line": {
          "color": "gray",
          "width": 1
         },
         "mode": "lines",
         "name": "Hydrogen Bond",
         "type": "scatter3d",
         "x": [
          -1.7207056857087992,
          1.7207056857087992
         ],
         "y": [
          1.0193978336103187,
          -1.0193978336103187
         ],
         "z": [
          2.0743919885550786,
          2.0743919885550786
         ]
        },
        {
         "line": {
          "color": "gray",
          "width": 1
         },
         "mode": "lines",
         "name": "Hydrogen Bond",
         "type": "scatter3d",
         "x": [
          -1.7387530114744636,
          1.7387530114744636
         ],
         "y": [
          0.9883005439078157,
          -0.9883005439078157
         ],
         "z": [
          2.088698140200286,
          2.088698140200286
         ]
        },
        {
         "line": {
          "color": "gray",
          "width": 1
         },
         "mode": "lines",
         "name": "Hydrogen Bond",
         "type": "scatter3d",
         "x": [
          -1.7562383951339713,
          1.7562383951339713
         ],
         "y": [
          0.9568838484671234,
          -0.9568838484671234
         ],
         "z": [
          2.1030042918454934,
          2.1030042918454934
         ]
        },
        {
         "line": {
          "color": "gray",
          "width": 1
         },
         "mode": "lines",
         "name": "Hydrogen Bond",
         "type": "scatter3d",
         "x": [
          -1.7731561856412825,
          1.7731561856412825
         ],
         "y": [
          0.9251579007510324,
          -0.9251579007510324
         ],
         "z": [
          2.117310443490701,
          2.117310443490701
         ]
        },
        {
         "line": {
          "color": "gray",
          "width": 1
         },
         "mode": "lines",
         "name": "Hydrogen Bond",
         "type": "scatter3d",
         "x": [
          -1.7895009153889991,
          1.7895009153889991
         ],
         "y": [
          0.8931329541686021,
          -0.8931329541686021
         ],
         "z": [
          2.1316165951359083,
          2.1316165951359083
         ]
        },
        {
         "line": {
          "color": "gray",
          "width": 1
         },
         "mode": "lines",
         "name": "Hydrogen Bond",
         "type": "scatter3d",
         "x": [
          -1.8052673019754235,
          1.8052673019754235
         ],
         "y": [
          0.8608193587613926,
          -0.8608193587613926
         ],
         "z": [
          2.1459227467811157,
          2.1459227467811157
         ]
        },
        {
         "line": {
          "color": "gray",
          "width": 1
         },
         "mode": "lines",
         "name": "Hydrogen Bond",
         "type": "scatter3d",
         "x": [
          -1.820450249911762,
          1.820450249911762
         ],
         "y": [
          0.8282275578584686,
          -0.8282275578584686
         ],
         "z": [
          2.160228898426323,
          2.160228898426323
         ]
        },
        {
         "line": {
          "color": "gray",
          "width": 1
         },
         "mode": "lines",
         "name": "Hydrogen Bond",
         "type": "scatter3d",
         "x": [
          -1.83504485226892,
          1.83504485226892
         ],
         "y": [
          0.7953680847012519,
          -0.7953680847012519
         ],
         "z": [
          2.1745350500715306,
          2.1745350500715306
         ]
        },
        {
         "line": {
          "color": "gray",
          "width": 1
         },
         "mode": "lines",
         "name": "Hydrogen Bond",
         "type": "scatter3d",
         "x": [
          -1.8490463922633558,
          1.8490463922633558
         ],
         "y": [
          0.7622515590393165,
          -0.7622515590393165
         ],
         "z": [
          2.188841201716738,
          2.188841201716738
         ]
        },
        {
         "line": {
          "color": "gray",
          "width": 1
         },
         "mode": "lines",
         "name": "Hydrogen Bond",
         "type": "scatter3d",
         "x": [
          -1.8624503447814837,
          1.8624503447814837
         ],
         "y": [
          0.7288886836982256,
          -0.7288886836982256
         ],
         "z": [
          2.2031473533619454,
          2.2031473533619454
         ]
        },
        {
         "line": {
          "color": "gray",
          "width": 1
         },
         "mode": "lines",
         "name": "Hydrogen Bond",
         "type": "scatter3d",
         "x": [
          -1.8752523778421326,
          1.8752523778421326
         ],
         "y": [
          0.6952902411205177,
          -0.6952902411205177
         ],
         "z": [
          2.217453505007153,
          2.217453505007153
         ]
        },
        {
         "line": {
          "color": "gray",
          "width": 1
         },
         "mode": "lines",
         "name": "Hydrogen Bond",
         "type": "scatter3d",
         "x": [
          -1.8874483539965814,
          1.8874483539965814
         ],
         "y": [
          0.661467089880967,
          -0.661467089880967
         ],
         "z": [
          2.2317596566523603,
          2.2317596566523603
         ]
        },
        {
         "line": {
          "color": "gray",
          "width": 1
         },
         "mode": "lines",
         "name": "Hydrogen Bond",
         "type": "scatter3d",
         "x": [
          -1.8990343316657328,
          1.8990343316657328
         ],
         "y": [
          0.6274301611772292,
          -0.6274301611772292
         ],
         "z": [
          2.2460658082975677,
          2.2460658082975677
         ]
        },
        {
         "line": {
          "color": "gray",
          "width": 1
         },
         "mode": "lines",
         "name": "Hydrogen Bond",
         "type": "scatter3d",
         "x": [
          -1.9100065664139763,
          1.9100065664139763
         ],
         "y": [
          0.5931904552970257,
          -0.5931904552970257
         ],
         "z": [
          2.260371959942775,
          2.260371959942775
         ]
        },
        {
         "line": {
          "color": "gray",
          "width": 1
         },
         "mode": "lines",
         "name": "Hydrogen Bond",
         "type": "scatter3d",
         "x": [
          -1.9203615121593425,
          1.9203615121593425
         ],
         "y": [
          0.5587590380629947,
          -0.5587590380629947
         ],
         "z": [
          2.2746781115879826,
          2.2746781115879826
         ]
        },
        {
         "line": {
          "color": "gray",
          "width": 1
         },
         "mode": "lines",
         "name": "Hydrogen Bond",
         "type": "scatter3d",
         "x": [
          -1.9300958223195492,
          1.9300958223195492
         ],
         "y": [
          0.5241470372563626,
          -0.5241470372563626
         ],
         "z": [
          2.28898426323319,
          2.28898426323319
         ]
        },
        {
         "line": {
          "color": "gray",
          "width": 1
         },
         "mode": "lines",
         "name": "Hydrogen Bond",
         "type": "scatter3d",
         "x": [
          -1.9392063508935733,
          1.9392063508935733
         ],
         "y": [
          0.4893656390205915,
          -0.4893656390205915
         ],
         "z": [
          2.303290414878398,
          2.303290414878398
         ]
        },
        {
         "line": {
          "color": "gray",
          "width": 1
         },
         "mode": "lines",
         "name": "Hydrogen Bond",
         "type": "scatter3d",
         "x": [
          -1.947690153478396,
          1.947690153478396
         ],
         "y": [
          0.45442608424616476,
          -0.45442608424616476
         ],
         "z": [
          2.3175965665236054,
          2.3175965665236054
         ]
        },
        {
         "line": {
          "color": "gray",
          "width": 1
         },
         "mode": "lines",
         "name": "Hydrogen Bond",
         "type": "scatter3d",
         "x": [
          -1.9555444882205966,
          1.9555444882205966
         ],
         "y": [
          0.41933966493767927,
          -0.41933966493767927
         ],
         "z": [
          2.331902718168813,
          2.331902718168813
         ]
        },
        {
         "line": {
          "color": "gray",
          "width": 1
         },
         "mode": "lines",
         "name": "Hydrogen Bond",
         "type": "scatter3d",
         "x": [
          -1.9627668167024823,
          1.9627668167024823
         ],
         "y": [
          0.38411772056441745,
          -0.38411772056441745
         ],
         "z": [
          2.34620886981402,
          2.34620886981402
         ]
        },
        {
         "line": {
          "color": "gray",
          "width": 1
         },
         "mode": "lines",
         "name": "Hydrogen Bond",
         "type": "scatter3d",
         "x": [
          -1.9693548047624723,
          1.9693548047624723
         ],
         "y": [
          0.3487716343955806,
          -0.3487716343955806
         ],
         "z": [
          2.3605150214592276,
          2.3605150214592276
         ]
        },
        {
         "line": {
          "color": "gray",
          "width": 1
         },
         "mode": "lines",
         "name": "Hydrogen Bond",
         "type": "scatter3d",
         "x": [
          -1.9753063232494672,
          1.9753063232494672
         ],
         "y": [
          0.3133128298213648,
          -0.3133128298213648
         ],
         "z": [
          2.374821173104435,
          2.374821173104435
         ]
        },
        {
         "line": {
          "color": "gray",
          "width": 1
         },
         "mode": "lines",
         "name": "Hydrogen Bond",
         "type": "scatter3d",
         "x": [
          -1.980619448710963,
          1.980619448710963
         ],
         "y": [
          0.27775276666107485,
          -0.27775276666107485
         ],
         "z": [
          2.3891273247496425,
          2.3891273247496425
         ]
        },
        {
         "line": {
          "color": "gray",
          "width": 1
         },
         "mode": "lines",
         "name": "Hydrogen Bond",
         "type": "scatter3d",
         "x": [
          -1.9852924640146858,
          1.9852924640146858
         ],
         "y": [
          0.24210293745945627,
          -0.24210293745945627
         ],
         "z": [
          2.40343347639485,
          2.40343347639485
         ]
        },
        {
         "line": {
          "color": "gray",
          "width": 1
         },
         "mode": "lines",
         "name": "Hydrogen Bond",
         "type": "scatter3d",
         "x": [
          -1.989323858903547,
          1.989323858903547
         ],
         "y": [
          0.20637486377245948,
          -0.20637486377245948
         ],
         "z": [
          2.4177396280400574,
          2.4177396280400574
         ]
        },
        {
         "line": {
          "color": "gray",
          "width": 1
         },
         "mode": "lines",
         "name": "Hydrogen Bond",
         "type": "scatter3d",
         "x": [
          -1.9927123304837366,
          1.9927123304837366
         ],
         "y": [
          0.17058009244362357,
          -0.17058009244362357
         ],
         "z": [
          2.432045779685265,
          2.432045779685265
         ]
        },
        {
         "line": {
          "color": "gray",
          "width": 1
         },
         "mode": "lines",
         "name": "Hydrogen Bond",
         "type": "scatter3d",
         "x": [
          -1.995456783645804,
          1.995456783645804
         ],
         "y": [
          0.1347301918722883,
          -0.1347301918722883
         ],
         "z": [
          2.4463519313304722,
          2.4463519313304722
         ]
        },
        {
         "line": {
          "color": "gray",
          "width": 1
         },
         "mode": "lines",
         "name": "Hydrogen Bond",
         "type": "scatter3d",
         "x": [
          -1.99755633141858,
          1.99755633141858
         ],
         "y": [
          0.0988367482748395,
          -0.0988367482748395
         ],
         "z": [
          2.4606580829756797,
          2.4606580829756797
         ]
        },
        {
         "line": {
          "color": "gray",
          "width": 1
         },
         "mode": "lines",
         "name": "Hydrogen Bond",
         "type": "scatter3d",
         "x": [
          -1.9990102952558373,
          1.9990102952558373
         ],
         "y": [
          0.06291136194019649,
          -0.06291136194019649
         ],
         "z": [
          2.474964234620887,
          2.474964234620887
         ]
        },
        {
         "line": {
          "color": "gray",
          "width": 1
         },
         "mode": "lines",
         "name": "Hydrogen Bond",
         "type": "scatter3d",
         "x": [
          -1.999818205255585,
          1.999818205255585
         ],
         "y": [
          0.026965643480751072,
          -0.026965643480751072
         ],
         "z": [
          2.4892703862660945,
          2.4892703862660945
         ]
        },
        {
         "line": {
          "color": "gray",
          "width": 1
         },
         "mode": "lines",
         "name": "Hydrogen Bond",
         "type": "scatter3d",
         "x": [
          -1.9999798003119365,
          1.9999798003119365
         ],
         "y": [
          -0.008988789920029558,
          0.008988789920029558
         ],
         "z": [
          2.503576537911302,
          2.503576537911302
         ]
        },
        {
         "line": {
          "color": "gray",
          "width": 1
         },
         "mode": "lines",
         "name": "Hydrogen Bond",
         "type": "scatter3d",
         "x": [
          -1.999495028199495,
          1.999495028199495
         ],
         "y": [
          -0.0449403182621238,
          0.0449403182621238
         ],
         "z": [
          2.5178826895565094,
          2.5178826895565094
         ]
        },
        {
         "line": {
          "color": "gray",
          "width": 1
         },
         "mode": "lines",
         "name": "Hydrogen Bond",
         "type": "scatter3d",
         "x": [
          -1.9983640455902314,
          1.9983640455902314
         ],
         "y": [
          -0.08087732248438771,
          0.08087732248438771
         ],
         "z": [
          2.532188841201717,
          2.532188841201717
         ]
        },
        {
         "line": {
          "color": "gray",
          "width": 1
         },
         "mode": "lines",
         "name": "Hydrogen Bond",
         "type": "scatter3d",
         "x": [
          -1.9965872180028512,
          1.9965872180028512
         ],
         "y": [
          -0.11678818821967919,
          0.11678818821967919
         ],
         "z": [
          2.5464949928469243,
          2.5464949928469243
         ]
        },
        {
         "line": {
          "color": "gray",
          "width": 1
         },
         "mode": "lines",
         "name": "Hydrogen Bond",
         "type": "scatter3d",
         "x": [
          -1.9941651196846626,
          1.9941651196846626
         ],
         "y": [
          -0.15266130954847404,
          0.15266130954847404
         ],
         "z": [
          2.5608011444921317,
          2.5608011444921317
         ]
        },
        {
         "line": {
          "color": "gray",
          "width": 1
         },
         "mode": "lines",
         "name": "Hydrogen Bond",
         "type": "scatter3d",
         "x": [
          -1.991098533425988,
          1.991098533425988
         ],
         "y": [
          -0.18848509274974293,
          0.18848509274974293
         ],
         "z": [
          2.575107296137339,
          2.575107296137339
         ]
        },
        {
         "line": {
          "color": "gray",
          "width": 1
         },
         "mode": "lines",
         "name": "Hydrogen Bond",
         "type": "scatter3d",
         "x": [
          -1.9873884503071764,
          1.9873884503071764
         ],
         "y": [
          -0.22424796004789052,
          0.22424796004789052
         ],
         "z": [
          2.5894134477825466,
          2.5894134477825466
         ]
        },
        {
         "line": {
          "color": "gray",
          "width": 1
         },
         "mode": "lines",
         "name": "Hydrogen Bond",
         "type": "scatter3d",
         "x": [
          -1.983036069378298,
          1.983036069378298
         ],
         "y": [
          -0.25993835335454024,
          0.25993835335454024
         ],
         "z": [
          2.603719599427754,
          2.603719599427754
         ]
        },
        {
         "line": {
          "color": "gray",
          "width": 1
         },
         "mode": "lines",
         "name": "Hydrogen Bond",
         "type": "scatter3d",
         "x": [
          -1.9780427972716295,
          1.9780427972716295
         ],
         "y": [
          -0.2955447380039563,
          0.2955447380039563
         ],
         "z": [
          2.6180257510729614,
          2.6180257510729614
         ]
        },
        {
         "line": {
          "color": "gray",
          "width": 1
         },
         "mode": "lines",
         "name": "Hydrogen Bond",
         "type": "scatter3d",
         "x": [
          -1.9724102477470467,
          1.9724102477470467
         ],
         "y": [
          -0.33105560648089627,
          0.33105560648089627
         ],
         "z": [
          2.632331902718169,
          2.632331902718169
         ]
        },
        {
         "line": {
          "color": "gray",
          "width": 1
         },
         "mode": "lines",
         "name": "Hydrogen Bond",
         "type": "scatter3d",
         "x": [
          -1.9661402411704796,
          1.9661402411704796
         ],
         "y": [
          -0.3664594821396884,
          0.3664594821396884
         ],
         "z": [
          2.6466380543633763,
          2.6466380543633763
         ]
        },
        {
         "line": {
          "color": "gray",
          "width": 1
         },
         "mode": "lines",
         "name": "Hydrogen Bond",
         "type": "scatter3d",
         "x": [
          -1.959234803925594,
          1.959234803925594
         ],
         "y": [
          -0.4017449229133326,
          0.4017449229133326
         ],
         "z": [
          2.6609442060085837,
          2.6609442060085837
         ]
        },
        {
         "line": {
          "color": "gray",
          "width": 1
         },
         "mode": "lines",
         "name": "Hydrogen Bond",
         "type": "scatter3d",
         "x": [
          -1.9516961677588907,
          1.9516961677588907
         ],
         "y": [
          -0.436900525011427,
          0.436900525011427
         ],
         "z": [
          2.675250357653791,
          2.675250357653791
         ]
        },
        {
         "line": {
          "color": "gray",
          "width": 1
         },
         "mode": "lines",
         "name": "Hydrogen Bond",
         "type": "scatter3d",
         "x": [
          -1.9435267690584348,
          1.9435267690584348
         ],
         "y": [
          -0.4719149266057196,
          0.4719149266057196
         ],
         "z": [
          2.6895565092989986,
          2.6895565092989986
         ]
        },
        {
         "line": {
          "color": "gray",
          "width": 1
         },
         "mode": "lines",
         "name": "Hydrogen Bond",
         "type": "scatter3d",
         "x": [
          -1.9347292480664466,
          1.9347292480664466
         ],
         "y": [
          -0.5067768115021066,
          0.5067768115021066
         ],
         "z": [
          2.703862660944206,
          2.703862660944206
         ]
        },
        {
         "line": {
          "color": "gray",
          "width": 1
         },
         "mode": "lines",
         "name": "Hydrogen Bond",
         "type": "scatter3d",
         "x": [
          -1.925306448026011,
          1.925306448026011
         ],
         "y": [
          -0.5414749127978744,
          0.5414749127978744
         ],
         "z": [
          2.7181688125894135,
          2.7181688125894135
         ]
        },
        {
         "line": {
          "color": "gray",
          "width": 1
         },
         "mode": "lines",
         "name": "Hydrogen Bond",
         "type": "scatter3d",
         "x": [
          -1.9152614142621764,
          1.9152614142621764
         ],
         "y": [
          -0.5759980165230153,
          0.5759980165230153
         ],
         "z": [
          2.732474964234621,
          2.732474964234621
         ]
        },
        {
         "line": {
          "color": "gray",
          "width": 1
         },
         "mode": "lines",
         "name": "Hydrogen Bond",
         "type": "scatter3d",
         "x": [
          -1.9045973931977491,
          1.9045973931977491
         ],
         "y": [
          -0.6103349652644346,
          0.6103349652644346
         ],
         "z": [
          2.7467811158798283,
          2.7467811158798283
         ]
        },
        {
         "line": {
          "color": "gray",
          "width": 1
         },
         "mode": "lines",
         "name": "Hydrogen Bond",
         "type": "scatter3d",
         "x": [
          -1.8933178313040895,
          1.8933178313040895
         ],
         "y": [
          -0.6444746617718804,
          0.6444746617718804
         ],
         "z": [
          2.7610872675250357,
          2.7610872675250357
         ]
        },
        {
         "line": {
          "color": "gray",
          "width": 1
         },
         "mode": "lines",
         "name": "Hydrogen Bond",
         "type": "scatter3d",
         "x": [
          -1.8814263739872585,
          1.8814263739872585
         ],
         "y": [
          -0.6784060725444285,
          0.6784060725444285
         ],
         "z": [
          2.775393419170243,
          2.775393419170243
         ]
        },
        {
         "line": {
          "color": "gray",
          "width": 1
         },
         "mode": "lines",
         "name": "Hydrogen Bond",
         "type": "scatter3d",
         "x": [
          -1.868926864409871,
          1.868926864409871
         ],
         "y": [
          -0.7121182313963652,
          0.7121182313963652
         ],
         "z": [
          2.7896995708154506,
          2.7896995708154506
         ]
        },
        {
         "line": {
          "color": "gray",
          "width": 1
         },
         "mode": "lines",
         "name": "Hydrogen Bond",
         "type": "scatter3d",
         "x": [
          -1.8558233422490358,
          1.8558233422490358
         ],
         "y": [
          -0.7456002430013137,
          0.7456002430013137
         ],
         "z": [
          2.804005722460658,
          2.804005722460658
         ]
        },
        {
         "line": {
          "color": "gray",
          "width": 1
         },
         "mode": "lines",
         "name": "Hydrogen Bond",
         "type": "scatter3d",
         "x": [
          -1.8421200423907844,
          1.8421200423907844
         ],
         "y": [
          -0.7788412864134608,
          0.7788412864134608
         ],
         "z": [
          2.8183118741058655,
          2.8183118741058655
         ]
        },
        {
         "line": {
          "color": "gray",
          "width": 1
         },
         "mode": "lines",
         "name": "Hydrogen Bond",
         "type": "scatter3d",
         "x": [
          -1.8278213935614123,
          1.8278213935614123
         ],
         "y": [
          -0.8118306185647453,
          0.8118306185647453
         ],
         "z": [
          2.832618025751073,
          2.832618025751073
         ]
        },
        {
         "line": {
          "color": "gray",
          "width": 1
         },
         "mode": "lines",
         "name": "Hydrogen Bond",
         "type": "scatter3d",
         "x": [
          -1.8129320168961736,
          1.8129320168961736
         ],
         "y": [
          -0.8445575777368719,
          0.8445575777368719
         ],
         "z": [
          2.8469241773962803,
          2.8469241773962803
         ]
        },
        {
         "line": {
          "color": "gray",
          "width": 1
         },
         "mode": "lines",
         "name": "Hydrogen Bond",
         "type": "scatter3d",
         "x": [
          -1.7974567244457889,
          1.7974567244457889
         ],
         "y": [
          -0.877011587007045,
          0.877011587007045
         ],
         "z": [
          2.8612303290414878,
          2.8612303290414878
         ]
        },
        {
         "line": {
          "color": "gray",
          "width": 1
         },
         "mode": "lines",
         "name": "Hydrogen Bond",
         "type": "scatter3d",
         "x": [
          -1.7814005176212555,
          1.7814005176212555
         ],
         "y": [
          -0.9091821576662859,
          0.9091821576662859
         ],
         "z": [
          2.875536480686695,
          2.875536480686695
         ]
        },
        {
         "line": {
          "color": "gray",
          "width": 1
         },
         "mode": "lines",
         "name": "Hydrogen Bond",
         "type": "scatter3d",
         "x": [
          -1.7647685855774564,
          1.7647685855774564
         ],
         "y": [
          -0.9410588926092479,
          0.9410588926092479
         ],
         "z": [
          2.8898426323319026,
          2.8898426323319026
         ]
        },
        {
         "line": {
          "color": "gray",
          "width": 1
         },
         "mode": "lines",
         "name": "Hydrogen Bond",
         "type": "scatter3d",
         "x": [
          -1.747566303536094,
          1.747566303536094
         ],
         "y": [
          -0.9726314896944233,
          0.9726314896944233
         ],
         "z": [
          2.90414878397711,
          2.90414878397711
         ]
        },
        {
         "line": {
          "color": "gray",
          "width": 1
         },
         "mode": "lines",
         "name": "Hydrogen Bond",
         "type": "scatter3d",
         "x": [
          -1.7297992310484884,
          1.7297992310484884
         ],
         "y": [
          -1.00388974507366,
          1.00388974507366
         ],
         "z": [
          2.9184549356223175,
          2.9184549356223175
         ]
        },
        {
         "line": {
          "color": "gray",
          "width": 1
         },
         "mode": "lines",
         "name": "Hydrogen Bond",
         "type": "scatter3d",
         "x": [
          -1.711473110198805,
          1.711473110198805
         ],
         "y": [
          -1.0348235564899113,
          1.0348235564899113
         ],
         "z": [
          2.932761087267525,
          2.932761087267525
         ]
        },
        {
         "line": {
          "color": "gray",
          "width": 1
         },
         "mode": "lines",
         "name": "Hydrogen Bond",
         "type": "scatter3d",
         "x": [
          -1.692593863748287,
          1.692593863748287
         ],
         "y": [
          -1.0654229265421529,
          1.0654229265421529
         ],
         "z": [
          2.9470672389127324,
          2.9470672389127324
         ]
        },
        {
         "line": {
          "color": "gray",
          "width": 1
         },
         "mode": "lines",
         "name": "Hydrogen Bond",
         "type": "scatter3d",
         "x": [
          -1.673167593221097,
          1.673167593221097
         ],
         "y": [
          -1.0956779659164098,
          1.0956779659164098
         ],
         "z": [
          2.96137339055794,
          2.96137339055794
         ]
        },
        {
         "line": {
          "color": "gray",
          "width": 1
         },
         "mode": "lines",
         "name": "Hydrogen Bond",
         "type": "scatter3d",
         "x": [
          -1.6532005769323854,
          1.6532005769323854
         ],
         "y": [
          -1.1255788965818556,
          1.1255788965818556
         ],
         "z": [
          2.9756795422031472,
          2.9756795422031472
         ]
        },
        {
         "line": {
          "color": "gray",
          "width": 1
         },
         "mode": "lines",
         "name": "Hydrogen Bond",
         "type": "scatter3d",
         "x": [
          -1.632699267959222,
          1.632699267959222
         ],
         "y": [
          -1.1551160549509387,
          1.1551160549509387
         ],
         "z": [
          2.9899856938483547,
          2.9899856938483547
         ]
        },
        {
         "line": {
          "color": "gray",
          "width": 1
         },
         "mode": "lines",
         "name": "Hydrogen Bond",
         "type": "scatter3d",
         "x": [
          -1.6116702920550443,
          1.6116702920550443
         ],
         "y": [
          -1.184279895002532,
          1.184279895002532
         ],
         "z": [
          3.004291845493562,
          3.004291845493562
         ]
        },
        {
         "line": {
          "color": "gray",
          "width": 1
         },
         "mode": "lines",
         "name": "Hydrogen Bond",
         "type": "scatter3d",
         "x": [
          -1.5901204455083024,
          1.5901204455083024
         ],
         "y": [
          -1.213060991367078,
          1.213060991367078
         ],
         "z": [
          3.0185979971387695,
          3.0185979971387695
         ]
        },
        {
         "line": {
          "color": "gray",
          "width": 1
         },
         "mode": "lines",
         "name": "Hydrogen Bond",
         "type": "scatter3d",
         "x": [
          -1.568056692945988,
          1.568056692945988
         ],
         "y": [
          -1.2414500423727453,
          1.2414500423727453
         ],
         "z": [
          3.032904148783977,
          3.032904148783977
         ]
        },
        {
         "line": {
          "color": "gray",
          "width": 1
         },
         "mode": "lines",
         "name": "Hydrogen Bond",
         "type": "scatter3d",
         "x": [
          -1.5454861650827592,
          1.5454861650827592
         ],
         "y": [
          -1.2694378730516065,
          1.2694378730516065
         ],
         "z": [
          3.0472103004291844,
          3.0472103004291844
         ]
        },
        {
         "line": {
          "color": "gray",
          "width": 1
         },
         "mode": "lines",
         "name": "Hydrogen Bond",
         "type": "scatter3d",
         "x": [
          -1.522416156416385,
          1.522416156416385
         ],
         "y": [
          -1.2970154381048673,
          1.2970154381048673
         ],
         "z": [
          3.061516452074392,
          3.061516452074392
         ]
        },
        {
         "line": {
          "color": "gray",
          "width": 1
         },
         "mode": "lines",
         "name": "Hydrogen Bond",
         "type": "scatter3d",
         "x": [
          -1.4988541228702625,
          1.4988541228702625
         ],
         "y": [
          -1.324173824826188,
          1.324173824826188
         ],
         "z": [
          3.0758226037195993,
          3.0758226037195993
         ]
        },
        {
         "line": {
          "color": "gray",
          "width": 1
         },
         "mode": "lines",
         "name": "Hydrogen Bond",
         "type": "scatter3d",
         "x": [
          -1.4748076793837583,
          1.4748076793837583
         ],
         "y": [
          -1.3509042559821527,
          1.3509042559821527
         ],
         "z": [
          3.0901287553648067,
          3.0901287553648067
         ]
        },
        {
         "line": {
          "color": "gray",
          "width": 1
         },
         "mode": "lines",
         "name": "Hydrogen Bond",
         "type": "scatter3d",
         "x": [
          -1.4502845974511613,
          1.4502845974511613
         ],
         "y": [
          -1.3771980926489562,
          1.3771980926489562
         ],
         "z": [
          3.104434907010014,
          3.104434907010014
         ]
        },
        {
         "line": {
          "color": "gray",
          "width": 1
         },
         "mode": "lines",
         "name": "Hydrogen Bond",
         "type": "scatter3d",
         "x": [
          -1.4252928026100378,
          1.4252928026100378
         ],
         "y": [
          -1.4030468370043905,
          1.4030468370043905
         ],
         "z": [
          3.1187410586552216,
          3.1187410586552216
         ]
        },
        {
         "line": {
          "color": "gray",
          "width": 1
         },
         "mode": "lines",
         "name": "Hydrogen Bond",
         "type": "scatter3d",
         "x": [
          -1.3998403718798005,
          1.3998403718798005
         ],
         "y": [
          -1.428442135074229,
          1.428442135074229
         ],
         "z": [
          3.133047210300429,
          3.133047210300429
         ]
        },
        {
         "line": {
          "color": "gray",
          "width": 1
         },
         "mode": "lines",
         "name": "Hydrogen Bond",
         "type": "scatter3d",
         "x": [
          -1.3739355311513264,
          1.3739355311513264
         ],
         "y": [
          -1.45337577943212,
          1.45337577943212
         ],
         "z": [
          3.1473533619456364,
          3.1473533619456364
         ]
        },
        {
         "line": {
          "color": "gray",
          "width": 1
         },
         "mode": "lines",
         "name": "Hydrogen Bond",
         "type": "scatter3d",
         "x": [
          -1.3475866525284517,
          1.3475866525284517
         ],
         "y": [
          -1.4778397118521218,
          1.4778397118521218
         ],
         "z": [
          3.161659513590844,
          3.161659513590844
         ]
        },
        {
         "line": {
          "color": "gray",
          "width": 1
         },
         "mode": "lines",
         "name": "Hydrogen Bond",
         "type": "scatter3d",
         "x": [
          -1.3208022516222204,
          1.3208022516222204
         ],
         "y": [
          -1.5018260259130125,
          1.5018260259130125
         ],
         "z": [
          3.1759656652360513,
          3.1759656652360513
         ]
        },
        {
         "line": {
          "color": "gray",
          "width": 1
         },
         "mode": "lines",
         "name": "Hydrogen Bond",
         "type": "scatter3d",
         "x": [
          -1.2935909847987523,
          1.2935909847987523
         ],
         "y": [
          -1.5253269695535427,
          1.5253269695535427
         ],
         "z": [
          3.1902718168812587,
          3.1902718168812587
         ]
        },
        {
         "line": {
          "color": "gray",
          "width": 1
         },
         "mode": "lines",
         "name": "Hydrogen Bond",
         "type": "scatter3d",
         "x": [
          -1.2659616463816155,
          1.2659616463816155
         ],
         "y": [
          -1.5483349475778003,
          1.5483349475778003
         ],
         "z": [
          3.2045779685264666,
          3.2045779685264666
         ]
        },
        {
         "line": {
          "color": "gray",
          "width": 1
         },
         "mode": "lines",
         "name": "Hydrogen Bond",
         "type": "scatter3d",
         "x": [
          -1.2379231658096188,
          1.2379231658096188
         ],
         "y": [
          -1.5708425241098776,
          1.5708425241098776
         ],
         "z": [
          3.218884120171674,
          3.218884120171674
         ]
        },
        {
         "line": {
          "color": "gray",
          "width": 1
         },
         "mode": "lines",
         "name": "Hydrogen Bond",
         "type": "scatter3d",
         "x": [
          -1.2094846047509393,
          1.2094846047509393
         ],
         "y": [
          -1.5928424249970443,
          1.5928424249970443
         ],
         "z": [
          3.2331902718168815,
          3.2331902718168815
         ]
        },
        {
         "line": {
          "color": "gray",
          "width": 1
         },
         "mode": "lines",
         "name": "Hydrogen Bond",
         "type": "scatter3d",
         "x": [
          -1.1806551541745005,
          1.1806551541745005
         ],
         "y": [
          -1.6143275401606658,
          1.6143275401606658
         ],
         "z": [
          3.247496423462089,
          3.247496423462089
         ]
        },
        {
         "line": {
          "color": "gray",
          "width": 1
         },
         "mode": "lines",
         "name": "Hydrogen Bond",
         "type": "scatter3d",
         "x": [
          -1.1514441313795796,
          1.1514441313795796
         ],
         "y": [
          -1.6352909258940824,
          1.6352909258940824
         ],
         "z": [
          3.2618025751072963,
          3.2618025751072963
         ]
        },
        {
         "line": {
          "color": "gray",
          "width": 1
         },
         "mode": "lines",
         "name": "Hydrogen Bond",
         "type": "scatter3d",
         "x": [
          -1.1218609769845758,
          1.1218609769845758
         ],
         "y": [
          -1.655725807106724,
          1.655725807106724
         ],
         "z": [
          3.2761087267525038,
          3.2761087267525038
         ]
        },
        {
         "line": {
          "color": "gray",
          "width": 1
         },
         "mode": "lines",
         "name": "Hydrogen Bond",
         "type": "scatter3d",
         "x": [
          -1.0919152518759279,
          1.0919152518759279
         ],
         "y": [
          -1.6756255795137318,
          1.6756255795137318
         ],
         "z": [
          3.290414878397711,
          3.290414878397711
         ]
        },
        {
         "line": {
          "color": "gray",
          "width": 1
         },
         "mode": "lines",
         "name": "Hydrogen Bond",
         "type": "scatter3d",
         "x": [
          -1.0616166341181605,
          1.0616166341181605
         ],
         "y": [
          -1.6949838117703742,
          1.6949838117703742
         ],
         "z": [
          3.3047210300429186,
          3.3047210300429186
         ]
        },
        {
         "line": {
          "color": "gray",
          "width": 1
         },
         "mode": "lines",
         "name": "Hydrogen Bond",
         "type": "scatter3d",
         "x": [
          -1.0309749158260622,
          1.0309749158260622
         ],
         "y": [
          -1.7137942475505756,
          1.7137942475505756
         ],
         "z": [
          3.319027181688126,
          3.319027181688126
         ]
        },
        {
         "line": {
          "color": "gray",
          "width": 1
         },
         "mode": "lines",
         "name": "Hydrogen Bond",
         "type": "scatter3d",
         "x": [
          -1.0000000000000009,
          1.0000000000000009
         ],
         "y": [
          -1.7320508075688767,
          1.7320508075688767
         ],
         "z": [
          3.3333333333333335,
          3.3333333333333335
         ]
        },
        {
         "line": {
          "color": "gray",
          "width": 1
         },
         "mode": "lines",
         "name": "Hydrogen Bond",
         "type": "scatter3d",
         "x": [
          -0.9687018973254062,
          0.9687018973254062
         ],
         "y": [
          -1.7497475915451801,
          1.7497475915451801
         ],
         "z": [
          3.347639484978541,
          3.347639484978541
         ]
        },
        {
         "line": {
          "color": "gray",
          "width": 1
         },
         "mode": "lines",
         "name": "Hydrogen Bond",
         "type": "scatter3d",
         "x": [
          -0.9370907229374467,
          0.9370907229374467
         ],
         "y": [
          -1.7668788801116428,
          1.7668788801116428
         ],
         "z": [
          3.3619456366237483,
          3.3619456366237483
         ]
        },
        {
         "line": {
          "color": "gray",
          "width": 1
         },
         "mode": "lines",
         "name": "Hydrogen Bond",
         "type": "scatter3d",
         "x": [
          -0.9051766931519513,
          0.9051766931519513
         ],
         "y": [
          -1.7834391366611024,
          1.7834391366611024
         ],
         "z": [
          3.376251788268956,
          3.376251788268956
         ]
        },
        {
         "line": {
          "color": "gray",
          "width": 1
         },
         "mode": "lines",
         "name": "Hydrogen Bond",
         "type": "scatter3d",
         "x": [
          -0.8729701221636301,
          0.8729701221636301
         ],
         "y": [
          -1.7994230091364334,
          1.7994230091364334
         ],
         "z": [
          3.390557939914163,
          3.390557939914163
         ]
        },
        {
         "line": {
          "color": "gray",
          "width": 1
         },
         "mode": "lines",
         "name": "Hydrogen Bond",
         "type": "scatter3d",
         "x": [
          -0.8404814187126632,
          0.8404814187126632
         ],
         "y": [
          -1.8148253317602632,
          1.8148253317602632
         ],
         "z": [
          3.4048640915593706,
          3.4048640915593706
         ]
        },
        {
         "line": {
          "color": "gray",
          "width": 1
         },
         "mode": "lines",
         "name": "Hydrogen Bond",
         "type": "scatter3d",
         "x": [
          -0.8077210827207317,
          0.8077210827207317
         ],
         "y": [
          -1.8296411267044828,
          1.8296411267044828
         ],
         "z": [
          3.419170243204578,
          3.419170243204578
         ]
        },
        {
         "line": {
          "color": "gray",
          "width": 1
         },
         "mode": "lines",
         "name": "Hydrogen Bond",
         "type": "scatter3d",
         "x": [
          -0.7746997018975817,
          0.7746997018975817
         ],
         "y": [
          -1.8438656056990157,
          1.8438656056990157
         ],
         "z": [
          3.4334763948497855,
          3.4334763948497855
         ]
        },
        {
         "line": {
          "color": "gray",
          "width": 1
         },
         "mode": "lines",
         "name": "Hydrogen Bond",
         "type": "scatter3d",
         "x": [
          -0.7414279483192158,
          0.7414279483192158
         ],
         "y": [
          -1.8574941715793238,
          1.8574941715793238
         ],
         "z": [
          3.447782546494993,
          3.447782546494993
         ]
        },
        {
         "line": {
          "color": "gray",
          "width": 1
         },
         "mode": "lines",
         "name": "Hydrogen Bond",
         "type": "scatter3d",
         "x": [
          -0.707916574978818,
          0.707916574978818
         ],
         "y": [
          -1.8705224197721502,
          1.8705224197721502
         ],
         "z": [
          3.4620886981402004,
          3.4620886981402004
         ]
        },
        {
         "line": {
          "color": "gray",
          "width": 1
         },
         "mode": "lines",
         "name": "Hydrogen Bond",
         "type": "scatter3d",
         "x": [
          -0.6741764123115283,
          0.6741764123115283
         ],
         "y": [
          -1.8829461397190193,
          1.8829461397190193
         ],
         "z": [
          3.476394849785408,
          3.476394849785408
         ]
        },
        {
         "line": {
          "color": "gray",
          "width": 1
         },
         "mode": "lines",
         "name": "Hydrogen Bond",
         "type": "scatter3d",
         "x": [
          -0.640218364694188,
          0.640218364694188
         ],
         "y": [
          -1.8947613162370345,
          1.8947613162370345
         ],
         "z": [
          3.4907010014306152,
          3.4907010014306152
         ]
        },
        {
         "line": {
          "color": "gray",
          "width": 1
         },
         "mode": "lines",
         "name": "Hydrogen Bond",
         "type": "scatter3d",
         "x": [
          -0.6060534069211891,
          0.6060534069211891
         ],
         "y": [
          -1.9059641308165323,
          1.9059641308165323
         ],
         "z": [
          3.5050071530758227,
          3.5050071530758227
         ]
        },
        {
         "line": {
          "color": "gray",
          "width": 1
         },
         "mode": "lines",
         "name": "Hydrogen Bond",
         "type": "scatter3d",
         "x": [
          -0.5716925806575627,
          0.5716925806575627
         ],
         "y": [
          -1.9165509628551745,
          1.9165509628551745
         ],
         "z": [
          3.51931330472103,
          3.51931330472103
         ]
        },
        {
         "line": {
          "color": "gray",
          "width": 1
         },
         "mode": "lines",
         "name": "Hydrogen Bond",
         "type": "scatter3d",
         "x": [
          -0.5371469908704655,
          0.5371469908704655
         ],
         "y": [
          -1.9265183908280772,
          1.9265183908280772
         ],
         "z": [
          3.5336194563662375,
          3.5336194563662375
         ]
        },
        {
         "line": {
          "color": "gray",
          "width": 1
         },
         "mode": "lines",
         "name": "Hydrogen Bond",
         "type": "scatter3d",
         "x": [
          -0.5024278022401896,
          0.5024278022401896
         ],
         "y": [
          -1.9358631933936068,
          1.9358631933936068
         ],
         "z": [
          3.547925608011445,
          3.547925608011445
         ]
        },
        {
         "line": {
          "color": "gray",
          "width": 1
         },
         "mode": "lines",
         "name": "Hydrogen Bond",
         "type": "scatter3d",
         "x": [
          -0.4675462355518921,
          0.4675462355518921
         ],
         "y": [
          -1.9445823504344717,
          1.9445823504344717
         ],
         "z": [
          3.5622317596566524,
          3.5622317596566524
         ]
        },
        {
         "line": {
          "color": "gray",
          "width": 1
         },
         "mode": "lines",
         "name": "Hydrogen Bond",
         "type": "scatter3d",
         "x": [
          -0.43251356406918307,
          0.43251356406918307
         ],
         "y": [
          -1.9526730440337863,
          1.9526730440337863
         ],
         "z": [
          3.57653791130186,
          3.57653791130186
         ]
        },
        {
         "line": {
          "color": "gray",
          "width": 1
         },
         "mode": "lines",
         "name": "Hydrogen Bond",
         "type": "scatter3d",
         "x": [
          -0.3973411098907545,
          0.3973411098907545
         ],
         "y": [
          -1.9601326593857833,
          1.9601326593857833
         ],
         "z": [
          3.5908440629470673,
          3.5908440629470673
         ]
        },
        {
         "line": {
          "color": "gray",
          "width": 1
         },
         "mode": "lines",
         "name": "Hydrogen Bond",
         "type": "scatter3d",
         "x": [
          -0.3620402402912276,
          0.3620402402912276
         ],
         "y": [
          -1.9669587856408863,
          1.9669587856408863
         ],
         "z": [
          3.6051502145922747,
          3.6051502145922747
         ]
        },
        {
         "line": {
          "color": "gray",
          "width": 1
         },
         "mode": "lines",
         "name": "Hydrogen Bond",
         "type": "scatter3d",
         "x": [
          -0.32662236404739875,
          0.32662236404739875
         ],
         "y": [
          -1.973149216684863,
          1.973149216684863
         ],
         "z": [
          3.619456366237482,
          3.619456366237482
         ]
        },
        {
         "line": {
          "color": "gray",
          "width": 1
         },
         "mode": "lines",
         "name": "Hydrogen Bond",
         "type": "scatter3d",
         "x": [
          -0.29109892775107293,
          0.29109892775107293
         ],
         "y": [
          -1.9787019518518132,
          1.9787019518518132
         ],
         "z": [
          3.6337625178826896,
          3.6337625178826896
         ]
        },
        {
         "line": {
          "color": "gray",
          "width": 1
         },
         "mode": "lines",
         "name": "Hydrogen Bond",
         "type": "scatter3d",
         "x": [
          -0.2554814121096758,
          0.2554814121096758
         ],
         "y": [
          -1.9836151965707578,
          1.9836151965707578
         ],
         "z": [
          3.648068669527897,
          3.648068669527897
         ]
        },
        {
         "line": {
          "color": "gray",
          "width": 1
         },
         "mode": "lines",
         "name": "Hydrogen Bond",
         "type": "scatter3d",
         "x": [
          -0.21978132823584,
          0.21978132823584
         ],
         "y": [
          -1.9878873629456197,
          1.9878873629456197
         ],
         "z": [
          3.6623748211731044,
          3.6623748211731044
         ]
        },
        {
         "line": {
          "color": "gray",
          "width": 1
         },
         "mode": "lines",
         "name": "Hydrogen Bond",
         "type": "scatter3d",
         "x": [
          -0.18401021392716527,
          0.18401021392716527
         ],
         "y": [
          -1.991517070268412,
          1.991517070268412
         ],
         "z": [
          3.676680972818312,
          3.676680972818312
         ]
        },
        {
         "line": {
          "color": "gray",
          "width": 1
         },
         "mode": "lines",
         "name": "Hydrogen Bond",
         "type": "scatter3d",
         "x": [
          -0.14817962993735345,
          0.14817962993735345
         ],
         "y": [
          -1.9945031454654638,
          1.9945031454654638
         ],
         "z": [
          3.6909871244635193,
          3.6909871244635193
         ]
        },
        {
         "line": {
          "color": "gray",
          "width": 1
         },
         "mode": "lines",
         "name": "Hydrogen Bond",
         "type": "scatter3d",
         "x": [
          -0.11230115623992534,
          0.11230115623992534
         ],
         "y": [
          -1.9968446234765427,
          1.9968446234765427
         ],
         "z": [
          3.7052932761087267,
          3.7052932761087267
         ]
        },
        {
         "line": {
          "color": "gray",
          "width": 1
         },
         "mode": "lines",
         "name": "Hydrogen Bond",
         "type": "scatter3d",
         "x": [
          -0.0763863882857254,
          0.0763863882857254
         ],
         "y": [
          -1.9985407475667496,
          1.9985407475667496
         ],
         "z": [
          3.719599427753934,
          3.719599427753934
         ]
        },
        {
         "line": {
          "color": "gray",
          "width": 1
         },
         "mode": "lines",
         "name": "Hydrogen Bond",
         "type": "scatter3d",
         "x": [
          -0.04044693325542456,
          0.04044693325542456
         ],
         "y": [
          -1.999590969571085,
          1.999590969571085
         ],
         "z": [
          3.7339055793991416,
          3.7339055793991416
         ]
        },
        {
         "line": {
          "color": "gray",
          "width": 1
         },
         "mode": "lines",
         "name": "Hydrogen Bond",
         "type": "scatter3d",
         "x": [
          -0.004494406308232055,
          0.004494406308232055
         ],
         "y": [
          -1.9999949500716088,
          1.9999949500716088
         ],
         "z": [
          3.748211731044349,
          3.748211731044349
         ]
        },
        {
         "line": {
          "color": "gray",
          "width": 1
         },
         "mode": "lines",
         "name": "Hydrogen Bond",
         "type": "scatter3d",
         "x": [
          0.03145957317197124,
          -0.03145957317197124
         ],
         "y": [
          -1.9997525585071363,
          1.9997525585071363
         ],
         "z": [
          3.7625178826895564,
          3.7625178826895564
         ]
        },
        {
         "line": {
          "color": "gray",
          "width": 1
         },
         "mode": "lines",
         "name": "Hydrogen Bond",
         "type": "scatter3d",
         "x": [
          0.06740338533186488,
          -0.06740338533186488
         ],
         "y": [
          -1.9988638732154334,
          1.9988638732154334
         ],
         "z": [
          3.776824034334764,
          3.776824034334764
         ]
        },
        {
         "line": {
          "color": "gray",
          "width": 1
         },
         "mode": "lines",
         "name": "Hydrogen Bond",
         "type": "scatter3d",
         "x": [
          0.10332541360407264,
          -0.10332541360407264
         ],
         "y": [
          -1.9973291814078988,
          1.9973291814078988
         ],
         "z": [
          3.7911301859799713,
          3.7911301859799713
         ]
        },
        {
         "line": {
          "color": "gray",
          "width": 1
         },
         "mode": "lines",
         "name": "Hydrogen Bond",
         "type": "scatter3d",
         "x": [
          0.1392140484614843,
          -0.1392140484614843
         ],
         "y": [
          -1.9951489790767414,
          1.9951489790767414
         ],
         "z": [
          3.8054363376251787,
          3.8054363376251787
         ]
        },
        {
         "line": {
          "color": "gray",
          "width": 1
         },
         "mode": "lines",
         "name": "Hydrogen Bond",
         "type": "scatter3d",
         "x": [
          0.17505769116930386,
          -0.17505769116930386
         ],
         "y": [
          -1.9923239708346814,
          1.9923239708346814
         ],
         "z": [
          3.819742489270386,
          3.819742489270386
         ]
        },
        {
         "line": {
          "color": "gray",
          "width": 1
         },
         "mode": "lines",
         "name": "Hydrogen Bond",
         "type": "scatter3d",
         "x": [
          0.21084475753360116,
          -0.21084475753360116
         ],
         "y": [
          -1.98885506968723,
          1.98885506968723
         ],
         "z": [
          3.8340486409155936,
          3.8340486409155936
         ]
        },
        {
         "line": {
          "color": "gray",
          "width": 1
         },
         "mode": "lines",
         "name": "Hydrogen Bond",
         "type": "scatter3d",
         "x": [
          0.24656368164518136,
          -0.24656368164518136
         ],
         "y": [
          -1.984743396737617,
          1.984743396737617
         ],
         "z": [
          3.848354792560801,
          3.848354792560801
         ]
        },
        {
         "line": {
          "color": "gray",
          "width": 1
         },
         "mode": "lines",
         "name": "Hydrogen Bond",
         "type": "scatter3d",
         "x": [
          0.28220291961752786,
          -0.28220291961752786
         ],
         "y": [
          -1.979990280824465,
          1.979990280824465
         ],
         "z": [
          3.8626609442060085,
          3.8626609442060085
         ]
        },
        {
         "line": {
          "color": "gray",
          "width": 1
         },
         "mode": "lines",
         "name": "Hydrogen Bond",
         "type": "scatter3d",
         "x": [
          0.3177509533176363,
          -0.3177509533176363
         ],
         "y": [
          -1.9745972580923263,
          1.9745972580923263
         ],
         "z": [
          3.876967095851216,
          3.876967095851216
         ]
        },
        {
         "line": {
          "color": "gray",
          "width": 1
         },
         "mode": "lines",
         "name": "Hydrogen Bond",
         "type": "scatter3d",
         "x": [
          0.35319629408852354,
          -0.35319629408852354
         ],
         "y": [
          -1.9685660714952224,
          1.9685660714952224
         ],
         "z": [
          3.8912732474964233,
          3.8912732474964233
         ]
        },
        {
         "line": {
          "color": "gray",
          "width": 1
         },
         "mode": "lines",
         "name": "Hydrogen Bond",
         "type": "scatter3d",
         "x": [
          0.38852748646221064,
          -0.38852748646221064
         ],
         "y": [
          -1.9618986702333423,
          1.9618986702333423
         ],
         "z": [
          3.9055793991416308,
          3.9055793991416308
         ]
        },
        {
         "line": {
          "color": "gray",
          "width": 1
         },
         "mode": "lines",
         "name": "Hydrogen Bond",
         "type": "scatter3d",
         "x": [
          0.42373311186197943,
          -0.42373311186197943
         ],
         "y": [
          -1.9545972091230877,
          1.9545972091230877
         ],
         "z": [
          3.919885550786838,
          3.919885550786838
         ]
        },
        {
         "line": {
          "color": "gray",
          "width": 1
         },
         "mode": "lines",
         "name": "Hydrogen Bond",
         "type": "scatter3d",
         "x": [
          0.45880179229270635,
          -0.45880179229270635
         ],
         "y": [
          -1.9466640479006645,
          1.9466640479006645
         ],
         "z": [
          3.9341917024320456,
          3.9341917024320456
         ]
        },
        {
         "line": {
          "color": "gray",
          "width": 1
         },
         "mode": "lines",
         "name": "Hydrogen Bond",
         "type": "scatter3d",
         "x": [
          0.4937221940180807,
          -0.4937221940180807
         ],
         "y": [
          -1.938101750459447,
          1.938101750459447
         ],
         "z": [
          3.948497854077253,
          3.948497854077253
         ]
        },
        {
         "line": {
          "color": "gray",
          "width": 1
         },
         "mode": "lines",
         "name": "Hydrogen Bond",
         "type": "scatter3d",
         "x": [
          0.5284830312235195,
          -0.5284830312235195
         ],
         "y": [
          -1.9289130840213617,
          1.9289130840213617
         ],
         "z": [
          3.9628040057224605,
          3.9628040057224605
         ]
        },
        {
         "line": {
          "color": "gray",
          "width": 1
         },
         "mode": "lines",
         "name": "Hydrogen Bond",
         "type": "scatter3d",
         "x": [
          0.5630730696635936,
          -0.5630730696635936
         ],
         "y": [
          -1.9191010182425567,
          1.9191010182425567
         ],
         "z": [
          3.977110157367668,
          3.977110157367668
         ]
        },
        {
         "line": {
          "color": "gray",
          "width": 1
         },
         "mode": "lines",
         "name": "Hydrogen Bond",
         "type": "scatter3d",
         "x": [
          0.5974811302927893,
          -0.5974811302927893
         ],
         "y": [
          -1.9086687242536486,
          1.9086687242536486
         ],
         "z": [
          3.9914163090128754,
          3.9914163090128754
         ]
        },
        {
         "line": {
          "color": "gray",
          "width": 1
         },
         "mode": "lines",
         "name": "Hydrogen Bond",
         "type": "scatter3d",
         "x": [
          0.6316960928784274,
          -0.6316960928784274
         ],
         "y": [
          -1.8976195736348551,
          1.8976195736348551
         ],
         "z": [
          4.005722460658083,
          4.005722460658083
         ]
        },
        {
         "line": {
          "color": "gray",
          "width": 1
         },
         "mode": "lines",
         "name": "Hydrogen Bond",
         "type": "scatter3d",
         "x": [
          0.6657068995945774,
          -0.6657068995945774
         ],
         "y": [
          -1.885957137326343,
          1.885957137326343
         ],
         "z": [
          4.020028612303291,
          4.020028612303291
         ]
        },
        {
         "line": {
          "color": "gray",
          "width": 1
         },
         "mode": "lines",
         "name": "Hydrogen Bond",
         "type": "scatter3d",
         "x": [
          0.6995025585958005,
          -0.6995025585958005
         ],
         "y": [
          -1.8736851844741498,
          1.8736851844741498
         ],
         "z": [
          4.034334763948498,
          4.034334763948498
         ]
        },
        {
         "line": {
          "color": "gray",
          "width": 1
         },
         "mode": "lines",
         "name": "Hydrogen Bond",
         "type": "scatter3d",
         "x": [
          0.73307214756957,
          -0.73307214756957
         ],
         "y": [
          -1.8608076812120427,
          1.8608076812120427
         ],
         "z": [
          4.0486409155937055,
          4.0486409155937055
         ]
        },
        {
         "line": {
          "color": "gray",
          "width": 1
         },
         "mode": "lines",
         "name": "Hydrogen Bond",
         "type": "scatter3d",
         "x": [
          0.7664048172662188,
          -0.7664048172662188
         ],
         "y": [
          -1.847328789379718,
          1.847328789379718
         ],
         "z": [
          4.0629470672389125,
          4.0629470672389125
         ]
        },
        {
         "line": {
          "color": "gray",
          "width": 1
         },
         "mode": "lines",
         "name": "Hydrogen Bond",
         "type": "scatter3d",
         "x": [
          0.7994897950052746,
          -0.7994897950052746
         ],
         "y": [
          -1.8332528651777484,
          1.8332528651777484
         ],
         "z": [
          4.07725321888412,
          4.07725321888412
         ]
        },
        {
         "line": {
          "color": "gray",
          "width": 1
         },
         "mode": "lines",
         "name": "Hydrogen Bond",
         "type": "scatter3d",
         "x": [
          0.8323163881570481,
          -0.8323163881570481
         ],
         "y": [
          -1.8185844577597177,
          1.8185844577597177
         ],
         "z": [
          4.091559370529327,
          4.091559370529327
         ]
        },
        {
         "line": {
          "color": "gray",
          "width": 1
         },
         "mode": "lines",
         "name": "Hydrogen Bond",
         "type": "scatter3d",
         "x": [
          0.8648739875983505,
          -0.8648739875983505
         ],
         "y": [
          -1.8033283077619915,
          1.8033283077619915
         ],
         "z": [
          4.105865522174535,
          4.105865522174535
         ]
        },
        {
         "line": {
          "color": "gray",
          "width": 1
         },
         "mode": "lines",
         "name": "Hydrogen Bond",
         "type": "scatter3d",
         "x": [
          0.8971520711412241,
          -0.8971520711412241
         ],
         "y": [
          -1.7874893457716081,
          1.7874893457716081
         ],
         "z": [
          4.120171673819742,
          4.120171673819742
         ]
        },
        {
         "line": {
          "color": "gray",
          "width": 1
         },
         "mode": "lines",
         "name": "Hydrogen Bond",
         "type": "scatter3d",
         "x": [
          0.9291402069335688,
          -0.9291402069335688
         ],
         "y": [
          -1.7710726907327787,
          1.7710726907327787
         ],
         "z": [
          4.13447782546495,
          4.13447782546495
         ]
        },
        {
         "line": {
          "color": "gray",
          "width": 1
         },
         "mode": "lines",
         "name": "Hydrogen Bond",
         "type": "scatter3d",
         "x": [
          0.9608280568305888,
          -0.9608280568305888
         ],
         "y": [
          -1.754083648292508,
          1.754083648292508
         ],
         "z": [
          4.148783977110157,
          4.148783977110157
         ]
        },
        {
         "line": {
          "color": "gray",
          "width": 1
         },
         "mode": "lines",
         "name": "Hydrogen Bond",
         "type": "scatter3d",
         "x": [
          0.9922053797359395,
          -0.9922053797359395
         ],
         "y": [
          -1.7365277090858815,
          1.7365277090858815
         ],
         "z": [
          4.163090128755365,
          4.163090128755365
         ]
        },
        {
         "line": {
          "color": "gray",
          "width": 1
         },
         "mode": "lines",
         "name": "Hydrogen Bond",
         "type": "scatter3d",
         "x": [
          1.0232620349115156,
          -1.0232620349115156
         ],
         "y": [
          -1.718410546961565,
          1.718410546961565
         ],
         "z": [
          4.177396280400572,
          4.177396280400572
         ]
        },
        {
         "line": {
          "color": "gray",
          "width": 1
         },
         "mode": "lines",
         "name": "Hydrogen Bond",
         "type": "scatter3d",
         "x": [
          1.0539879852548046,
          -1.0539879852548046
         ],
         "y": [
          -1.6997380171480891,
          1.6997380171480891
         ],
         "z": [
          4.19170243204578,
          4.19170243204578
         ]
        },
        {
         "line": {
          "color": "gray",
          "width": 1
         },
         "mode": "lines",
         "name": "Hydrogen Bond",
         "type": "scatter3d",
         "x": [
          1.0843733005427472,
          -1.0843733005427472
         ],
         "y": [
          -1.680516154361519,
          1.680516154361519
         ],
         "z": [
          4.206008583690987,
          4.206008583690987
         ]
        },
        {
         "line": {
          "color": "gray",
          "width": 1
         },
         "mode": "lines",
         "name": "Hydrogen Bond",
         "type": "scatter3d",
         "x": [
          1.1144081606410536,
          -1.1144081606410536
         ],
         "y": [
          -1.6607511708551113,
          1.6607511708551113
         ],
         "z": [
          4.220314735336195,
          4.220314735336195
         ]
        },
        {
         "line": {
          "color": "gray",
          "width": 1
         },
         "mode": "lines",
         "name": "Hydrogen Bond",
         "type": "scatter3d",
         "x": [
          1.1440828586779428,
          -1.1440828586779428
         ],
         "y": [
          -1.640449454411597,
          1.640449454411597
         ],
         "z": [
          4.234620886981402,
          4.234620886981402
         ]
        },
        {
         "line": {
          "color": "gray",
          "width": 1
         },
         "mode": "lines",
         "name": "Hydrogen Bond",
         "type": "scatter3d",
         "x": [
          1.1733878041812746,
          -1.1733878041812746
         ],
         "y": [
          -1.619617566278733,
          1.619617566278733
         ],
         "z": [
          4.24892703862661,
          4.24892703862661
         ]
        },
        {
         "line": {
          "color": "gray",
          "width": 1
         },
         "mode": "lines",
         "name": "Hydrogen Bond",
         "type": "scatter3d",
         "x": [
          1.2023135261780658,
          -1.2023135261780658
         ],
         "y": [
          -1.5982622390487944,
          1.5982622390487944
         ],
         "z": [
          4.263233190271817,
          4.263233190271817
         ]
        },
        {
         "line": {
          "color": "gray",
          "width": 1
         },
         "mode": "lines",
         "name": "Hydrogen Bond",
         "type": "scatter3d",
         "x": [
          1.2308506762553824,
          -1.2308506762553824
         ],
         "y": [
          -1.5763903744826875,
          1.5763903744826875
         ],
         "z": [
          4.2775393419170245,
          4.2775393419170245
         ]
        },
        {
         "line": {
          "color": "gray",
          "width": 1
         },
         "mode": "lines",
         "name": "Hydrogen Bond",
         "type": "scatter3d",
         "x": [
          1.2589900315816247,
          -1.2589900315816247
         ],
         "y": [
          -1.5540090412793934,
          1.5540090412793934
         ],
         "z": [
          4.291845493562231,
          4.291845493562231
         ]
        },
        {
         "line": {
          "color": "gray",
          "width": 1
         },
         "mode": "lines",
         "name": "Hydrogen Bond",
         "type": "scatter3d",
         "x": [
          1.2867224978872254,
          -1.2867224978872254
         ],
         "y": [
          -1.5311254727914558,
          1.5311254727914558
         ],
         "z": [
          4.306151645207439,
          4.306151645207439
         ]
        },
        {
         "line": {
          "color": "gray",
          "width": 1
         },
         "mode": "lines",
         "name": "Hydrogen Bond",
         "type": "scatter3d",
         "x": [
          1.314039112403797,
          -1.314039112403797
         ],
         "y": [
          -1.5077470646872577,
          1.5077470646872577
         ],
         "z": [
          4.320457796852646,
          4.320457796852646
         ]
        },
        {
         "line": {
          "color": "gray",
          "width": 1
         },
         "mode": "lines",
         "name": "Hydrogen Bond",
         "type": "scatter3d",
         "x": [
          1.3409310467607811,
          -1.3409310467607811
         ],
         "y": [
          -1.483881372560838,
          1.483881372560838
         ],
         "z": [
          4.334763948497854,
          4.334763948497854
         ]
        },
        {
         "line": {
          "color": "gray",
          "width": 1
         },
         "mode": "lines",
         "name": "Hydrogen Bond",
         "type": "scatter3d",
         "x": [
          1.3673896098386622,
          -1.3673896098386622
         ],
         "y": [
          -1.4595361094900228,
          1.4595361094900228
         ],
         "z": [
          4.349070100143061,
          4.349070100143061
         ]
        },
        {
         "line": {
          "color": "gray",
          "width": 1
         },
         "mode": "lines",
         "name": "Hydrogen Bond",
         "type": "scatter3d",
         "x": [
          1.3934062505778222,
          -1.3934062505778222
         ],
         "y": [
          -1.4347191435436608,
          1.4347191435436608
         ],
         "z": [
          4.363376251788269,
          4.363376251788269
         ]
        },
        {
         "line": {
          "color": "gray",
          "width": 1
         },
         "mode": "lines",
         "name": "Hydrogen Bond",
         "type": "scatter3d",
         "x": [
          1.4189725607421313,
          -1.4189725607421313
         ],
         "y": [
          -1.4094384952387664,
          1.4094384952387664
         ],
         "z": [
          4.377682403433476,
          4.377682403433476
         ]
        },
        {
         "line": {
          "color": "gray",
          "width": 1
         },
         "mode": "lines",
         "name": "Hydrogen Bond",
         "type": "scatter3d",
         "x": [
          1.4440802776363788,
          -1.4440802776363788
         ],
         "y": [
          -1.3837023349483943,
          1.3837023349483943
         ],
         "z": [
          4.391988555078684,
          4.391988555078684
         ]
        },
        {
         "line": {
          "color": "gray",
          "width": 1
         },
         "mode": "lines",
         "name": "Hydrogen Bond",
         "type": "scatter3d",
         "x": [
          1.4687212867766681,
          -1.4687212867766681
         ],
         "y": [
          -1.3575189802610823,
          1.3575189802610823
         ],
         "z": [
          4.406294706723891,
          4.406294706723891
         ]
        },
        {
         "line": {
          "color": "gray",
          "width": 1
         },
         "mode": "lines",
         "name": "Hydrogen Bond",
         "type": "scatter3d",
         "x": [
          1.49288762451291,
          -1.49288762451291
         ],
         "y": [
          -1.3308968932927152,
          1.3308968932927152
         ],
         "z": [
          4.420600858369099,
          4.420600858369099
         ]
        },
        {
         "line": {
          "color": "gray",
          "width": 1
         },
         "mode": "lines",
         "name": "Hydrogen Bond",
         "type": "scatter3d",
         "x": [
          1.5165714806025723,
          -1.5165714806025723
         ],
         "y": [
          -1.3038446779516808,
          1.3038446779516808
         ],
         "z": [
          4.434907010014306,
          4.434907010014306
         ]
        },
        {
         "line": {
          "color": "gray",
          "width": 1
         },
         "mode": "lines",
         "name": "Hydrogen Bond",
         "type": "scatter3d",
         "x": [
          1.539765200734842,
          -1.539765200734842
         ],
         "y": [
          -1.2763710771582033,
          1.2763710771582033
         ],
         "z": [
          4.449213161659514,
          4.449213161659514
         ]
        },
        {
         "line": {
          "color": "gray",
          "width": 1
         },
         "mode": "lines",
         "name": "Hydrogen Bond",
         "type": "scatter3d",
         "x": [
          1.5624612890044047,
          -1.5624612890044047
         ],
         "y": [
          -1.2484849700187401,
          1.2484849700187401
         ],
         "z": [
          4.463519313304721,
          4.463519313304721
         ]
        },
        {
         "line": {
          "color": "gray",
          "width": 1
         },
         "mode": "lines",
         "name": "Hydrogen Bond",
         "type": "scatter3d",
         "x": [
          1.5846524103340187,
          -1.5846524103340187
         ],
         "y": [
          -1.2201953689563754,
          1.2201953689563754
         ],
         "z": [
          4.4778254649499285,
          4.4778254649499285
         ]
        },
        {
         "line": {
          "color": "gray",
          "width": 1
         },
         "mode": "lines",
         "name": "Hydrogen Bond",
         "type": "scatter3d",
         "x": [
          1.6063313928451162,
          -1.6063313928451162
         ],
         "y": [
          -1.1915114167981224,
          1.1915114167981224
         ],
         "z": [
          4.4921316165951355,
          4.4921316165951355
         ]
        },
        {
         "line": {
          "color": "gray",
          "width": 1
         },
         "mode": "lines",
         "name": "Hydrogen Bond",
         "type": "scatter3d",
         "x": [
          1.6274912301756599,
          -1.6274912301756599
         ],
         "y": [
          -1.162442383820083,
          1.162442383820083
         ],
         "z": [
          4.506437768240343,
          4.506437768240343
         ]
        },
        {
         "line": {
          "color": "gray",
          "width": 1
         },
         "mode": "lines",
         "name": "Hydrogen Bond",
         "type": "scatter3d",
         "x": [
          1.6481250837445074,
          -1.6481250837445074
         ],
         "y": [
          -1.1329976647514153,
          1.1329976647514153
         ],
         "z": [
          4.52074391988555,
          4.52074391988555
         ]
        },
        {
         "line": {
          "color": "gray",
          "width": 1
         },
         "mode": "lines",
         "name": "Hydrogen Bond",
         "type": "scatter3d",
         "x": [
          1.6682262849615508,
          -1.6682262849615508
         ],
         "y": [
          -1.1031867757380809,
          1.1031867757380809
         ],
         "z": [
          4.535050071530758,
          4.535050071530758
         ]
        },
        {
         "line": {
          "color": "gray",
          "width": 1
         },
         "mode": "lines",
         "name": "Hydrogen Bond",
         "type": "scatter3d",
         "x": [
          1.6877883373829168,
          -1.6877883373829168
         ],
         "y": [
          -1.073019351267352,
          1.073019351267352
         ],
         "z": [
          4.549356223175965,
          4.549356223175965
         ]
        },
        {
         "line": {
          "color": "gray",
          "width": 1
         },
         "mode": "lines",
         "name": "Hydrogen Bond",
         "type": "scatter3d",
         "x": [
          1.706804918810533,
          -1.706804918810533
         ],
         "y": [
          -1.042505141054072,
          1.042505141054072
         ],
         "z": [
          4.563662374821173,
          4.563662374821173
         ]
        },
        {
         "line": {
          "color": "gray",
          "width": 1
         },
         "mode": "lines",
         "name": "Hydrogen Bond",
         "type": "scatter3d",
         "x": [
          1.7252698833353772,
          -1.7252698833353772
         ],
         "y": [
          -1.0116540068896747,
          1.0116540068896747
         ],
         "z": [
          4.57796852646638,
          4.57796852646638
         ]
        },
        {
         "line": {
          "color": "gray",
          "width": 1
         },
         "mode": "lines",
         "name": "Hydrogen Bond",
         "type": "scatter3d",
         "x": [
          1.743177263323757,
          -1.743177263323757
         ],
         "y": [
          -0.9804759194549845,
          0.9804759194549845
         ],
         "z": [
          4.592274678111588,
          4.592274678111588
         ]
        },
        {
         "line": {
          "color": "gray",
          "width": 1
         },
         "mode": "lines",
         "name": "Hydrogen Bond",
         "type": "scatter3d",
         "x": [
          1.7605212713459681,
          -1.7605212713459681
         ],
         "y": [
          -0.9489809550978228,
          0.9489809550978228
         ],
         "z": [
          4.606580829756796,
          4.606580829756796
         ]
        },
        {
         "line": {
          "color": "gray",
          "width": 1
         },
         "mode": "lines",
         "name": "Hydrogen Bond",
         "type": "scatter3d",
         "x": [
          1.7772963020467172,
          -1.7772963020467172
         ],
         "y": [
          -0.9171792925764649,
          0.9171792925764649
         ],
         "z": [
          4.620886981402003,
          4.620886981402003
         ]
        },
        {
         "line": {
          "color": "gray",
          "width": 1
         },
         "mode": "lines",
         "name": "Hydrogen Bond",
         "type": "scatter3d",
         "x": [
          1.7934969339566975,
          -1.7934969339566975
         ],
         "y": [
          -0.8850812097699992,
          0.8850812097699992
         ],
         "z": [
          4.635193133047211,
          4.635193133047211
         ]
        },
        {
         "line": {
          "color": "gray",
          "width": 1
         },
         "mode": "lines",
         "name": "Hydrogen Bond",
         "type": "scatter3d",
         "x": [
          1.8091179312447383,
          -1.8091179312447383
         ],
         "y": [
          -0.8526970803566518,
          0.8526970803566518
         ],
         "z": [
          4.649499284692418,
          4.649499284692418
         ]
        },
        {
         "line": {
          "color": "gray",
          "width": 1
         },
         "mode": "lines",
         "name": "Hydrogen Bond",
         "type": "scatter3d",
         "x": [
          1.8241542454099549,
          -1.8241542454099549
         ],
         "y": [
          -0.8200373704611504,
          0.8200373704611504
         ],
         "z": [
          4.663805436337626,
          4.663805436337626
         ]
        },
        {
         "line": {
          "color": "gray",
          "width": 1
         },
         "mode": "lines",
         "name": "Hydrogen Bond",
         "type": "scatter3d",
         "x": [
          1.8386010169133586,
          -1.8386010169133586
         ],
         "y": [
          -0.7871126352722101,
          0.7871126352722101
         ],
         "z": [
          4.6781115879828326,
          4.6781115879828326
         ]
        },
        {
         "line": {
          "color": "gray",
          "width": 1
         },
         "mode": "lines",
         "name": "Hydrogen Bond",
         "type": "scatter3d",
         "x": [
          1.852453576748396,
          -1.852453576748396
         ],
         "y": [
          -0.7539335156312353,
          0.7539335156312353
         ],
         "z": [
          4.69241773962804,
          4.69241773962804
         ]
        },
        {
         "line": {
          "color": "gray",
          "width": 1
         },
         "mode": "lines",
         "name": "Hydrogen Bond",
         "type": "scatter3d",
         "x": [
          1.8657074479499098,
          -1.8657074479499098
         ],
         "y": [
          -0.72051073459334,
          0.72051073459334
         ],
         "z": [
          4.706723891273247,
          4.706723891273247
         ]
        },
        {
         "line": {
          "color": "gray",
          "width": 1
         },
         "mode": "lines",
         "name": "Hydrogen Bond",
         "type": "scatter3d",
         "x": [
          1.8783583470410354,
          -1.8783583470410354
         ],
         "y": [
          -0.6868550939617971,
          0.6868550939617971
         ],
         "z": [
          4.721030042918455,
          4.721030042918455
         ]
        },
        {
         "line": {
          "color": "gray",
          "width": 1
         },
         "mode": "lines",
         "name": "Hydrogen Bond",
         "type": "scatter3d",
         "x": [
          1.890402185417565,
          -1.890402185417565
         ],
         "y": [
          -0.6529774707970358,
          0.6529774707970358
         ],
         "z": [
          4.735336194563662,
          4.735336194563662
         ]
        },
        {
         "line": {
          "color": "gray",
          "width": 1
         },
         "mode": "lines",
         "name": "Hydrogen Bond",
         "type": "scatter3d",
         "x": [
          1.9018350706693286,
          -1.9018350706693286
         ],
         "y": [
          -0.6188888139013261,
          0.6188888139013261
         ],
         "z": [
          4.74964234620887,
          4.74964234620887
         ]
        },
        {
         "line": {
          "color": "gray",
          "width": 1
         },
         "mode": "lines",
         "name": "Hydrogen Bond",
         "type": "scatter3d",
         "x": [
          1.912653307838172,
          -1.912653307838172
         ],
         "y": [
          -0.5846001402802591,
          0.5846001402802591
         ],
         "z": [
          4.763948497854077,
          4.763948497854077
         ]
        },
        {
         "line": {
          "color": "gray",
          "width": 1
         },
         "mode": "lines",
         "name": "Hydrogen Bond",
         "type": "scatter3d",
         "x": [
          1.9228534006121185,
          -1.9228534006121185
         ],
         "y": [
          -0.5501225315822027,
          0.5501225315822027
         ],
         "z": [
          4.778254649499285,
          4.778254649499285
         ]
        },
        {
         "line": {
          "color": "gray",
          "width": 1
         },
         "mode": "lines",
         "name": "Hydrogen Bond",
         "type": "scatter3d",
         "x": [
          1.9324320524553296,
          -1.9324320524553296
         ],
         "y": [
          -0.5154671305168571,
          0.5154671305168571
         ],
         "z": [
          4.792560801144492,
          4.792560801144492
         ]
        },
        {
         "line": {
          "color": "gray",
          "width": 1
         },
         "mode": "lines",
         "name": "Hydrogen Bond",
         "type": "scatter3d",
         "x": [
          1.9413861676735027,
          -1.9413861676735027
         ],
         "y": [
          -0.4806451372540773,
          0.4806451372540773
         ],
         "z": [
          4.8068669527897,
          4.8068669527897
         ]
        },
        {
         "line": {
          "color": "gray",
          "width": 1
         },
         "mode": "lines",
         "name": "Hydrogen Bond",
         "type": "scatter3d",
         "x": [
          1.949712852414359,
          -1.949712852414359
         ],
         "y": [
          -0.4456678058041254,
          0.4456678058041254
         ],
         "z": [
          4.821173104434907,
          4.821173104434907
         ]
        },
        {
         "line": {
          "color": "gray",
          "width": 1
         },
         "mode": "lines",
         "name": "Hydrogen Bond",
         "type": "scatter3d",
         "x": [
          1.9574094156028987,
          -1.9574094156028987
         ],
         "y": [
          -0.4105464403805229,
          0.4105464403805229
         ],
         "z": [
          4.835479256080115,
          4.835479256080115
         ]
        },
        {
         "line": {
          "color": "gray",
          "width": 1
         },
         "mode": "lines",
         "name": "Hydrogen Bond",
         "type": "scatter3d",
         "x": [
          1.9644733698111203,
          -1.9644733698111203
         ],
         "y": [
          -0.3752923917466772,
          0.3752923917466772
         ],
         "z": [
          4.849785407725322,
          4.849785407725322
         ]
        },
        {
         "line": {
          "color": "gray",
          "width": 1
         },
         "mode": "lines",
         "name": "Hydrogen Bond",
         "type": "scatter3d",
         "x": [
          1.9709024320619248,
          -1.9709024320619248
         ],
         "y": [
          -0.3399170535474644,
          0.3399170535474644
         ],
         "z": [
          4.86409155937053,
          4.86409155937053
         ]
        },
        {
         "line": {
          "color": "gray",
          "width": 1
         },
         "mode": "lines",
         "name": "Hydrogen Bond",
         "type": "scatter3d",
         "x": [
          1.9766945245669445,
          -1.9766945245669445
         ],
         "y": [
          -0.30443185862695277,
          0.30443185862695277
         ],
         "z": [
          4.878397711015737,
          4.878397711015737
         ]
        },
        {
         "line": {
          "color": "gray",
          "width": 1
         },
         "mode": "lines",
         "name": "Hydrogen Bond",
         "type": "scatter3d",
         "x": [
          1.9818477753980563,
          -1.9818477753980563
         ],
         "y": [
          -0.2688482753334584,
          0.2688482753334584
         ],
         "z": [
          4.8927038626609445,
          4.8927038626609445
         ]
        },
        {
         "line": {
          "color": "gray",
          "width": 1
         },
         "mode": "lines",
         "name": "Hydrogen Bond",
         "type": "scatter3d",
         "x": [
          1.9863605190923646,
          -1.9863605190923646
         ],
         "y": [
          -0.2331778038131254,
          0.2331778038131254
         ],
         "z": [
          4.9070100143061515,
          4.9070100143061515
         ]
        },
        {
         "line": {
          "color": "gray",
          "width": 1
         },
         "mode": "lines",
         "name": "Hydrogen Bond",
         "type": "scatter3d",
         "x": [
          1.990231297190456,
          -1.990231297190456
         ],
         "y": [
          -0.19743197229323006,
          0.19743197229323006
         ],
         "z": [
          4.921316165951359,
          4.921316165951359
         ]
        },
        {
         "line": {
          "color": "gray",
          "width": 1
         },
         "mode": "lines",
         "name": "Hydrogen Bond",
         "type": "scatter3d",
         "x": [
          1.9934588587077562,
          -1.9934588587077562
         ],
         "y": [
          -0.16162233335640958,
          0.16162233335640958
         ],
         "z": [
          4.935622317596566,
          4.935622317596566
         ]
        },
        {
         "line": {
          "color": "gray",
          "width": 1
         },
         "mode": "lines",
         "name": "Hydrogen Bond",
         "type": "scatter3d",
         "x": [
          1.9960421605388297,
          -1.9960421605388297
         ],
         "y": [
          -0.125760460207019,
          0.125760460207019
         ],
         "z": [
          4.949928469241774,
          4.949928469241774
         ]
        },
        {
         "line": {
          "color": "gray",
          "width": 1
         },
         "mode": "lines",
         "name": "Hydrogen Bond",
         "type": "scatter3d",
         "x": [
          1.9979803677944987,
          -1.9979803677944987
         ],
         "y": [
          -0.08985794293082404,
          0.08985794293082404
         ],
         "z": [
          4.964234620886981,
          4.964234620886981
         ]
        },
        {
         "line": {
          "color": "gray",
          "width": 1
         },
         "mode": "lines",
         "name": "Hydrogen Bond",
         "type": "scatter3d",
         "x": [
          1.999272854071669,
          -1.999272854071669
         ],
         "y": [
          -0.05392638474923757,
          0.05392638474923757
         ],
         "z": [
          4.978540772532189,
          4.978540772532189
         ]
        },
        {
         "line": {
          "color": "gray",
          "width": 1
         },
         "mode": "lines",
         "name": "Hydrogen Bond",
         "type": "scatter3d",
         "x": [
          1.9999192016557736,
          -1.9999192016557736
         ],
         "y": [
          -0.017977398269311197,
          0.017977398269311197
         ],
         "z": [
          4.992846924177396,
          4.992846924177396
         ]
        },
        {
         "line": {
          "color": "gray",
          "width": 1
         },
         "mode": "lines",
         "name": "Hydrogen Bond",
         "type": "scatter3d",
         "x": [
          1.9999192016557736,
          -1.9999192016557736
         ],
         "y": [
          0.017977398269306666,
          -0.017977398269306666
         ],
         "z": [
          5.007153075822604,
          5.007153075822604
         ]
        },
        {
         "line": {
          "color": "gray",
          "width": 1
         },
         "mode": "lines",
         "name": "Hydrogen Bond",
         "type": "scatter3d",
         "x": [
          1.999272854071669,
          -1.999272854071669
         ],
         "y": [
          0.05392638474923304,
          -0.05392638474923304
         ],
         "z": [
          5.021459227467811,
          5.021459227467811
         ]
        },
        {
         "line": {
          "color": "gray",
          "width": 1
         },
         "mode": "lines",
         "name": "Hydrogen Bond",
         "type": "scatter3d",
         "x": [
          1.997980367794499,
          -1.997980367794499
         ],
         "y": [
          0.08985794293081951,
          -0.08985794293081951
         ],
         "z": [
          5.035765379113019,
          5.035765379113019
         ]
        },
        {
         "line": {
          "color": "gray",
          "width": 1
         },
         "mode": "lines",
         "name": "Hydrogen Bond",
         "type": "scatter3d",
         "x": [
          1.9960421605388299,
          -1.9960421605388299
         ],
         "y": [
          0.12576046020701626,
          -0.12576046020701626
         ],
         "z": [
          5.050071530758226,
          5.050071530758226
         ]
        },
        {
         "line": {
          "color": "gray",
          "width": 1
         },
         "mode": "lines",
         "name": "Hydrogen Bond",
         "type": "scatter3d",
         "x": [
          1.9934588587077564,
          -1.9934588587077564
         ],
         "y": [
          0.1616223333564068,
          -0.1616223333564068
         ],
         "z": [
          5.064377682403434,
          5.064377682403434
         ]
        },
        {
         "line": {
          "color": "gray",
          "width": 1
         },
         "mode": "lines",
         "name": "Hydrogen Bond",
         "type": "scatter3d",
         "x": [
          1.9902312971904563,
          -1.9902312971904563
         ],
         "y": [
          0.19743197229322731,
          -0.19743197229322731
         ],
         "z": [
          5.078683834048641,
          5.078683834048641
         ]
        },
        {
         "line": {
          "color": "gray",
          "width": 1
         },
         "mode": "lines",
         "name": "Hydrogen Bond",
         "type": "scatter3d",
         "x": [
          1.9863605190923648,
          -1.9863605190923648
         ],
         "y": [
          0.2331778038131226,
          -0.2331778038131226
         ],
         "z": [
          5.0929899856938485,
          5.0929899856938485
         ]
        },
        {
         "line": {
          "color": "gray",
          "width": 1
         },
         "mode": "lines",
         "name": "Hydrogen Bond",
         "type": "scatter3d",
         "x": [
          1.9818477753980568,
          -1.9818477753980568
         ],
         "y": [
          0.2688482753334557,
          -0.2688482753334557
         ],
         "z": [
          5.1072961373390555,
          5.1072961373390555
         ]
        },
        {
         "line": {
          "color": "gray",
          "width": 1
         },
         "mode": "lines",
         "name": "Hydrogen Bond",
         "type": "scatter3d",
         "x": [
          1.976694524566945,
          -1.976694524566945
         ],
         "y": [
          0.30443185862695005,
          -0.30443185862695005
         ],
         "z": [
          5.121602288984263,
          5.121602288984263
         ]
        },
        {
         "line": {
          "color": "gray",
          "width": 1
         },
         "mode": "lines",
         "name": "Hydrogen Bond",
         "type": "scatter3d",
         "x": [
          1.9709024320619253,
          -1.9709024320619253
         ],
         "y": [
          0.33991705354746166,
          -0.33991705354746166
         ],
         "z": [
          5.13590844062947,
          5.13590844062947
         ]
        },
        {
         "line": {
          "color": "gray",
          "width": 1
         },
         "mode": "lines",
         "name": "Hydrogen Bond",
         "type": "scatter3d",
         "x": [
          1.9644733698111208,
          -1.9644733698111208
         ],
         "y": [
          0.3752923917466745,
          -0.3752923917466745
         ],
         "z": [
          5.150214592274678,
          5.150214592274678
         ]
        },
        {
         "line": {
          "color": "gray",
          "width": 1
         },
         "mode": "lines",
         "name": "Hydrogen Bond",
         "type": "scatter3d",
         "x": [
          1.9574094156028994,
          -1.9574094156028994
         ],
         "y": [
          0.4105464403805202,
          -0.4105464403805202
         ],
         "z": [
          5.164520743919885,
          5.164520743919885
         ]
        },
        {
         "line": {
          "color": "gray",
          "width": 1
         },
         "mode": "lines",
         "name": "Hydrogen Bond",
         "type": "scatter3d",
         "x": [
          1.9497128524143597,
          -1.9497128524143597
         ],
         "y": [
          0.4456678058041227,
          -0.4456678058041227
         ],
         "z": [
          5.178826895565093,
          5.178826895565093
         ]
        },
        {
         "line": {
          "color": "gray",
          "width": 1
         },
         "mode": "lines",
         "name": "Hydrogen Bond",
         "type": "scatter3d",
         "x": [
          1.9413861676735034,
          -1.9413861676735034
         ],
         "y": [
          0.4806451372540746,
          -0.4806451372540746
         ],
         "z": [
          5.1931330472103,
          5.1931330472103
         ]
        },
        {
         "line": {
          "color": "gray",
          "width": 1
         },
         "mode": "lines",
         "name": "Hydrogen Bond",
         "type": "scatter3d",
         "x": [
          1.9324320524553302,
          -1.9324320524553302
         ],
         "y": [
          0.5154671305168546,
          -0.5154671305168546
         ],
         "z": [
          5.207439198855508,
          5.207439198855508
         ]
        },
        {
         "line": {
          "color": "gray",
          "width": 1
         },
         "mode": "lines",
         "name": "Hydrogen Bond",
         "type": "scatter3d",
         "x": [
          1.9228534006121192,
          -1.9228534006121192
         ],
         "y": [
          0.5501225315822001,
          -0.5501225315822001
         ],
         "z": [
          5.221745350500715,
          5.221745350500715
         ]
        },
        {
         "line": {
          "color": "gray",
          "width": 1
         },
         "mode": "lines",
         "name": "Hydrogen Bond",
         "type": "scatter3d",
         "x": [
          1.912653307838173,
          -1.912653307838173
         ],
         "y": [
          0.5846001402802565,
          -0.5846001402802565
         ],
         "z": [
          5.236051502145923,
          5.236051502145923
         ]
        },
        {
         "line": {
          "color": "gray",
          "width": 1
         },
         "mode": "lines",
         "name": "Hydrogen Bond",
         "type": "scatter3d",
         "x": [
          1.9018350706693292,
          -1.9018350706693292
         ],
         "y": [
          0.6188888139013237,
          -0.6188888139013237
         ],
         "z": [
          5.25035765379113,
          5.25035765379113
         ]
        },
        {
         "line": {
          "color": "gray",
          "width": 1
         },
         "mode": "lines",
         "name": "Hydrogen Bond",
         "type": "scatter3d",
         "x": [
          1.8904021854175659,
          -1.8904021854175659
         ],
         "y": [
          0.6529774707970334,
          -0.6529774707970334
         ],
         "z": [
          5.264663805436338,
          5.264663805436338
         ]
        },
        {
         "line": {
          "color": "gray",
          "width": 1
         },
         "mode": "lines",
         "name": "Hydrogen Bond",
         "type": "scatter3d",
         "x": [
          1.878358347041037,
          -1.878358347041037
         ],
         "y": [
          0.6868550939617929,
          -0.6868550939617929
         ],
         "z": [
          5.278969957081545,
          5.278969957081545
         ]
        },
        {
         "line": {
          "color": "gray",
          "width": 1
         },
         "mode": "lines",
         "name": "Hydrogen Bond",
         "type": "scatter3d",
         "x": [
          1.8657074479499114,
          -1.8657074479499114
         ],
         "y": [
          0.7205107345933359,
          -0.7205107345933359
         ],
         "z": [
          5.293276108726753,
          5.293276108726753
         ]
        },
        {
         "line": {
          "color": "gray",
          "width": 1
         },
         "mode": "lines",
         "name": "Hydrogen Bond",
         "type": "scatter3d",
         "x": [
          1.8524535767483978,
          -1.8524535767483978
         ],
         "y": [
          0.7539335156312312,
          -0.7539335156312312
         ],
         "z": [
          5.30758226037196,
          5.30758226037196
         ]
        },
        {
         "line": {
          "color": "gray",
          "width": 1
         },
         "mode": "lines",
         "name": "Hydrogen Bond",
         "type": "scatter3d",
         "x": [
          1.8386010169133604,
          -1.8386010169133604
         ],
         "y": [
          0.787112635272206,
          -0.787112635272206
         ],
         "z": [
          5.3218884120171674,
          5.3218884120171674
         ]
        },
        {
         "line": {
          "color": "gray",
          "width": 1
         },
         "mode": "lines",
         "name": "Hydrogen Bond",
         "type": "scatter3d",
         "x": [
          1.8241542454099566,
          -1.8241542454099566
         ],
         "y": [
          0.8200373704611463,
          -0.8200373704611463
         ],
         "z": [
          5.336194563662374,
          5.336194563662374
         ]
        },
        {
         "line": {
          "color": "gray",
          "width": 1
         },
         "mode": "lines",
         "name": "Hydrogen Bond",
         "type": "scatter3d",
         "x": [
          1.8091179312447394,
          -1.8091179312447394
         ],
         "y": [
          0.8526970803566494,
          -0.8526970803566494
         ],
         "z": [
          5.350500715307582,
          5.350500715307582
         ]
        },
        {
         "line": {
          "color": "gray",
          "width": 1
         },
         "mode": "lines",
         "name": "Hydrogen Bond",
         "type": "scatter3d",
         "x": [
          1.7934969339566988,
          -1.7934969339566988
         ],
         "y": [
          0.8850812097699968,
          -0.8850812097699968
         ],
         "z": [
          5.364806866952789,
          5.364806866952789
         ]
        },
        {
         "line": {
          "color": "gray",
          "width": 1
         },
         "mode": "lines",
         "name": "Hydrogen Bond",
         "type": "scatter3d",
         "x": [
          1.7772963020467183,
          -1.7772963020467183
         ],
         "y": [
          0.9171792925764626,
          -0.9171792925764626
         ],
         "z": [
          5.379113018597997,
          5.379113018597997
         ]
        },
        {
         "line": {
          "color": "gray",
          "width": 1
         },
         "mode": "lines",
         "name": "Hydrogen Bond",
         "type": "scatter3d",
         "x": [
          1.7605212713459695,
          -1.7605212713459695
         ],
         "y": [
          0.9489809550978204,
          -0.9489809550978204
         ],
         "z": [
          5.393419170243204,
          5.393419170243204
         ]
        },
        {
         "line": {
          "color": "gray",
          "width": 1
         },
         "mode": "lines",
         "name": "Hydrogen Bond",
         "type": "scatter3d",
         "x": [
          1.7431772633237583,
          -1.7431772633237583
         ],
         "y": [
          0.9804759194549821,
          -0.9804759194549821
         ],
         "z": [
          5.407725321888412,
          5.407725321888412
         ]
        },
        {
         "line": {
          "color": "gray",
          "width": 1
         },
         "mode": "lines",
         "name": "Hydrogen Bond",
         "type": "scatter3d",
         "x": [
          1.7252698833353786,
          -1.7252698833353786
         ],
         "y": [
          1.0116540068896722,
          -1.0116540068896722
         ],
         "z": [
          5.422031473533619,
          5.422031473533619
         ]
        },
        {
         "line": {
          "color": "gray",
          "width": 1
         },
         "mode": "lines",
         "name": "Hydrogen Bond",
         "type": "scatter3d",
         "x": [
          1.7068049188105343,
          -1.7068049188105343
         ],
         "y": [
          1.0425051410540696,
          -1.0425051410540696
         ],
         "z": [
          5.436337625178827,
          5.436337625178827
         ]
        },
        {
         "line": {
          "color": "gray",
          "width": 1
         },
         "mode": "lines",
         "name": "Hydrogen Bond",
         "type": "scatter3d",
         "x": [
          1.6877883373829183,
          -1.6877883373829183
         ],
         "y": [
          1.0730193512673498,
          -1.0730193512673498
         ],
         "z": [
          5.450643776824034,
          5.450643776824034
         ]
        },
        {
         "line": {
          "color": "gray",
          "width": 1
         },
         "mode": "lines",
         "name": "Hydrogen Bond",
         "type": "scatter3d",
         "x": [
          1.6682262849615521,
          -1.6682262849615521
         ],
         "y": [
          1.1031867757380787,
          -1.1031867757380787
         ],
         "z": [
          5.464949928469242,
          5.464949928469242
         ]
        },
        {
         "line": {
          "color": "gray",
          "width": 1
         },
         "mode": "lines",
         "name": "Hydrogen Bond",
         "type": "scatter3d",
         "x": [
          1.648125083744509,
          -1.648125083744509
         ],
         "y": [
          1.1329976647514133,
          -1.1329976647514133
         ],
         "z": [
          5.479256080114449,
          5.479256080114449
         ]
        },
        {
         "line": {
          "color": "gray",
          "width": 1
         },
         "mode": "lines",
         "name": "Hydrogen Bond",
         "type": "scatter3d",
         "x": [
          1.6274912301756614,
          -1.6274912301756614
         ],
         "y": [
          1.162442383820081,
          -1.162442383820081
         ],
         "z": [
          5.493562231759657,
          5.493562231759657
         ]
        },
        {
         "line": {
          "color": "gray",
          "width": 1
         },
         "mode": "lines",
         "name": "Hydrogen Bond",
         "type": "scatter3d",
         "x": [
          1.6063313928451177,
          -1.6063313928451177
         ],
         "y": [
          1.1915114167981202,
          -1.1915114167981202
         ],
         "z": [
          5.5078683834048645,
          5.5078683834048645
         ]
        },
        {
         "line": {
          "color": "gray",
          "width": 1
         },
         "mode": "lines",
         "name": "Hydrogen Bond",
         "type": "scatter3d",
         "x": [
          1.5846524103340203,
          -1.5846524103340203
         ],
         "y": [
          1.2201953689563731,
          -1.2201953689563731
         ],
         "z": [
          5.5221745350500715,
          5.5221745350500715
         ]
        },
        {
         "line": {
          "color": "gray",
          "width": 1
         },
         "mode": "lines",
         "name": "Hydrogen Bond",
         "type": "scatter3d",
         "x": [
          1.5624612890044063,
          -1.5624612890044063
         ],
         "y": [
          1.2484849700187381,
          -1.2484849700187381
         ],
         "z": [
          5.536480686695279,
          5.536480686695279
         ]
        },
        {
         "line": {
          "color": "gray",
          "width": 1
         },
         "mode": "lines",
         "name": "Hydrogen Bond",
         "type": "scatter3d",
         "x": [
          1.5397652007348435,
          -1.5397652007348435
         ],
         "y": [
          1.2763710771582013,
          -1.2763710771582013
         ],
         "z": [
          5.550786838340486,
          5.550786838340486
         ]
        },
        {
         "line": {
          "color": "gray",
          "width": 1
         },
         "mode": "lines",
         "name": "Hydrogen Bond",
         "type": "scatter3d",
         "x": [
          1.516571480602574,
          -1.516571480602574
         ],
         "y": [
          1.3038446779516786,
          -1.3038446779516786
         ],
         "z": [
          5.565092989985694,
          5.565092989985694
         ]
        },
        {
         "line": {
          "color": "gray",
          "width": 1
         },
         "mode": "lines",
         "name": "Hydrogen Bond",
         "type": "scatter3d",
         "x": [
          1.492887624512913,
          -1.492887624512913
         ],
         "y": [
          1.3308968932927119,
          -1.3308968932927119
         ],
         "z": [
          5.579399141630901,
          5.579399141630901
         ]
        },
        {
         "line": {
          "color": "gray",
          "width": 1
         },
         "mode": "lines",
         "name": "Hydrogen Bond",
         "type": "scatter3d",
         "x": [
          1.4687212867766712,
          -1.4687212867766712
         ],
         "y": [
          1.357518980261079,
          -1.357518980261079
         ],
         "z": [
          5.593705293276109,
          5.593705293276109
         ]
        },
        {
         "line": {
          "color": "gray",
          "width": 1
         },
         "mode": "lines",
         "name": "Hydrogen Bond",
         "type": "scatter3d",
         "x": [
          1.4440802776363821,
          -1.4440802776363821
         ],
         "y": [
          1.3837023349483912,
          -1.3837023349483912
         ],
         "z": [
          5.608011444921316,
          5.608011444921316
         ]
        },
        {
         "line": {
          "color": "gray",
          "width": 1
         },
         "mode": "lines",
         "name": "Hydrogen Bond",
         "type": "scatter3d",
         "x": [
          1.4189725607421346,
          -1.4189725607421346
         ],
         "y": [
          1.4094384952387633,
          -1.4094384952387633
         ],
         "z": [
          5.622317596566524,
          5.622317596566524
         ]
        },
        {
         "line": {
          "color": "gray",
          "width": 1
         },
         "mode": "lines",
         "name": "Hydrogen Bond",
         "type": "scatter3d",
         "x": [
          1.3934062505778255,
          -1.3934062505778255
         ],
         "y": [
          1.4347191435436577,
          -1.4347191435436577
         ],
         "z": [
          5.636623748211731,
          5.636623748211731
         ]
        },
        {
         "line": {
          "color": "gray",
          "width": 1
         },
         "mode": "lines",
         "name": "Hydrogen Bond",
         "type": "scatter3d",
         "x": [
          1.3673896098386642,
          -1.3673896098386642
         ],
         "y": [
          1.4595361094900206,
          -1.4595361094900206
         ],
         "z": [
          5.650929899856939,
          5.650929899856939
         ]
        },
        {
         "line": {
          "color": "gray",
          "width": 1
         },
         "mode": "lines",
         "name": "Hydrogen Bond",
         "type": "scatter3d",
         "x": [
          1.3409310467607833,
          -1.3409310467607833
         ],
         "y": [
          1.483881372560836,
          -1.483881372560836
         ],
         "z": [
          5.665236051502146,
          5.665236051502146
         ]
        },
        {
         "line": {
          "color": "gray",
          "width": 1
         },
         "mode": "lines",
         "name": "Hydrogen Bond",
         "type": "scatter3d",
         "x": [
          1.3140391124037991,
          -1.3140391124037991
         ],
         "y": [
          1.5077470646872557,
          -1.5077470646872557
         ],
         "z": [
          5.679542203147354,
          5.679542203147354
         ]
        },
        {
         "line": {
          "color": "gray",
          "width": 1
         },
         "mode": "lines",
         "name": "Hydrogen Bond",
         "type": "scatter3d",
         "x": [
          1.2867224978872276,
          -1.2867224978872276
         ],
         "y": [
          1.531125472791454,
          -1.531125472791454
         ],
         "z": [
          5.693848354792561,
          5.693848354792561
         ]
        },
        {
         "line": {
          "color": "gray",
          "width": 1
         },
         "mode": "lines",
         "name": "Hydrogen Bond",
         "type": "scatter3d",
         "x": [
          1.258990031581627,
          -1.258990031581627
         ],
         "y": [
          1.5540090412793917,
          -1.5540090412793917
         ],
         "z": [
          5.708154506437769,
          5.708154506437769
         ]
        },
        {
         "line": {
          "color": "gray",
          "width": 1
         },
         "mode": "lines",
         "name": "Hydrogen Bond",
         "type": "scatter3d",
         "x": [
          1.2308506762553846,
          -1.2308506762553846
         ],
         "y": [
          1.576390374482686,
          -1.576390374482686
         ],
         "z": [
          5.7224606580829755,
          5.7224606580829755
         ]
        },
        {
         "line": {
          "color": "gray",
          "width": 1
         },
         "mode": "lines",
         "name": "Hydrogen Bond",
         "type": "scatter3d",
         "x": [
          1.202313526178068,
          -1.202313526178068
         ],
         "y": [
          1.5982622390487928,
          -1.5982622390487928
         ],
         "z": [
          5.736766809728183,
          5.736766809728183
         ]
        },
        {
         "line": {
          "color": "gray",
          "width": 1
         },
         "mode": "lines",
         "name": "Hydrogen Bond",
         "type": "scatter3d",
         "x": [
          1.173387804181277,
          -1.173387804181277
         ],
         "y": [
          1.6196175662787315,
          -1.6196175662787315
         ],
         "z": [
          5.75107296137339,
          5.75107296137339
         ]
        },
        {
         "line": {
          "color": "gray",
          "width": 1
         },
         "mode": "lines",
         "name": "Hydrogen Bond",
         "type": "scatter3d",
         "x": [
          1.144082858677945,
          -1.144082858677945
         ],
         "y": [
          1.6404494544115955,
          -1.6404494544115955
         ],
         "z": [
          5.765379113018598,
          5.765379113018598
         ]
        },
        {
         "line": {
          "color": "gray",
          "width": 1
         },
         "mode": "lines",
         "name": "Hydrogen Bond",
         "type": "scatter3d",
         "x": [
          1.114408160641056,
          -1.114408160641056
         ],
         "y": [
          1.66075117085511,
          -1.66075117085511
         ],
         "z": [
          5.779685264663805,
          5.779685264663805
         ]
        },
        {
         "line": {
          "color": "gray",
          "width": 1
         },
         "mode": "lines",
         "name": "Hydrogen Bond",
         "type": "scatter3d",
         "x": [
          1.0843733005427496,
          -1.0843733005427496
         ],
         "y": [
          1.6805161543615175,
          -1.6805161543615175
         ],
         "z": [
          5.793991416309013,
          5.793991416309013
         ]
        },
        {
         "line": {
          "color": "gray",
          "width": 1
         },
         "mode": "lines",
         "name": "Hydrogen Bond",
         "type": "scatter3d",
         "x": [
          1.053987985254807,
          -1.053987985254807
         ],
         "y": [
          1.6997380171480876,
          -1.6997380171480876
         ],
         "z": [
          5.80829756795422,
          5.80829756795422
         ]
        },
        {
         "line": {
          "color": "gray",
          "width": 1
         },
         "mode": "lines",
         "name": "Hydrogen Bond",
         "type": "scatter3d",
         "x": [
          1.023262034911518,
          -1.023262034911518
         ],
         "y": [
          1.7184105469615634,
          -1.7184105469615634
         ],
         "z": [
          5.822603719599428,
          5.822603719599428
         ]
        },
        {
         "line": {
          "color": "gray",
          "width": 1
         },
         "mode": "lines",
         "name": "Hydrogen Bond",
         "type": "scatter3d",
         "x": [
          0.992205379735942,
          -0.992205379735942
         ],
         "y": [
          1.7365277090858802,
          -1.7365277090858802
         ],
         "z": [
          5.836909871244635,
          5.836909871244635
         ]
        },
        {
         "line": {
          "color": "gray",
          "width": 1
         },
         "mode": "lines",
         "name": "Hydrogen Bond",
         "type": "scatter3d",
         "x": [
          0.9608280568305914,
          -0.9608280568305914
         ],
         "y": [
          1.7540836482925066,
          -1.7540836482925066
         ],
         "z": [
          5.851216022889843,
          5.851216022889843
         ]
        },
        {
         "line": {
          "color": "gray",
          "width": 1
         },
         "mode": "lines",
         "name": "Hydrogen Bond",
         "type": "scatter3d",
         "x": [
          0.9291402069335712,
          -0.9291402069335712
         ],
         "y": [
          1.7710726907327774,
          -1.7710726907327774
         ],
         "z": [
          5.86552217453505,
          5.86552217453505
         ]
        },
        {
         "line": {
          "color": "gray",
          "width": 1
         },
         "mode": "lines",
         "name": "Hydrogen Bond",
         "type": "scatter3d",
         "x": [
          0.8971520711412265,
          -0.8971520711412265
         ],
         "y": [
          1.787489345771607,
          -1.787489345771607
         ],
         "z": [
          5.879828326180258,
          5.879828326180258
         ]
        },
        {
         "line": {
          "color": "gray",
          "width": 1
         },
         "mode": "lines",
         "name": "Hydrogen Bond",
         "type": "scatter3d",
         "x": [
          0.8648739875983547,
          -0.8648739875983547
         ],
         "y": [
          1.8033283077619897,
          -1.8033283077619897
         ],
         "z": [
          5.894134477825465,
          5.894134477825465
         ]
        },
        {
         "line": {
          "color": "gray",
          "width": 1
         },
         "mode": "lines",
         "name": "Hydrogen Bond",
         "type": "scatter3d",
         "x": [
          0.8323163881570523,
          -0.8323163881570523
         ],
         "y": [
          1.8185844577597157,
          -1.8185844577597157
         ],
         "z": [
          5.908440629470673,
          5.908440629470673
         ]
        },
        {
         "line": {
          "color": "gray",
          "width": 1
         },
         "mode": "lines",
         "name": "Hydrogen Bond",
         "type": "scatter3d",
         "x": [
          0.7994897950052788,
          -0.7994897950052788
         ],
         "y": [
          1.8332528651777467,
          -1.8332528651777467
         ],
         "z": [
          5.92274678111588,
          5.92274678111588
         ]
        },
        {
         "line": {
          "color": "gray",
          "width": 1
         },
         "mode": "lines",
         "name": "Hydrogen Bond",
         "type": "scatter3d",
         "x": [
          0.766404817266223,
          -0.766404817266223
         ],
         "y": [
          1.8473287893797161,
          -1.8473287893797161
         ],
         "z": [
          5.9370529327610875,
          5.9370529327610875
         ]
        },
        {
         "line": {
          "color": "gray",
          "width": 1
         },
         "mode": "lines",
         "name": "Hydrogen Bond",
         "type": "scatter3d",
         "x": [
          0.7330721475695725,
          -0.7330721475695725
         ],
         "y": [
          1.8608076812120415,
          -1.8608076812120415
         ],
         "z": [
          5.9513590844062945,
          5.9513590844062945
         ]
        },
        {
         "line": {
          "color": "gray",
          "width": 1
         },
         "mode": "lines",
         "name": "Hydrogen Bond",
         "type": "scatter3d",
         "x": [
          0.699502558595803,
          -0.699502558595803
         ],
         "y": [
          1.873685184474149,
          -1.873685184474149
         ],
         "z": [
          5.965665236051502,
          5.965665236051502
         ]
        },
        {
         "line": {
          "color": "gray",
          "width": 1
         },
         "mode": "lines",
         "name": "Hydrogen Bond",
         "type": "scatter3d",
         "x": [
          0.66570689959458,
          -0.66570689959458
         ],
         "y": [
          1.8859571373263422,
          -1.8859571373263422
         ],
         "z": [
          5.979971387696709,
          5.979971387696709
         ]
        },
        {
         "line": {
          "color": "gray",
          "width": 1
         },
         "mode": "lines",
         "name": "Hydrogen Bond",
         "type": "scatter3d",
         "x": [
          0.6316960928784301,
          -0.6316960928784301
         ],
         "y": [
          1.8976195736348542,
          -1.8976195736348542
         ],
         "z": [
          5.994277539341917,
          5.994277539341917
         ]
        },
        {
         "line": {
          "color": "gray",
          "width": 1
         },
         "mode": "lines",
         "name": "Hydrogen Bond",
         "type": "scatter3d",
         "x": [
          0.5974811302927919,
          -0.5974811302927919
         ],
         "y": [
          1.908668724253648,
          -1.908668724253648
         ],
         "z": [
          6.008583690987124,
          6.008583690987124
         ]
        },
        {
         "line": {
          "color": "gray",
          "width": 1
         },
         "mode": "lines",
         "name": "Hydrogen Bond",
         "type": "scatter3d",
         "x": [
          0.5630730696635963,
          -0.5630730696635963
         ],
         "y": [
          1.9191010182425559,
          -1.9191010182425559
         ],
         "z": [
          6.022889842632332,
          6.022889842632332
         ]
        },
        {
         "line": {
          "color": "gray",
          "width": 1
         },
         "mode": "lines",
         "name": "Hydrogen Bond",
         "type": "scatter3d",
         "x": [
          0.5284830312235221,
          -0.5284830312235221
         ],
         "y": [
          1.9289130840213609,
          -1.9289130840213609
         ],
         "z": [
          6.037195994277539,
          6.037195994277539
         ]
        },
        {
         "line": {
          "color": "gray",
          "width": 1
         },
         "mode": "lines",
         "name": "Hydrogen Bond",
         "type": "scatter3d",
         "x": [
          0.49372219401808337,
          -0.49372219401808337
         ],
         "y": [
          1.9381017504594464,
          -1.9381017504594464
         ],
         "z": [
          6.051502145922747,
          6.051502145922747
         ]
        },
        {
         "line": {
          "color": "gray",
          "width": 1
         },
         "mode": "lines",
         "name": "Hydrogen Bond",
         "type": "scatter3d",
         "x": [
          0.458801792292709,
          -0.458801792292709
         ],
         "y": [
          1.9466640479006638,
          -1.9466640479006638
         ],
         "z": [
          6.065808297567954,
          6.065808297567954
         ]
        },
        {
         "line": {
          "color": "gray",
          "width": 1
         },
         "mode": "lines",
         "name": "Hydrogen Bond",
         "type": "scatter3d",
         "x": [
          0.42373311186198215,
          -0.42373311186198215
         ],
         "y": [
          1.954597209123087,
          -1.954597209123087
         ],
         "z": [
          6.080114449213162,
          6.080114449213162
         ]
        },
        {
         "line": {
          "color": "gray",
          "width": 1
         },
         "mode": "lines",
         "name": "Hydrogen Bond",
         "type": "scatter3d",
         "x": [
          0.38852748646221336,
          -0.38852748646221336
         ],
         "y": [
          1.9618986702333419,
          -1.9618986702333419
         ],
         "z": [
          6.094420600858369,
          6.094420600858369
         ]
        },
        {
         "line": {
          "color": "gray",
          "width": 1
         },
         "mode": "lines",
         "name": "Hydrogen Bond",
         "type": "scatter3d",
         "x": [
          0.35319629408852626,
          -0.35319629408852626
         ],
         "y": [
          1.968566071495222,
          -1.968566071495222
         ],
         "z": [
          6.108726752503577,
          6.108726752503577
         ]
        },
        {
         "line": {
          "color": "gray",
          "width": 1
         },
         "mode": "lines",
         "name": "Hydrogen Bond",
         "type": "scatter3d",
         "x": [
          0.31775095331763903,
          -0.31775095331763903
         ],
         "y": [
          1.974597258092326,
          -1.974597258092326
         ],
         "z": [
          6.123032904148784,
          6.123032904148784
         ]
        },
        {
         "line": {
          "color": "gray",
          "width": 1
         },
         "mode": "lines",
         "name": "Hydrogen Bond",
         "type": "scatter3d",
         "x": [
          0.28220291961753063,
          -0.28220291961753063
         ],
         "y": [
          1.9799902808244645,
          -1.9799902808244645
         ],
         "z": [
          6.1373390557939915,
          6.1373390557939915
         ]
        },
        {
         "line": {
          "color": "gray",
          "width": 1
         },
         "mode": "lines",
         "name": "Hydrogen Bond",
         "type": "scatter3d",
         "x": [
          0.2465636816451841,
          -0.2465636816451841
         ],
         "y": [
          1.9847433967376167,
          -1.9847433967376167
         ],
         "z": [
          6.1516452074391985,
          6.1516452074391985
         ]
        },
        {
         "line": {
          "color": "gray",
          "width": 1
         },
         "mode": "lines",
         "name": "Hydrogen Bond",
         "type": "scatter3d",
         "x": [
          0.21084475753360388,
          -0.21084475753360388
         ],
         "y": [
          1.9888550696872298,
          -1.9888550696872298
         ],
         "z": [
          6.165951359084406,
          6.165951359084406
         ]
        },
        {
         "line": {
          "color": "gray",
          "width": 1
         },
         "mode": "lines",
         "name": "Hydrogen Bond",
         "type": "scatter3d",
         "x": [
          0.1750576911693066,
          -0.1750576911693066
         ],
         "y": [
          1.9923239708346812,
          -1.9923239708346812
         ],
         "z": [
          6.180257510729613,
          6.180257510729613
         ]
        },
        {
         "line": {
          "color": "gray",
          "width": 1
         },
         "mode": "lines",
         "name": "Hydrogen Bond",
         "type": "scatter3d",
         "x": [
          0.1392140484614888,
          -0.1392140484614888
         ],
         "y": [
          1.9951489790767412,
          -1.9951489790767412
         ],
         "z": [
          6.194563662374821,
          6.194563662374821
         ]
        },
        {
         "line": {
          "color": "gray",
          "width": 1
         },
         "mode": "lines",
         "name": "Hydrogen Bond",
         "type": "scatter3d",
         "x": [
          0.10332541360407715,
          -0.10332541360407715
         ],
         "y": [
          1.9973291814078986,
          -1.9973291814078986
         ],
         "z": [
          6.208869814020028,
          6.208869814020028
         ]
        },
        {
         "line": {
          "color": "gray",
          "width": 1
         },
         "mode": "lines",
         "name": "Hydrogen Bond",
         "type": "scatter3d",
         "x": [
          0.0674033853318694,
          -0.0674033853318694
         ],
         "y": [
          1.9988638732154331,
          -1.9988638732154331
         ],
         "z": [
          6.223175965665236,
          6.223175965665236
         ]
        },
        {
         "line": {
          "color": "gray",
          "width": 1
         },
         "mode": "lines",
         "name": "Hydrogen Bond",
         "type": "scatter3d",
         "x": [
          0.03145957317197577,
          -0.03145957317197577
         ],
         "y": [
          1.999752558507136,
          -1.999752558507136
         ],
         "z": [
          6.237482117310443,
          6.237482117310443
         ]
        },
        {
         "line": {
          "color": "gray",
          "width": 1
         },
         "mode": "lines",
         "name": "Hydrogen Bond",
         "type": "scatter3d",
         "x": [
          -0.004494406308227522,
          0.004494406308227522
         ],
         "y": [
          1.9999949500716088,
          -1.9999949500716088
         ],
         "z": [
          6.251788268955651,
          6.251788268955651
         ]
        },
        {
         "line": {
          "color": "gray",
          "width": 1
         },
         "mode": "lines",
         "name": "Hydrogen Bond",
         "type": "scatter3d",
         "x": [
          -0.040446933255421806,
          0.040446933255421806
         ],
         "y": [
          1.999590969571085,
          -1.999590969571085
         ],
         "z": [
          6.266094420600858,
          6.266094420600858
         ]
        },
        {
         "line": {
          "color": "gray",
          "width": 1
         },
         "mode": "lines",
         "name": "Hydrogen Bond",
         "type": "scatter3d",
         "x": [
          -0.07638638828572265,
          0.07638638828572265
         ],
         "y": [
          1.9985407475667498,
          -1.9985407475667498
         ],
         "z": [
          6.280400572246066,
          6.280400572246066
         ]
        },
        {
         "line": {
          "color": "gray",
          "width": 1
         },
         "mode": "lines",
         "name": "Hydrogen Bond",
         "type": "scatter3d",
         "x": [
          -0.1123011562399226,
          0.1123011562399226
         ],
         "y": [
          1.996844623476543,
          -1.996844623476543
         ],
         "z": [
          6.294706723891273,
          6.294706723891273
         ]
        },
        {
         "line": {
          "color": "gray",
          "width": 1
         },
         "mode": "lines",
         "name": "Hydrogen Bond",
         "type": "scatter3d",
         "x": [
          -0.1481796299373507,
          0.1481796299373507
         ],
         "y": [
          1.994503145465464,
          -1.994503145465464
         ],
         "z": [
          6.309012875536481,
          6.309012875536481
         ]
        },
        {
         "line": {
          "color": "gray",
          "width": 1
         },
         "mode": "lines",
         "name": "Hydrogen Bond",
         "type": "scatter3d",
         "x": [
          -0.18401021392716252,
          0.18401021392716252
         ],
         "y": [
          1.9915170702684122,
          -1.9915170702684122
         ],
         "z": [
          6.323319027181688,
          6.323319027181688
         ]
        },
        {
         "line": {
          "color": "gray",
          "width": 1
         },
         "mode": "lines",
         "name": "Hydrogen Bond",
         "type": "scatter3d",
         "x": [
          -0.2197813282358373,
          0.2197813282358373
         ],
         "y": [
          1.98788736294562,
          -1.98788736294562
         ],
         "z": [
          6.337625178826896,
          6.337625178826896
         ]
        },
        {
         "line": {
          "color": "gray",
          "width": 1
         },
         "mode": "lines",
         "name": "Hydrogen Bond",
         "type": "scatter3d",
         "x": [
          -0.255481412109673,
          0.255481412109673
         ],
         "y": [
          1.9836151965707582,
          -1.9836151965707582
         ],
         "z": [
          6.351931330472103,
          6.351931330472103
         ]
        },
        {
         "line": {
          "color": "gray",
          "width": 1
         },
         "mode": "lines",
         "name": "Hydrogen Bond",
         "type": "scatter3d",
         "x": [
          -0.29109892775106844,
          0.29109892775106844
         ],
         "y": [
          1.9787019518518139,
          -1.9787019518518139
         ],
         "z": [
          6.36623748211731,
          6.36623748211731
         ]
        },
        {
         "line": {
          "color": "gray",
          "width": 1
         },
         "mode": "lines",
         "name": "Hydrogen Bond",
         "type": "scatter3d",
         "x": [
          -0.32662236404739425,
          0.32662236404739425
         ],
         "y": [
          1.9731492166848639,
          -1.9731492166848639
         ],
         "z": [
          6.380543633762517,
          6.380543633762517
         ]
        },
        {
         "line": {
          "color": "gray",
          "width": 1
         },
         "mode": "lines",
         "name": "Hydrogen Bond",
         "type": "scatter3d",
         "x": [
          -0.36204024029122317,
          0.36204024029122317
         ],
         "y": [
          1.9669587856408872,
          -1.9669587856408872
         ],
         "z": [
          6.394849785407725,
          6.394849785407725
         ]
        },
        {
         "line": {
          "color": "gray",
          "width": 1
         },
         "mode": "lines",
         "name": "Hydrogen Bond",
         "type": "scatter3d",
         "x": [
          -0.39734110989075005,
          0.39734110989075005
         ],
         "y": [
          1.9601326593857842,
          -1.9601326593857842
         ],
         "z": [
          6.409155937052933,
          6.409155937052933
         ]
        },
        {
         "line": {
          "color": "gray",
          "width": 1
         },
         "mode": "lines",
         "name": "Hydrogen Bond",
         "type": "scatter3d",
         "x": [
          -0.43251356406918207,
          0.43251356406918207
         ],
         "y": [
          1.9526730440337865,
          -1.9526730440337865
         ],
         "z": [
          6.42346208869814,
          6.42346208869814
         ]
        },
        {
         "line": {
          "color": "gray",
          "width": 1
         },
         "mode": "lines",
         "name": "Hydrogen Bond",
         "type": "scatter3d",
         "x": [
          -0.4675462355518912,
          0.4675462355518912
         ],
         "y": [
          1.944582350434472,
          -1.944582350434472
         ],
         "z": [
          6.437768240343348,
          6.437768240343348
         ]
        },
        {
         "line": {
          "color": "gray",
          "width": 1
         },
         "mode": "lines",
         "name": "Hydrogen Bond",
         "type": "scatter3d",
         "x": [
          -0.5024278022401886,
          0.5024278022401886
         ],
         "y": [
          1.935863193393607,
          -1.935863193393607
         ],
         "z": [
          6.452074391988555,
          6.452074391988555
         ]
        },
        {
         "line": {
          "color": "gray",
          "width": 1
         },
         "mode": "lines",
         "name": "Hydrogen Bond",
         "type": "scatter3d",
         "x": [
          -0.5371469908704645,
          0.5371469908704645
         ],
         "y": [
          1.9265183908280774,
          -1.9265183908280774
         ],
         "z": [
          6.466380543633763,
          6.466380543633763
         ]
        },
        {
         "line": {
          "color": "gray",
          "width": 1
         },
         "mode": "lines",
         "name": "Hydrogen Bond",
         "type": "scatter3d",
         "x": [
          -0.5716925806575618,
          0.5716925806575618
         ],
         "y": [
          1.9165509628551747,
          -1.9165509628551747
         ],
         "z": [
          6.48068669527897,
          6.48068669527897
         ]
        },
        {
         "line": {
          "color": "gray",
          "width": 1
         },
         "mode": "lines",
         "name": "Hydrogen Bond",
         "type": "scatter3d",
         "x": [
          -0.6060534069211865,
          0.6060534069211865
         ],
         "y": [
          1.9059641308165332,
          -1.9059641308165332
         ],
         "z": [
          6.494992846924178,
          6.494992846924178
         ]
        },
        {
         "line": {
          "color": "gray",
          "width": 1
         },
         "mode": "lines",
         "name": "Hydrogen Bond",
         "type": "scatter3d",
         "x": [
          -0.6402183646941854,
          0.6402183646941854
         ],
         "y": [
          1.8947613162370354,
          -1.8947613162370354
         ],
         "z": [
          6.509298998569385,
          6.509298998569385
         ]
        },
        {
         "line": {
          "color": "gray",
          "width": 1
         },
         "mode": "lines",
         "name": "Hydrogen Bond",
         "type": "scatter3d",
         "x": [
          -0.6741764123115256,
          0.6741764123115256
         ],
         "y": [
          1.8829461397190201,
          -1.8829461397190201
         ],
         "z": [
          6.523605150214593,
          6.523605150214593
         ]
        },
        {
         "line": {
          "color": "gray",
          "width": 1
         },
         "mode": "lines",
         "name": "Hydrogen Bond",
         "type": "scatter3d",
         "x": [
          -0.7079165749788153,
          0.7079165749788153
         ],
         "y": [
          1.870522419772151,
          -1.870522419772151
         ],
         "z": [
          6.5379113018598,
          6.5379113018598
         ]
        },
        {
         "line": {
          "color": "gray",
          "width": 1
         },
         "mode": "lines",
         "name": "Hydrogen Bond",
         "type": "scatter3d",
         "x": [
          -0.7414279483192132,
          0.7414279483192132
         ],
         "y": [
          1.8574941715793247,
          -1.8574941715793247
         ],
         "z": [
          6.5522174535050075,
          6.5522174535050075
         ]
        },
        {
         "line": {
          "color": "gray",
          "width": 1
         },
         "mode": "lines",
         "name": "Hydrogen Bond",
         "type": "scatter3d",
         "x": [
          -0.7746997018975792,
          0.7746997018975792
         ],
         "y": [
          1.8438656056990168,
          -1.8438656056990168
         ],
         "z": [
          6.5665236051502145,
          6.5665236051502145
         ]
        },
        {
         "line": {
          "color": "gray",
          "width": 1
         },
         "mode": "lines",
         "name": "Hydrogen Bond",
         "type": "scatter3d",
         "x": [
          -0.8077210827207292,
          0.8077210827207292
         ],
         "y": [
          1.8296411267044839,
          -1.8296411267044839
         ],
         "z": [
          6.580829756795422,
          6.580829756795422
         ]
        },
        {
         "line": {
          "color": "gray",
          "width": 1
         },
         "mode": "lines",
         "name": "Hydrogen Bond",
         "type": "scatter3d",
         "x": [
          -0.8404814187126607,
          0.8404814187126607
         ],
         "y": [
          1.8148253317602643,
          -1.8148253317602643
         ],
         "z": [
          6.595135908440629,
          6.595135908440629
         ]
        },
        {
         "line": {
          "color": "gray",
          "width": 1
         },
         "mode": "lines",
         "name": "Hydrogen Bond",
         "type": "scatter3d",
         "x": [
          -0.8729701221636277,
          0.8729701221636277
         ],
         "y": [
          1.7994230091364345,
          -1.7994230091364345
         ],
         "z": [
          6.609442060085837,
          6.609442060085837
         ]
        },
        {
         "line": {
          "color": "gray",
          "width": 1
         },
         "mode": "lines",
         "name": "Hydrogen Bond",
         "type": "scatter3d",
         "x": [
          -0.9051766931519488,
          0.9051766931519488
         ],
         "y": [
          1.7834391366611038,
          -1.7834391366611038
         ],
         "z": [
          6.623748211731044,
          6.623748211731044
         ]
        },
        {
         "line": {
          "color": "gray",
          "width": 1
         },
         "mode": "lines",
         "name": "Hydrogen Bond",
         "type": "scatter3d",
         "x": [
          -0.9370907229374442,
          0.9370907229374442
         ],
         "y": [
          1.7668788801116442,
          -1.7668788801116442
         ],
         "z": [
          6.638054363376252,
          6.638054363376252
         ]
        },
        {
         "line": {
          "color": "gray",
          "width": 1
         },
         "mode": "lines",
         "name": "Hydrogen Bond",
         "type": "scatter3d",
         "x": [
          -0.9687018973254038,
          0.9687018973254038
         ],
         "y": [
          1.7497475915451814,
          -1.7497475915451814
         ],
         "z": [
          6.652360515021459,
          6.652360515021459
         ]
        },
        {
         "line": {
          "color": "gray",
          "width": 1
         },
         "mode": "lines",
         "name": "Hydrogen Bond",
         "type": "scatter3d",
         "x": [
          -0.9999999999999983,
          0.9999999999999983
         ],
         "y": [
          1.7320508075688783,
          -1.7320508075688783
         ],
         "z": [
          6.666666666666667,
          6.666666666666667
         ]
        },
        {
         "line": {
          "color": "gray",
          "width": 1
         },
         "mode": "lines",
         "name": "Hydrogen Bond",
         "type": "scatter3d",
         "x": [
          -1.0309749158260597,
          1.0309749158260597
         ],
         "y": [
          1.7137942475505772,
          -1.7137942475505772
         ],
         "z": [
          6.680972818311874,
          6.680972818311874
         ]
        },
        {
         "line": {
          "color": "gray",
          "width": 1
         },
         "mode": "lines",
         "name": "Hydrogen Bond",
         "type": "scatter3d",
         "x": [
          -1.061616634118158,
          1.061616634118158
         ],
         "y": [
          1.6949838117703757,
          -1.6949838117703757
         ],
         "z": [
          6.695278969957082,
          6.695278969957082
         ]
        },
        {
         "line": {
          "color": "gray",
          "width": 1
         },
         "mode": "lines",
         "name": "Hydrogen Bond",
         "type": "scatter3d",
         "x": [
          -1.0919152518759254,
          1.0919152518759254
         ],
         "y": [
          1.6756255795137331,
          -1.6756255795137331
         ],
         "z": [
          6.709585121602289,
          6.709585121602289
         ]
        },
        {
         "line": {
          "color": "gray",
          "width": 1
         },
         "mode": "lines",
         "name": "Hydrogen Bond",
         "type": "scatter3d",
         "x": [
          -1.1218609769845733,
          1.1218609769845733
         ],
         "y": [
          1.6557258071067258,
          -1.6557258071067258
         ],
         "z": [
          6.723891273247497,
          6.723891273247497
         ]
        },
        {
         "line": {
          "color": "gray",
          "width": 1
         },
         "mode": "lines",
         "name": "Hydrogen Bond",
         "type": "scatter3d",
         "x": [
          -1.1514441313795771,
          1.1514441313795771
         ],
         "y": [
          1.6352909258940842,
          -1.6352909258940842
         ],
         "z": [
          6.738197424892704,
          6.738197424892704
         ]
        },
        {
         "line": {
          "color": "gray",
          "width": 1
         },
         "mode": "lines",
         "name": "Hydrogen Bond",
         "type": "scatter3d",
         "x": [
          -1.1806551541744983,
          1.1806551541744983
         ],
         "y": [
          1.6143275401606676,
          -1.6143275401606676
         ],
         "z": [
          6.752503576537912,
          6.752503576537912
         ]
        },
        {
         "line": {
          "color": "gray",
          "width": 1
         },
         "mode": "lines",
         "name": "Hydrogen Bond",
         "type": "scatter3d",
         "x": [
          -1.2094846047509369,
          1.2094846047509369
         ],
         "y": [
          1.5928424249970459,
          -1.5928424249970459
         ],
         "z": [
          6.7668097281831185,
          6.7668097281831185
         ]
        },
        {
         "line": {
          "color": "gray",
          "width": 1
         },
         "mode": "lines",
         "name": "Hydrogen Bond",
         "type": "scatter3d",
         "x": [
          -1.2379231658096166,
          1.2379231658096166
         ],
         "y": [
          1.5708425241098793,
          -1.5708425241098793
         ],
         "z": [
          6.781115879828326,
          6.781115879828326
         ]
        },
        {
         "line": {
          "color": "gray",
          "width": 1
         },
         "mode": "lines",
         "name": "Hydrogen Bond",
         "type": "scatter3d",
         "x": [
          -1.2659616463816117,
          1.2659616463816117
         ],
         "y": [
          1.5483349475778034,
          -1.5483349475778034
         ],
         "z": [
          6.795422031473533,
          6.795422031473533
         ]
        },
        {
         "line": {
          "color": "gray",
          "width": 1
         },
         "mode": "lines",
         "name": "Hydrogen Bond",
         "type": "scatter3d",
         "x": [
          -1.2935909847987488,
          1.2935909847987488
         ],
         "y": [
          1.5253269695535456,
          -1.5253269695535456
         ],
         "z": [
          6.809728183118741,
          6.809728183118741
         ]
        },
        {
         "line": {
          "color": "gray",
          "width": 1
         },
         "mode": "lines",
         "name": "Hydrogen Bond",
         "type": "scatter3d",
         "x": [
          -1.3208022516222175,
          1.3208022516222175
         ],
         "y": [
          1.5018260259130152,
          -1.5018260259130152
         ],
         "z": [
          6.824034334763948,
          6.824034334763948
         ]
        },
        {
         "line": {
          "color": "gray",
          "width": 1
         },
         "mode": "lines",
         "name": "Hydrogen Bond",
         "type": "scatter3d",
         "x": [
          -1.3475866525284488,
          1.3475866525284488
         ],
         "y": [
          1.4778397118521243,
          -1.4778397118521243
         ],
         "z": [
          6.838340486409156,
          6.838340486409156
         ]
        },
        {
         "line": {
          "color": "gray",
          "width": 1
         },
         "mode": "lines",
         "name": "Hydrogen Bond",
         "type": "scatter3d",
         "x": [
          -1.3739355311513237,
          1.3739355311513237
         ],
         "y": [
          1.4533757794321227,
          -1.4533757794321227
         ],
         "z": [
          6.852646638054363,
          6.852646638054363
         ]
        },
        {
         "line": {
          "color": "gray",
          "width": 1
         },
         "mode": "lines",
         "name": "Hydrogen Bond",
         "type": "scatter3d",
         "x": [
          -1.3998403718797978,
          1.3998403718797978
         ],
         "y": [
          1.4284421350742316,
          -1.4284421350742316
         ],
         "z": [
          6.866952789699571,
          6.866952789699571
         ]
        },
        {
         "line": {
          "color": "gray",
          "width": 1
         },
         "mode": "lines",
         "name": "Hydrogen Bond",
         "type": "scatter3d",
         "x": [
          -1.4252928026100347,
          1.4252928026100347
         ],
         "y": [
          1.4030468370043936,
          -1.4030468370043936
         ],
         "z": [
          6.881258941344778,
          6.881258941344778
         ]
        },
        {
         "line": {
          "color": "gray",
          "width": 1
         },
         "mode": "lines",
         "name": "Hydrogen Bond",
         "type": "scatter3d",
         "x": [
          -1.4502845974511582,
          1.4502845974511582
         ],
         "y": [
          1.3771980926489593,
          -1.3771980926489593
         ],
         "z": [
          6.895565092989986,
          6.895565092989986
         ]
        },
        {
         "line": {
          "color": "gray",
          "width": 1
         },
         "mode": "lines",
         "name": "Hydrogen Bond",
         "type": "scatter3d",
         "x": [
          -1.4748076793837552,
          1.4748076793837552
         ],
         "y": [
          1.350904255982156,
          -1.350904255982156
         ],
         "z": [
          6.909871244635193,
          6.909871244635193
         ]
        },
        {
         "line": {
          "color": "gray",
          "width": 1
         },
         "mode": "lines",
         "name": "Hydrogen Bond",
         "type": "scatter3d",
         "x": [
          -1.4988541228702594,
          1.4988541228702594
         ],
         "y": [
          1.3241738248261914,
          -1.3241738248261914
         ],
         "z": [
          6.924177396280401,
          6.924177396280401
         ]
        },
        {
         "line": {
          "color": "gray",
          "width": 1
         },
         "mode": "lines",
         "name": "Hydrogen Bond",
         "type": "scatter3d",
         "x": [
          -1.522416156416382,
          1.522416156416382
         ],
         "y": [
          1.2970154381048706,
          -1.2970154381048706
         ],
         "z": [
          6.938483547925608,
          6.938483547925608
         ]
        },
        {
         "line": {
          "color": "gray",
          "width": 1
         },
         "mode": "lines",
         "name": "Hydrogen Bond",
         "type": "scatter3d",
         "x": [
          -1.5454861650827563,
          1.5454861650827563
         ],
         "y": [
          1.26943787305161,
          -1.26943787305161
         ],
         "z": [
          6.952789699570816,
          6.952789699570816
         ]
        },
        {
         "line": {
          "color": "gray",
          "width": 1
         },
         "mode": "lines",
         "name": "Hydrogen Bond",
         "type": "scatter3d",
         "x": [
          -1.5680566929459854,
          1.5680566929459854
         ],
         "y": [
          1.2414500423727488,
          -1.2414500423727488
         ],
         "z": [
          6.967095851216023,
          6.967095851216023
         ]
        },
        {
         "line": {
          "color": "gray",
          "width": 1
         },
         "mode": "lines",
         "name": "Hydrogen Bond",
         "type": "scatter3d",
         "x": [
          -1.5901204455082998,
          1.5901204455082998
         ],
         "y": [
          1.2130609913670816,
          -1.2130609913670816
         ],
         "z": [
          6.9814020028612305,
          6.9814020028612305
         ]
        },
        {
         "line": {
          "color": "gray",
          "width": 1
         },
         "mode": "lines",
         "name": "Hydrogen Bond",
         "type": "scatter3d",
         "x": [
          -1.6116702920550416,
          1.6116702920550416
         ],
         "y": [
          1.1842798950025355,
          -1.1842798950025355
         ],
         "z": [
          6.9957081545064375,
          6.9957081545064375
         ]
        },
        {
         "line": {
          "color": "gray",
          "width": 1
         },
         "mode": "lines",
         "name": "Hydrogen Bond",
         "type": "scatter3d",
         "x": [
          -1.6326992679592196,
          1.6326992679592196
         ],
         "y": [
          1.1551160549509423,
          -1.1551160549509423
         ],
         "z": [
          7.010014306151645,
          7.010014306151645
         ]
        },
        {
         "line": {
          "color": "gray",
          "width": 1
         },
         "mode": "lines",
         "name": "Hydrogen Bond",
         "type": "scatter3d",
         "x": [
          -1.653200576932385,
          1.653200576932385
         ],
         "y": [
          1.1255788965818563,
          -1.1255788965818563
         ],
         "z": [
          7.024320457796852,
          7.024320457796852
         ]
        },
        {
         "line": {
          "color": "gray",
          "width": 1
         },
         "mode": "lines",
         "name": "Hydrogen Bond",
         "type": "scatter3d",
         "x": [
          -1.673167593221096,
          1.673167593221096
         ],
         "y": [
          1.0956779659164113,
          -1.0956779659164113
         ],
         "z": [
          7.03862660944206,
          7.03862660944206
         ]
        },
        {
         "line": {
          "color": "gray",
          "width": 1
         },
         "mode": "lines",
         "name": "Hydrogen Bond",
         "type": "scatter3d",
         "x": [
          -1.692593863748286,
          1.692593863748286
         ],
         "y": [
          1.0654229265421542,
          -1.0654229265421542
         ],
         "z": [
          7.052932761087267,
          7.052932761087267
         ]
        },
        {
         "line": {
          "color": "gray",
          "width": 1
         },
         "mode": "lines",
         "name": "Hydrogen Bond",
         "type": "scatter3d",
         "x": [
          -1.711473110198804,
          1.711473110198804
         ],
         "y": [
          1.0348235564899129,
          -1.0348235564899129
         ],
         "z": [
          7.067238912732475,
          7.067238912732475
         ]
        },
        {
         "line": {
          "color": "gray",
          "width": 1
         },
         "mode": "lines",
         "name": "Hydrogen Bond",
         "type": "scatter3d",
         "x": [
          -1.7297992310484875,
          1.7297992310484875
         ],
         "y": [
          1.0038897450736615,
          -1.0038897450736615
         ],
         "z": [
          7.081545064377682,
          7.081545064377682
         ]
        },
        {
         "line": {
          "color": "gray",
          "width": 1
         },
         "mode": "lines",
         "name": "Hydrogen Bond",
         "type": "scatter3d",
         "x": [
          -1.747566303536093,
          1.747566303536093
         ],
         "y": [
          0.9726314896944248,
          -0.9726314896944248
         ],
         "z": [
          7.09585121602289,
          7.09585121602289
         ]
        },
        {
         "line": {
          "color": "gray",
          "width": 1
         },
         "mode": "lines",
         "name": "Hydrogen Bond",
         "type": "scatter3d",
         "x": [
          -1.7647685855774555,
          1.7647685855774555
         ],
         "y": [
          0.9410588926092496,
          -0.9410588926092496
         ],
         "z": [
          7.110157367668097,
          7.110157367668097
         ]
        },
        {
         "line": {
          "color": "gray",
          "width": 1
         },
         "mode": "lines",
         "name": "Hydrogen Bond",
         "type": "scatter3d",
         "x": [
          -1.7814005176212546,
          1.7814005176212546
         ],
         "y": [
          0.9091821576662875,
          -0.9091821576662875
         ],
         "z": [
          7.124463519313305,
          7.124463519313305
         ]
        },
        {
         "line": {
          "color": "gray",
          "width": 1
         },
         "mode": "lines",
         "name": "Hydrogen Bond",
         "type": "scatter3d",
         "x": [
          -1.797456724445788,
          1.797456724445788
         ],
         "y": [
          0.8770115870070466,
          -0.8770115870070466
         ],
         "z": [
          7.138769670958512,
          7.138769670958512
         ]
        },
        {
         "line": {
          "color": "gray",
          "width": 1
         },
         "mode": "lines",
         "name": "Hydrogen Bond",
         "type": "scatter3d",
         "x": [
          -1.8129320168961727,
          1.8129320168961727
         ],
         "y": [
          0.8445575777368737,
          -0.8445575777368737
         ],
         "z": [
          7.15307582260372,
          7.15307582260372
         ]
        },
        {
         "line": {
          "color": "gray",
          "width": 1
         },
         "mode": "lines",
         "name": "Hydrogen Bond",
         "type": "scatter3d",
         "x": [
          -1.8278213935614116,
          1.8278213935614116
         ],
         "y": [
          0.8118306185647469,
          -0.8118306185647469
         ],
         "z": [
          7.167381974248927,
          7.167381974248927
         ]
        },
        {
         "line": {
          "color": "gray",
          "width": 1
         },
         "mode": "lines",
         "name": "Hydrogen Bond",
         "type": "scatter3d",
         "x": [
          -1.8421200423907833,
          1.8421200423907833
         ],
         "y": [
          0.7788412864134634,
          -0.7788412864134634
         ],
         "z": [
          7.1816881258941345,
          7.1816881258941345
         ]
        },
        {
         "line": {
          "color": "gray",
          "width": 1
         },
         "mode": "lines",
         "name": "Hydrogen Bond",
         "type": "scatter3d",
         "x": [
          -1.855823342249035,
          1.855823342249035
         ],
         "y": [
          0.7456002430013162,
          -0.7456002430013162
         ],
         "z": [
          7.1959942775393415,
          7.1959942775393415
         ]
        },
        {
         "line": {
          "color": "gray",
          "width": 1
         },
         "mode": "lines",
         "name": "Hydrogen Bond",
         "type": "scatter3d",
         "x": [
          -1.8689268644098702,
          1.8689268644098702
         ],
         "y": [
          0.7121182313963678,
          -0.7121182313963678
         ],
         "z": [
          7.210300429184549,
          7.210300429184549
         ]
        },
        {
         "line": {
          "color": "gray",
          "width": 1
         },
         "mode": "lines",
         "name": "Hydrogen Bond",
         "type": "scatter3d",
         "x": [
          -1.8814263739872576,
          1.8814263739872576
         ],
         "y": [
          0.6784060725444312,
          -0.6784060725444312
         ],
         "z": [
          7.224606580829756,
          7.224606580829756
         ]
        },
        {
         "line": {
          "color": "gray",
          "width": 1
         },
         "mode": "lines",
         "name": "Hydrogen Bond",
         "type": "scatter3d",
         "x": [
          -1.8933178313040886,
          1.8933178313040886
         ],
         "y": [
          0.6444746617718831,
          -0.6444746617718831
         ],
         "z": [
          7.238912732474964,
          7.238912732474964
         ]
        },
        {
         "line": {
          "color": "gray",
          "width": 1
         },
         "mode": "lines",
         "name": "Hydrogen Bond",
         "type": "scatter3d",
         "x": [
          -1.9045973931977482,
          1.9045973931977482
         ],
         "y": [
          0.6103349652644373,
          -0.6103349652644373
         ],
         "z": [
          7.253218884120171,
          7.253218884120171
         ]
        },
        {
         "line": {
          "color": "gray",
          "width": 1
         },
         "mode": "lines",
         "name": "Hydrogen Bond",
         "type": "scatter3d",
         "x": [
          -1.9152614142621756,
          1.9152614142621756
         ],
         "y": [
          0.575998016523018,
          -0.575998016523018
         ],
         "z": [
          7.267525035765379,
          7.267525035765379
         ]
        },
        {
         "line": {
          "color": "gray",
          "width": 1
         },
         "mode": "lines",
         "name": "Hydrogen Bond",
         "type": "scatter3d",
         "x": [
          -1.92530644802601,
          1.92530644802601
         ],
         "y": [
          0.5414749127978771,
          -0.5414749127978771
         ],
         "z": [
          7.281831187410586,
          7.281831187410586
         ]
        },
        {
         "line": {
          "color": "gray",
          "width": 1
         },
         "mode": "lines",
         "name": "Hydrogen Bond",
         "type": "scatter3d",
         "x": [
          -1.934729248066446,
          1.934729248066446
         ],
         "y": [
          0.5067768115021093,
          -0.5067768115021093
         ],
         "z": [
          7.296137339055794,
          7.296137339055794
         ]
        },
        {
         "line": {
          "color": "gray",
          "width": 1
         },
         "mode": "lines",
         "name": "Hydrogen Bond",
         "type": "scatter3d",
         "x": [
          -1.9435267690584341,
          1.9435267690584341
         ],
         "y": [
          0.4719149266057222,
          -0.4719149266057222
         ],
         "z": [
          7.310443490701001,
          7.310443490701001
         ]
        },
        {
         "line": {
          "color": "gray",
          "width": 1
         },
         "mode": "lines",
         "name": "Hydrogen Bond",
         "type": "scatter3d",
         "x": [
          -1.95169616775889,
          1.95169616775889
         ],
         "y": [
          0.4369005250114297,
          -0.4369005250114297
         ],
         "z": [
          7.324749642346209,
          7.324749642346209
         ]
        },
        {
         "line": {
          "color": "gray",
          "width": 1
         },
         "mode": "lines",
         "name": "Hydrogen Bond",
         "type": "scatter3d",
         "x": [
          -1.9592348039255931,
          1.9592348039255931
         ],
         "y": [
          0.4017449229133361,
          -0.4017449229133361
         ],
         "z": [
          7.339055793991417,
          7.339055793991417
         ]
        },
        {
         "line": {
          "color": "gray",
          "width": 1
         },
         "mode": "lines",
         "name": "Hydrogen Bond",
         "type": "scatter3d",
         "x": [
          -1.966140241170479,
          1.966140241170479
         ],
         "y": [
          0.3664594821396919,
          -0.3664594821396919
         ],
         "z": [
          7.353361945636624,
          7.353361945636624
         ]
        },
        {
         "line": {
          "color": "gray",
          "width": 1
         },
         "mode": "lines",
         "name": "Hydrogen Bond",
         "type": "scatter3d",
         "x": [
          -1.972410247747046,
          1.972410247747046
         ],
         "y": [
          0.3310556064808998,
          -0.3310556064808998
         ],
         "z": [
          7.367668097281832,
          7.367668097281832
         ]
        },
        {
         "line": {
          "color": "gray",
          "width": 1
         },
         "mode": "lines",
         "name": "Hydrogen Bond",
         "type": "scatter3d",
         "x": [
          -1.978042797271629,
          1.978042797271629
         ],
         "y": [
          0.29554473800395986,
          -0.29554473800395986
         ],
         "z": [
          7.381974248927039,
          7.381974248927039
         ]
        },
        {
         "line": {
          "color": "gray",
          "width": 1
         },
         "mode": "lines",
         "name": "Hydrogen Bond",
         "type": "scatter3d",
         "x": [
          -1.9830360693782976,
          1.9830360693782976
         ],
         "y": [
          0.2599383533545438,
          -0.2599383533545438
         ],
         "z": [
          7.3962804005722464,
          7.3962804005722464
         ]
        },
        {
         "line": {
          "color": "gray",
          "width": 1
         },
         "mode": "lines",
         "name": "Hydrogen Bond",
         "type": "scatter3d",
         "x": [
          -1.987388450307176,
          1.987388450307176
         ],
         "y": [
          0.22424796004789413,
          -0.22424796004789413
         ],
         "z": [
          7.410586552217453,
          7.410586552217453
         ]
        },
        {
         "line": {
          "color": "gray",
          "width": 1
         },
         "mode": "lines",
         "name": "Hydrogen Bond",
         "type": "scatter3d",
         "x": [
          -1.9910985334259879,
          1.9910985334259879
         ],
         "y": [
          0.18848509274974654,
          -0.18848509274974654
         ],
         "z": [
          7.424892703862661,
          7.424892703862661
         ]
        },
        {
         "line": {
          "color": "gray",
          "width": 1
         },
         "mode": "lines",
         "name": "Hydrogen Bond",
         "type": "scatter3d",
         "x": [
          -1.9941651196846624,
          1.9941651196846624
         ],
         "y": [
          0.15266130954847765,
          -0.15266130954847765
         ],
         "z": [
          7.439198855507868,
          7.439198855507868
         ]
        },
        {
         "line": {
          "color": "gray",
          "width": 1
         },
         "mode": "lines",
         "name": "Hydrogen Bond",
         "type": "scatter3d",
         "x": [
          -1.996587218002851,
          1.996587218002851
         ],
         "y": [
          0.11678818821968283,
          -0.11678818821968283
         ],
         "z": [
          7.453505007153076,
          7.453505007153076
         ]
        },
        {
         "line": {
          "color": "gray",
          "width": 1
         },
         "mode": "lines",
         "name": "Hydrogen Bond",
         "type": "scatter3d",
         "x": [
          -1.9983640455902312,
          1.9983640455902312
         ],
         "y": [
          0.08087732248439136,
          -0.08087732248439136
         ],
         "z": [
          7.467811158798283,
          7.467811158798283
         ]
        },
        {
         "line": {
          "color": "gray",
          "width": 1
         },
         "mode": "lines",
         "name": "Hydrogen Bond",
         "type": "scatter3d",
         "x": [
          -1.9994950281994948,
          1.9994950281994948
         ],
         "y": [
          0.04494031826212833,
          -0.04494031826212833
         ],
         "z": [
          7.482117310443491,
          7.482117310443491
         ]
        },
        {
         "line": {
          "color": "gray",
          "width": 1
         },
         "mode": "lines",
         "name": "Hydrogen Bond",
         "type": "scatter3d",
         "x": [
          -1.9999798003119365,
          1.9999798003119365
         ],
         "y": [
          0.008988789920034091,
          -0.008988789920034091
         ],
         "z": [
          7.496423462088698,
          7.496423462088698
         ]
        },
        {
         "line": {
          "color": "gray",
          "width": 1
         },
         "mode": "lines",
         "name": "Hydrogen Bond",
         "type": "scatter3d",
         "x": [
          -1.999818205255585,
          1.999818205255585
         ],
         "y": [
          -0.026965643480746537,
          0.026965643480746537
         ],
         "z": [
          7.510729613733906,
          7.510729613733906
         ]
        },
        {
         "line": {
          "color": "gray",
          "width": 1
         },
         "mode": "lines",
         "name": "Hydrogen Bond",
         "type": "scatter3d",
         "x": [
          -1.9990102952558373,
          1.9990102952558373
         ],
         "y": [
          -0.06291136194019195,
          0.06291136194019195
         ],
         "z": [
          7.525035765379113,
          7.525035765379113
         ]
        },
        {
         "line": {
          "color": "gray",
          "width": 1
         },
         "mode": "lines",
         "name": "Hydrogen Bond",
         "type": "scatter3d",
         "x": [
          -1.9975563314185802,
          1.9975563314185802
         ],
         "y": [
          -0.09883674827483496,
          0.09883674827483496
         ],
         "z": [
          7.539341917024321,
          7.539341917024321
         ]
        },
        {
         "line": {
          "color": "gray",
          "width": 1
         },
         "mode": "lines",
         "name": "Hydrogen Bond",
         "type": "scatter3d",
         "x": [
          -1.9954567836458041,
          1.9954567836458041
         ],
         "y": [
          -0.13473019187228377,
          0.13473019187228377
         ],
         "z": [
          7.553648068669528,
          7.553648068669528
         ]
        },
        {
         "line": {
          "color": "gray",
          "width": 1
         },
         "mode": "lines",
         "name": "Hydrogen Bond",
         "type": "scatter3d",
         "x": [
          -1.992712330483737,
          1.992712330483737
         ],
         "y": [
          -0.17058009244361907,
          0.17058009244361907
         ],
         "z": [
          7.567954220314736,
          7.567954220314736
         ]
        },
        {
         "line": {
          "color": "gray",
          "width": 1
         },
         "mode": "lines",
         "name": "Hydrogen Bond",
         "type": "scatter3d",
         "x": [
          -1.9893238589035473,
          1.9893238589035473
         ],
         "y": [
          -0.20637486377245498,
          0.20637486377245498
         ],
         "z": [
          7.582260371959943,
          7.582260371959943
         ]
        },
        {
         "line": {
          "color": "gray",
          "width": 1
         },
         "mode": "lines",
         "name": "Hydrogen Bond",
         "type": "scatter3d",
         "x": [
          -1.9852924640146863,
          1.9852924640146863
         ],
         "y": [
          -0.24210293745945177,
          0.24210293745945177
         ],
         "z": [
          7.5965665236051505,
          7.5965665236051505
         ]
        },
        {
         "line": {
          "color": "gray",
          "width": 1
         },
         "mode": "lines",
         "name": "Hydrogen Bond",
         "type": "scatter3d",
         "x": [
          -1.9806194487109634,
          1.9806194487109634
         ],
         "y": [
          -0.2777527666610704,
          0.2777527666610704
         ],
         "z": [
          7.6108726752503575,
          7.6108726752503575
         ]
        },
        {
         "line": {
          "color": "gray",
          "width": 1
         },
         "mode": "lines",
         "name": "Hydrogen Bond",
         "type": "scatter3d",
         "x": [
          -1.9753063232494679,
          1.9753063232494679
         ],
         "y": [
          -0.3133128298213604,
          0.3133128298213604
         ],
         "z": [
          7.625178826895565,
          7.625178826895565
         ]
        },
        {
         "line": {
          "color": "gray",
          "width": 1
         },
         "mode": "lines",
         "name": "Hydrogen Bond",
         "type": "scatter3d",
         "x": [
          -1.9693548047624727,
          1.9693548047624727
         ],
         "y": [
          -0.34877163439557884,
          0.34877163439557884
         ],
         "z": [
          7.639484978540772,
          7.639484978540772
         ]
        },
        {
         "line": {
          "color": "gray",
          "width": 1
         },
         "mode": "lines",
         "name": "Hydrogen Bond",
         "type": "scatter3d",
         "x": [
          -1.9627668167024828,
          1.9627668167024828
         ],
         "y": [
          -0.3841177205644157,
          0.3841177205644157
         ],
         "z": [
          7.65379113018598,
          7.65379113018598
         ]
        },
        {
         "line": {
          "color": "gray",
          "width": 1
         },
         "mode": "lines",
         "name": "Hydrogen Bond",
         "type": "scatter3d",
         "x": [
          -1.955544488220597,
          1.955544488220597
         ],
         "y": [
          -0.41933966493767744,
          0.41933966493767744
         ],
         "z": [
          7.668097281831187,
          7.668097281831187
         ]
        },
        {
         "line": {
          "color": "gray",
          "width": 1
         },
         "mode": "lines",
         "name": "Hydrogen Bond",
         "type": "scatter3d",
         "x": [
          -1.9476901534783964,
          1.9476901534783964
         ],
         "y": [
          -0.454426084246163,
          0.454426084246163
         ],
         "z": [
          7.682403433476395,
          7.682403433476395
         ]
        },
        {
         "line": {
          "color": "gray",
          "width": 1
         },
         "mode": "lines",
         "name": "Hydrogen Bond",
         "type": "scatter3d",
         "x": [
          -1.9392063508935737,
          1.9392063508935737
         ],
         "y": [
          -0.4893656390205897,
          0.4893656390205897
         ],
         "z": [
          7.696709585121602,
          7.696709585121602
         ]
        },
        {
         "line": {
          "color": "gray",
          "width": 1
         },
         "mode": "lines",
         "name": "Hydrogen Bond",
         "type": "scatter3d",
         "x": [
          -1.93009582231955,
          1.93009582231955
         ],
         "y": [
          -0.5241470372563607,
          0.5241470372563607
         ],
         "z": [
          7.71101573676681,
          7.71101573676681
         ]
        },
        {
         "line": {
          "color": "gray",
          "width": 1
         },
         "mode": "lines",
         "name": "Hydrogen Bond",
         "type": "scatter3d",
         "x": [
          -1.9203615121593431,
          1.9203615121593431
         ],
         "y": [
          -0.5587590380629929,
          0.5587590380629929
         ],
         "z": [
          7.725321888412017,
          7.725321888412017
         ]
        },
        {
         "line": {
          "color": "gray",
          "width": 1
         },
         "mode": "lines",
         "name": "Hydrogen Bond",
         "type": "scatter3d",
         "x": [
          -1.910006566413977,
          1.910006566413977
         ],
         "y": [
          -0.5931904552970239,
          0.5931904552970239
         ],
         "z": [
          7.739628040057225,
          7.739628040057225
         ]
        },
        {
         "line": {
          "color": "gray",
          "width": 1
         },
         "mode": "lines",
         "name": "Hydrogen Bond",
         "type": "scatter3d",
         "x": [
          -1.8990343316657334,
          1.8990343316657334
         ],
         "y": [
          -0.6274301611772274,
          0.6274301611772274
         ],
         "z": [
          7.753934191702432,
          7.753934191702432
         ]
        },
        {
         "line": {
          "color": "gray",
          "width": 1
         },
         "mode": "lines",
         "name": "Hydrogen Bond",
         "type": "scatter3d",
         "x": [
          -1.887448353996582,
          1.887448353996582
         ],
         "y": [
          -0.6614670898809653,
          0.6614670898809653
         ],
         "z": [
          7.76824034334764,
          7.76824034334764
         ]
        },
        {
         "line": {
          "color": "gray",
          "width": 1
         },
         "mode": "lines",
         "name": "Hydrogen Bond",
         "type": "scatter3d",
         "x": [
          -1.8752523778421333,
          1.8752523778421333
         ],
         "y": [
          -0.6952902411205161,
          0.6952902411205161
         ],
         "z": [
          7.782546494992847,
          7.782546494992847
         ]
        },
        {
         "line": {
          "color": "gray",
          "width": 1
         },
         "mode": "lines",
         "name": "Hydrogen Bond",
         "type": "scatter3d",
         "x": [
          -1.8624503447814849,
          1.8624503447814849
         ],
         "y": [
          -0.728888683698223,
          0.728888683698223
         ],
         "z": [
          7.7968526466380546,
          7.7968526466380546
         ]
        },
        {
         "line": {
          "color": "gray",
          "width": 1
         },
         "mode": "lines",
         "name": "Hydrogen Bond",
         "type": "scatter3d",
         "x": [
          -1.8490463922633567,
          1.8490463922633567
         ],
         "y": [
          -0.762251559039314,
          0.762251559039314
         ],
         "z": [
          7.8111587982832615,
          7.8111587982832615
         ]
        },
        {
         "line": {
          "color": "gray",
          "width": 1
         },
         "mode": "lines",
         "name": "Hydrogen Bond",
         "type": "scatter3d",
         "x": [
          -1.8350448522689211,
          1.8350448522689211
         ],
         "y": [
          -0.7953680847012493,
          0.7953680847012493
         ],
         "z": [
          7.825464949928469,
          7.825464949928469
         ]
        },
        {
         "line": {
          "color": "gray",
          "width": 1
         },
         "mode": "lines",
         "name": "Hydrogen Bond",
         "type": "scatter3d",
         "x": [
          -1.8204502499117632,
          1.8204502499117632
         ],
         "y": [
          -0.8282275578584661,
          0.8282275578584661
         ],
         "z": [
          7.839771101573676,
          7.839771101573676
         ]
        },
        {
         "line": {
          "color": "gray",
          "width": 1
         },
         "mode": "lines",
         "name": "Hydrogen Bond",
         "type": "scatter3d",
         "x": [
          -1.8052673019754246,
          1.8052673019754246
         ],
         "y": [
          -0.8608193587613902,
          0.8608193587613902
         ],
         "z": [
          7.854077253218884,
          7.854077253218884
         ]
        },
        {
         "line": {
          "color": "gray",
          "width": 1
         },
         "mode": "lines",
         "name": "Hydrogen Bond",
         "type": "scatter3d",
         "x": [
          -1.7895009153890002,
          1.7895009153890002
         ],
         "y": [
          -0.8931329541685996,
          0.8931329541685996
         ],
         "z": [
          7.868383404864091,
          7.868383404864091
         ]
        },
        {
         "line": {
          "color": "gray",
          "width": 1
         },
         "mode": "lines",
         "name": "Hydrogen Bond",
         "type": "scatter3d",
         "x": [
          -1.7731561856412839,
          1.7731561856412839
         ],
         "y": [
          -0.92515790075103,
          0.92515790075103
         ],
         "z": [
          7.882689556509299,
          7.882689556509299
         ]
        },
        {
         "line": {
          "color": "gray",
          "width": 1
         },
         "mode": "lines",
         "name": "Hydrogen Bond",
         "type": "scatter3d",
         "x": [
          -1.7562383951339726,
          1.7562383951339726
         ],
         "y": [
          -0.9568838484671209,
          0.9568838484671209
         ],
         "z": [
          7.896995708154506,
          7.896995708154506
         ]
        },
        {
         "line": {
          "color": "gray",
          "width": 1
         },
         "mode": "lines",
         "name": "Hydrogen Bond",
         "type": "scatter3d",
         "x": [
          -1.7387530114744647,
          1.7387530114744647
         ],
         "y": [
          -0.9883005439078134,
          0.9883005439078134
         ],
         "z": [
          7.911301859799714,
          7.911301859799714
         ]
        },
        {
         "line": {
          "color": "gray",
          "width": 1
         },
         "mode": "lines",
         "name": "Hydrogen Bond",
         "type": "scatter3d",
         "x": [
          -1.7207056857088006,
          1.7207056857088006
         ],
         "y": [
          -1.0193978336103164,
          1.0193978336103164
         ],
         "z": [
          7.925608011444921,
          7.925608011444921
         ]
        },
        {
         "line": {
          "color": "gray",
          "width": 1
         },
         "mode": "lines",
         "name": "Hydrogen Bond",
         "type": "scatter3d",
         "x": [
          -1.7021022504953187,
          1.7021022504953187
         ],
         "y": [
          -1.0501656673395732,
          1.0501656673395732
         ],
         "z": [
          7.939914163090129,
          7.939914163090129
         ]
        },
        {
         "line": {
          "color": "gray",
          "width": 1
         },
         "mode": "lines",
         "name": "Hydrogen Bond",
         "type": "scatter3d",
         "x": [
          -1.682948718219618,
          1.682948718219618
         ],
         "y": [
          -1.0805941013363647,
          1.0805941013363647
         ],
         "z": [
          7.954220314735336,
          7.954220314735336
         ]
        },
        {
         "line": {
          "color": "gray",
          "width": 1
         },
         "mode": "lines",
         "name": "Hydrogen Bond",
         "type": "scatter3d",
         "x": [
          -1.6632512790514322,
          1.6632512790514322
         ],
         "y": [
          -1.1106733015310013,
          1.1106733015310013
         ],
         "z": [
          7.968526466380544,
          7.968526466380544
         ]
        },
        {
         "line": {
          "color": "gray",
          "width": 1
         },
         "mode": "lines",
         "name": "Hydrogen Bond",
         "type": "scatter3d",
         "x": [
          -1.643016298944051,
          1.643016298944051
         ],
         "y": [
          -1.1403935467215662,
          1.1403935467215662
         ],
         "z": [
          7.982832618025751,
          7.982832618025751
         ]
        },
        {
         "line": {
          "color": "gray",
          "width": 1
         },
         "mode": "lines",
         "name": "Hydrogen Bond",
         "type": "scatter3d",
         "x": [
          -1.622250317576925,
          1.622250317576925
         ],
         "y": [
          -1.1697452317156782,
          1.1697452317156782
         ],
         "z": [
          7.997138769670959,
          7.997138769670959
         ]
        },
        {
         "line": {
          "color": "gray",
          "width": 1
         },
         "mode": "lines",
         "name": "Hydrogen Bond",
         "type": "scatter3d",
         "x": [
          -1.6009600462421292,
          1.6009600462421292
         ],
         "y": [
          -1.1987188704347653,
          1.1987188704347653
         ],
         "z": [
          8.011444921316166,
          8.011444921316166
         ]
        },
        {
         "line": {
          "color": "gray",
          "width": 1
         },
         "mode": "lines",
         "name": "Hydrogen Bond",
         "type": "scatter3d",
         "x": [
          -1.5791523656753605,
          1.5791523656753605
         ],
         "y": [
          -1.227305098979839,
          1.227305098979839
         ],
         "z": [
          8.025751072961373,
          8.025751072961373
         ]
        },
        {
         "line": {
          "color": "gray",
          "width": 1
         },
         "mode": "lines",
         "name": "Hydrogen Bond",
         "type": "scatter3d",
         "x": [
          -1.5568343238321753,
          1.5568343238321753
         ],
         "y": [
          -1.2554946786577845,
          1.2554946786577845
         ],
         "z": [
          8.040057224606581,
          8.040057224606581
         ]
        },
        {
         "line": {
          "color": "gray",
          "width": 1
         },
         "mode": "lines",
         "name": "Hydrogen Bond",
         "type": "scatter3d",
         "x": [
          -1.5340131336101823,
          1.5340131336101823
         ],
         "y": [
          -1.2832784989671842,
          1.2832784989671842
         ],
         "z": [
          8.054363376251787,
          8.054363376251787
         ]
        },
        {
         "line": {
          "color": "gray",
          "width": 1
         },
         "mode": "lines",
         "name": "Hydrogen Bond",
         "type": "scatter3d",
         "x": [
          -1.510696170517929,
          1.510696170517929
         ],
         "y": [
          -1.310647580542712,
          1.310647580542712
         ],
         "z": [
          8.068669527896995,
          8.068669527896995
         ]
        },
        {
         "line": {
          "color": "gray",
          "width": 1
         },
         "mode": "lines",
         "name": "Hydrogen Bond",
         "type": "scatter3d",
         "x": [
          -1.4868909702912343,
          1.4868909702912343
         ],
         "y": [
          -1.3375930780571466,
          1.3375930780571466
         ],
         "z": [
          8.082975679542203,
          8.082975679542203
         ]
        },
        {
         "line": {
          "color": "gray",
          "width": 1
         },
         "mode": "lines",
         "name": "Hydrogen Bond",
         "type": "scatter3d",
         "x": [
          -1.4626052264577387,
          1.4626052264577387
         ],
         "y": [
          -1.3641062830800637,
          1.3641062830800637
         ],
         "z": [
          8.097281831187411,
          8.097281831187411
         ]
        },
        {
         "line": {
          "color": "gray",
          "width": 1
         },
         "mode": "lines",
         "name": "Hydrogen Bond",
         "type": "scatter3d",
         "x": [
          -1.437846787850456,
          1.437846787850456
         ],
         "y": [
          -1.3901786268922876,
          1.3901786268922876
         ],
         "z": [
          8.111587982832617,
          8.111587982832617
         ]
        },
        {
         "line": {
          "color": "gray",
          "width": 1
         },
         "mode": "lines",
         "name": "Hydrogen Bond",
         "type": "scatter3d",
         "x": [
          -1.4126236560711338,
          1.4126236560711338
         ],
         "y": [
          -1.4158016832551876,
          1.4158016832551876
         ],
         "z": [
          8.125894134477825,
          8.125894134477825
         ]
        },
        {
         "line": {
          "color": "gray",
          "width": 1
         },
         "mode": "lines",
         "name": "Hydrogen Bond",
         "type": "scatter3d",
         "x": [
          -1.3869439829042425,
          1.3869439829042425
         ],
         "y": [
          -1.4409671711339285,
          1.4409671711339285
         ],
         "z": [
          8.140200286123033,
          8.140200286123033
         ]
        },
        {
         "line": {
          "color": "gray",
          "width": 1
         },
         "mode": "lines",
         "name": "Hydrogen Bond",
         "type": "scatter3d",
         "x": [
          -1.3608160676824241,
          1.3608160676824241
         ],
         "y": [
          -1.4656669573737904,
          1.4656669573737904
         ],
         "z": [
          8.15450643776824,
          8.15450643776824
         ]
        },
        {
         "line": {
          "color": "gray",
          "width": 1
         },
         "mode": "lines",
         "name": "Hydrogen Bond",
         "type": "scatter3d",
         "x": [
          -1.3342483546042578,
          1.3342483546042578
         ],
         "y": [
          -1.4898930593286992,
          1.4898930593286992
         ],
         "z": [
          8.168812589413447,
          8.168812589413447
         ]
        },
        {
         "line": {
          "color": "gray",
          "width": 1
         },
         "mode": "lines",
         "name": "Hydrogen Bond",
         "type": "scatter3d",
         "x": [
          -1.307249430005206,
          1.307249430005206
         ],
         "y": [
          -1.513637647441112,
          1.513637647441112
         ],
         "z": [
          8.183118741058655,
          8.183118741058655
         ]
        },
        {
         "line": {
          "color": "gray",
          "width": 1
         },
         "mode": "lines",
         "name": "Hydrogen Bond",
         "type": "scatter3d",
         "x": [
          -1.279828019582624,
          1.279828019582624
         ],
         "y": [
          -1.5368930477724267,
          1.5368930477724267
         ],
         "z": [
          8.197424892703863,
          8.197424892703863
         ]
        },
        {
         "line": {
          "color": "gray",
          "width": 1
         },
         "mode": "lines",
         "name": "Hydrogen Bond",
         "type": "scatter3d",
         "x": [
          -1.2519929855757284,
          1.2519929855757284
         ],
         "y": [
          -1.559651744483099,
          1.559651744483099
         ],
         "z": [
          8.21173104434907,
          8.21173104434907
         ]
        },
        {
         "line": {
          "color": "gray",
          "width": 1
         },
         "mode": "lines",
         "name": "Hydrogen Bond",
         "type": "scatter3d",
         "x": [
          -1.2237533239014386,
          1.2237533239014386
         ],
         "y": [
          -1.5819063822616624,
          1.5819063822616624
         ],
         "z": [
          8.226037195994277,
          8.226037195994277
         ]
        },
        {
         "line": {
          "color": "gray",
          "width": 1
         },
         "mode": "lines",
         "name": "Hydrogen Bond",
         "type": "scatter3d",
         "x": [
          -1.195118161247012,
          1.195118161247012
         ],
         "y": [
          -1.60364976870187,
          1.60364976870187
         ],
         "z": [
          8.240343347639485,
          8.240343347639485
         ]
        },
        {
         "line": {
          "color": "gray",
          "width": 1
         },
         "mode": "lines",
         "name": "Hydrogen Bond",
         "type": "scatter3d",
         "x": [
          -1.16609675212043,
          1.16609675212043
         ],
         "y": [
          -1.6248748766271772,
          1.6248748766271772
         ],
         "z": [
          8.254649499284692,
          8.254649499284692
         ]
        },
        {
         "line": {
          "color": "gray",
          "width": 1
         },
         "mode": "lines",
         "name": "Hydrogen Bond",
         "type": "scatter3d",
         "x": [
          -1.1366984758594452,
          1.1366984758594452
         ],
         "y": [
          -1.6455748463618465,
          1.6455748463618465
         ],
         "z": [
          8.2689556509299,
          8.2689556509299
         ]
        },
        {
         "line": {
          "color": "gray",
          "width": 1
         },
         "mode": "lines",
         "name": "Hydrogen Bond",
         "type": "scatter3d",
         "x": [
          -1.1069328336003146,
          1.1069328336003146
         ],
         "y": [
          -1.6657429879478942,
          1.6657429879478942
         ],
         "z": [
          8.283261802575108,
          8.283261802575108
         ]
        },
        {
         "line": {
          "color": "gray",
          "width": 1
         },
         "mode": "lines",
         "name": "Hydrogen Bond",
         "type": "scatter3d",
         "x": [
          -1.0768094452071546,
          1.0768094452071546
         ],
         "y": [
          -1.6853727833072005,
          1.6853727833072005
         ],
         "z": [
          8.297567954220314,
          8.297567954220314
         ]
        },
        {
         "line": {
          "color": "gray",
          "width": 1
         },
         "mode": "lines",
         "name": "Hydrogen Bond",
         "type": "scatter3d",
         "x": [
          -1.0463380461629272,
          1.0463380461629272
         ],
         "y": [
          -1.7044578883480659,
          1.7044578883480659
         ],
         "z": [
          8.311874105865522,
          8.311874105865522
         ]
        },
        {
         "line": {
          "color": "gray",
          "width": 1
         },
         "mode": "lines",
         "name": "Hydrogen Bond",
         "type": "scatter3d",
         "x": [
          -1.0155284844230599,
          1.0155284844230599
         ],
         "y": [
          -1.7229921350155384,
          1.7229921350155384
         ],
         "z": [
          8.32618025751073,
          8.32618025751073
         ]
        },
        {
         "line": {
          "color": "gray",
          "width": 1
         },
         "mode": "lines",
         "name": "Hydrogen Bond",
         "type": "scatter3d",
         "x": [
          -0.9843907172327161,
          0.9843907172327161
         ],
         "y": [
          -1.7409695332848472,
          1.7409695332848472
         ],
         "z": [
          8.340486409155938,
          8.340486409155938
         ]
        },
        {
         "line": {
          "color": "gray",
          "width": 1
         },
         "mode": "lines",
         "name": "Hydrogen Bond",
         "type": "scatter3d",
         "x": [
          -0.9529348079087443,
          0.9529348079087443
         ],
         "y": [
          -1.7583842730973012,
          1.7583842730973012
         ],
         "z": [
          8.354792560801144,
          8.354792560801144
         ]
        },
        {
         "line": {
          "color": "gray",
          "width": 1
         },
         "mode": "lines",
         "name": "Hydrogen Bond",
         "type": "scatter3d",
         "x": [
          -0.9211709225873468,
          0.9211709225873468
         ],
         "y": [
          -1.7752307262380225,
          1.7752307262380225
         ],
         "z": [
          8.369098712446352,
          8.369098712446352
         ]
        },
        {
         "line": {
          "color": "gray",
          "width": 1
         },
         "mode": "lines",
         "name": "Hydrogen Bond",
         "type": "scatter3d",
         "x": [
          -0.8891093269385176,
          0.8891093269385176
         ],
         "y": [
          -1.791503448154911,
          1.791503448154911
         ],
         "z": [
          8.38340486409156,
          8.38340486409156
         ]
        },
        {
         "line": {
          "color": "gray",
          "width": 1
         },
         "mode": "lines",
         "name": "Hydrogen Bond",
         "type": "scatter3d",
         "x": [
          -0.8567603828483137,
          0.8567603828483137
         ],
         "y": [
          -1.807197179718254,
          1.807197179718254
         ],
         "z": [
          8.397711015736768,
          8.397711015736768
         ]
        },
        {
         "line": {
          "color": "gray",
          "width": 1
         },
         "mode": "lines",
         "name": "Hydrogen Bond",
         "type": "scatter3d",
         "x": [
          -0.8241345450700287,
          0.8241345450700287
         ],
         "y": [
          -1.8223068489204053,
          1.8223068489204053
         ],
         "z": [
          8.412017167381974,
          8.412017167381974
         ]
        },
        {
         "line": {
          "color": "gray",
          "width": 1
         },
         "mode": "lines",
         "name": "Hydrogen Bond",
         "type": "scatter3d",
         "x": [
          -0.7912423578453551,
          0.7912423578453551
         ],
         "y": [
          -1.8368275725149932,
          1.8368275725149932
         ],
         "z": [
          8.426323319027182,
          8.426323319027182
         ]
        },
        {
         "line": {
          "color": "gray",
          "width": 1
         },
         "mode": "lines",
         "name": "Hydrogen Bond",
         "type": "scatter3d",
         "x": [
          -0.7580944514966234,
          0.7580944514966234
         ],
         "y": [
          -1.850754657595121,
          1.850754657595121
         ],
         "z": [
          8.44062947067239,
          8.44062947067239
         ]
        },
        {
         "line": {
          "color": "gray",
          "width": 1
         },
         "mode": "lines",
         "name": "Hydrogen Bond",
         "type": "scatter3d",
         "x": [
          -0.7247015389912218,
          0.7247015389912218
         ],
         "y": [
          -1.8640836031100523,
          1.8640836031100523
         ],
         "z": [
          8.454935622317597,
          8.454935622317597
         ]
        },
        {
         "line": {
          "color": "gray",
          "width": 1
         },
         "mode": "lines",
         "name": "Hydrogen Bond",
         "type": "scatter3d",
         "x": [
          -0.6910744124793065,
          0.6910744124793065
         ],
         "y": [
          -1.8768101013198915,
          1.8768101013198915
         ],
         "z": [
          8.469241773962803,
          8.469241773962803
         ]
        },
        {
         "line": {
          "color": "gray",
          "width": 1
         },
         "mode": "lines",
         "name": "Hydrogen Bond",
         "type": "scatter3d",
         "x": [
          -0.6572239398059198,
          0.6572239398059198
         ],
         "y": [
          -1.8889300391877897,
          1.8889300391877897
         ],
         "z": [
          8.483547925608011,
          8.483547925608011
         ]
        },
        {
         "line": {
          "color": "gray",
          "width": 1
         },
         "mode": "lines",
         "name": "Hydrogen Bond",
         "type": "scatter3d",
         "x": [
          -0.6231610609986467,
          0.6231610609986467
         ],
         "y": [
          -1.9004394997092229,
          1.9004394997092229
         ],
         "z": [
          8.49785407725322,
          8.49785407725322
         ]
        },
        {
         "line": {
          "color": "gray",
          "width": 1
         },
         "mode": "lines",
         "name": "Hydrogen Bond",
         "type": "scatter3d",
         "x": [
          -0.5888967847319406,
          0.5888967847319406
         ],
         "y": [
          -1.9113347631779165,
          1.9113347631779165
         ],
         "z": [
          8.512160228898427,
          8.512160228898427
         ]
        },
        {
         "line": {
          "color": "gray",
          "width": 1
         },
         "mode": "lines",
         "name": "Hydrogen Bond",
         "type": "scatter3d",
         "x": [
          -0.5544421847692657,
          0.5544421847692657
         ],
         "y": [
          -1.9216123083880066,
          1.9216123083880066
         ],
         "z": [
          8.526466380543633,
          8.526466380543633
         ]
        },
        {
         "line": {
          "color": "gray",
          "width": 1
         },
         "mode": "lines",
         "name": "Hydrogen Bond",
         "type": "scatter3d",
         "x": [
          -0.5198083963842012,
          0.5198083963842012
         ],
         "y": [
          -1.931268813772046,
          1.931268813772046
         ],
         "z": [
          8.540772532188841,
          8.540772532188841
         ]
        },
        {
         "line": {
          "color": "gray",
          "width": 1
         },
         "mode": "lines",
         "name": "Hydrogen Bond",
         "type": "scatter3d",
         "x": [
          -0.485006612761668,
          0.485006612761668
         ],
         "y": [
          -1.9403011584744914,
          1.9403011584744914
         ],
         "z": [
          8.555078683834049,
          8.555078683834049
         ]
        },
        {
         "line": {
          "color": "gray",
          "width": 1
         },
         "mode": "lines",
         "name": "Hydrogen Bond",
         "type": "scatter3d",
         "x": [
          -0.45004808138043867,
          0.45004808138043867
         ],
         "y": [
          -1.948706423360324,
          1.948706423360324
         ],
         "z": [
          8.569384835479257,
          8.569384835479257
         ]
        },
        {
         "line": {
          "color": "gray",
          "width": 1
         },
         "mode": "lines",
         "name": "Hydrogen Bond",
         "type": "scatter3d",
         "x": [
          -0.4149441003780995,
          0.4149441003780995
         ],
         "y": [
          -1.9564818919584739,
          1.9564818919584739
         ],
         "z": [
          8.583690987124463,
          8.583690987124463
         ]
        },
        {
         "line": {
          "color": "gray",
          "width": 1
         },
         "mode": "lines",
         "name": "Hydrogen Bond",
         "type": "scatter3d",
         "x": [
          -0.3797060148996416,
          0.3797060148996416
         ],
         "y": [
          -1.9636250513397493,
          1.9636250513397493
         ],
         "z": [
          8.59799713876967,
          8.59799713876967
         ]
        },
        {
         "line": {
          "color": "gray",
          "width": 1
         },
         "mode": "lines",
         "name": "Hydrogen Bond",
         "type": "scatter3d",
         "x": [
          -0.34434521343085917,
          0.34434521343085917
         ],
         "y": [
          -1.9701335929289812,
          1.9701335929289812
         ],
         "z": [
          8.612303290414879,
          8.612303290414879
         ]
        },
        {
         "line": {
          "color": "gray",
          "width": 1
         },
         "mode": "lines",
         "name": "Hydrogen Bond",
         "type": "scatter3d",
         "x": [
          -0.3088731241177404,
          0.3088731241177404
         ],
         "y": [
          -1.9760054132511244,
          1.9760054132511244
         ],
         "z": [
          8.626609442060087,
          8.626609442060087
         ]
        },
        {
         "line": {
          "color": "gray",
          "width": 1
         },
         "mode": "lines",
         "name": "Hydrogen Bond",
         "type": "scatter3d",
         "x": [
          -0.27330121107304145,
          0.27330121107304145
         ],
         "y": [
          -1.9812386146110743,
          1.9812386146110743
         ],
         "z": [
          8.640915593705293,
          8.640915593705293
         ]
        },
        {
         "line": {
          "color": "gray",
          "width": 1
         },
         "mode": "lines",
         "name": "Hydrogen Bond",
         "type": "scatter3d",
         "x": [
          -0.23764097067123544,
          0.23764097067123544
         ],
         "y": [
          -1.9858315057069753,
          1.9858315057069753
         ],
         "z": [
          8.6552217453505,
          8.6552217453505
         ]
        },
        {
         "line": {
          "color": "gray",
          "width": 1
         },
         "mode": "lines",
         "name": "Hydrogen Bond",
         "type": "scatter3d",
         "x": [
          -0.20190392783303576,
          0.20190392783303576
         ],
         "y": [
          -1.9897826021768288,
          1.9897826021768288
         ],
         "z": [
          8.669527896995708,
          8.669527896995708
         ]
        },
        {
         "line": {
          "color": "gray",
          "width": 1
         },
         "mode": "lines",
         "name": "Hydrogen Bond",
         "type": "scatter3d",
         "x": [
          -0.16610163230069322,
          0.16610163230069322
         ],
         "y": [
          -1.9930906270782183,
          1.9930906270782183
         ],
         "z": [
          8.683834048640916,
          8.683834048640916
         ]
        },
        {
         "line": {
          "color": "gray",
          "width": 1
         },
         "mode": "lines",
         "name": "Hydrogen Bond",
         "type": "scatter3d",
         "x": [
          -0.13024565490527118,
          0.13024565490527118
         ],
         "y": [
          -1.995754511301001,
          1.995754511301001
         ],
         "z": [
          8.698140200286122,
          8.698140200286122
         ]
        },
        {
         "line": {
          "color": "gray",
          "width": 1
         },
         "mode": "lines",
         "name": "Hydrogen Bond",
         "type": "scatter3d",
         "x": [
          -0.09434758382710515,
          0.09434758382710515
         ],
         "y": [
          -1.99777339391283,
          1.99777339391283
         ],
         "z": [
          8.71244635193133,
          8.71244635193133
         ]
        },
        {
         "line": {
          "color": "gray",
          "width": 1
         },
         "mode": "lines",
         "name": "Hydrogen Bond",
         "type": "scatter3d",
         "x": [
          -0.058419020850655284,
          0.058419020850655284
         ],
         "y": [
          -1.9991466224373966,
          1.9991466224373966
         ],
         "z": [
          8.726752503576538,
          8.726752503576538
         ]
        },
        {
         "line": {
          "color": "gray",
          "width": 1
         },
         "mode": "lines",
         "name": "Hydrogen Bond",
         "type": "scatter3d",
         "x": [
          -0.022471577614962296,
          0.022471577614962296
         ],
         "y": [
          -1.9998737530653015,
          1.9998737530653015
         ],
         "z": [
          8.741058655221746,
          8.741058655221746
         ]
        },
        {
         "line": {
          "color": "gray",
          "width": 1
         },
         "mode": "lines",
         "name": "Hydrogen Bond",
         "type": "scatter3d",
         "x": [
          0.013483128139081643,
          -0.013483128139081643
         ],
         "y": [
          -1.9999545507974887,
          1.9999545507974887
         ],
         "z": [
          8.755364806866952,
          8.755364806866952
         ]
        },
        {
         "line": {
          "color": "gray",
          "width": 1
         },
         "mode": "lines",
         "name": "Hydrogen Bond",
         "type": "scatter3d",
         "x": [
          0.049433476323433936,
          -0.049433476323433936
         ],
         "y": [
          -1.9993889895211938,
          1.9993889895211938
         ],
         "z": [
          8.76967095851216,
          8.76967095851216
         ]
        },
        {
         "line": {
          "color": "gray",
          "width": 1
         },
         "mode": "lines",
         "name": "Hydrogen Bond",
         "type": "scatter3d",
         "x": [
          0.08536784825836122,
          -0.08536784825836122
         ],
         "y": [
          -1.9981772520183831,
          1.9981772520183831
         ],
         "z": [
          8.783977110157368,
          8.783977110157368
         ]
        },
        {
         "line": {
          "color": "gray",
          "width": 1
         },
         "mode": "lines",
         "name": "Hydrogen Bond",
         "type": "scatter3d",
         "x": [
          0.1212746304274438,
          -0.1212746304274438
         ],
         "y": [
          -1.9963197299066817,
          1.9963197299066817
         ],
         "z": [
          8.798283261802576,
          8.798283261802576
         ]
        },
        {
         "line": {
          "color": "gray",
          "width": 1
         },
         "mode": "lines",
         "name": "Hydrogen Bond",
         "type": "scatter3d",
         "x": [
          0.15714221823091148,
          -0.15714221823091148
         ],
         "y": [
          -1.9938170235128068,
          1.9938170235128068
         ],
         "z": [
          8.812589413447782,
          8.812589413447782
         ]
        },
        {
         "line": {
          "color": "gray",
          "width": 1
         },
         "mode": "lines",
         "name": "Hydrogen Bond",
         "type": "scatter3d",
         "x": [
          0.1929590197360976,
          -0.1929590197360976
         ],
         "y": [
          -1.9906699416785507,
          1.9906699416785507
         ],
         "z": [
          8.82689556509299,
          8.82689556509299
         ]
        },
        {
         "line": {
          "color": "gray",
          "width": 1
         },
         "mode": "lines",
         "name": "Hydrogen Bond",
         "type": "scatter3d",
         "x": [
          0.22871345942379911,
          -0.22871345942379911
         ],
         "y": [
          -1.9868795014993732,
          1.9868795014993732
         ],
         "z": [
          8.841201716738198,
          8.841201716738198
         ]
        },
        {
         "line": {
          "color": "gray",
          "width": 1
         },
         "mode": "lines",
         "name": "Hydrogen Bond",
         "type": "scatter3d",
         "x": [
          0.26439398192933583,
          -0.26439398192933583
         ],
         "y": [
          -1.9824469279956904,
          1.9824469279956904
         ],
         "z": [
          8.855507868383405,
          8.855507868383405
         ]
        },
        {
         "line": {
          "color": "gray",
          "width": 1
         },
         "mode": "lines",
         "name": "Hydrogen Bond",
         "type": "scatter3d",
         "x": [
          0.2999890557770781,
          -0.2999890557770781
         ],
         "y": [
          -1.9773736537169644,
          1.9773736537169644
         ],
         "z": [
          8.869814020028612,
          8.869814020028612
         ]
        },
        {
         "line": {
          "color": "gray",
          "width": 1
         },
         "mode": "lines",
         "name": "Hydrogen Bond",
         "type": "scatter3d",
         "x": [
          0.3354871771072892,
          -0.3354871771072892
         ],
         "y": [
          -1.9716613182787206,
          1.9716613182787206
         ],
         "z": [
          8.88412017167382,
          8.88412017167382
         ]
        },
        {
         "line": {
          "color": "gray",
          "width": 1
         },
         "mode": "lines",
         "name": "Hydrogen Bond",
         "type": "scatter3d",
         "x": [
          0.3708768733940077,
          -0.3708768733940077
         ],
         "y": [
          -1.9653117678326473,
          1.9653117678326473
         ],
         "z": [
          8.898426323319027,
          8.898426323319027
         ]
        },
        {
         "line": {
          "color": "gray",
          "width": 1
         },
         "mode": "lines",
         "name": "Hydrogen Bond",
         "type": "scatter3d",
         "x": [
          0.4061467071528201,
          -0.4061467071528201
         ],
         "y": [
          -1.9583270544699425,
          1.9583270544699425
         ],
         "z": [
          8.912732474964235,
          8.912732474964235
         ]
        },
        {
         "line": {
          "color": "gray",
          "width": 1
         },
         "mode": "lines",
         "name": "Hydrogen Bond",
         "type": "scatter3d",
         "x": [
          0.44128527963730557,
          -0.44128527963730557
         ],
         "y": [
          -1.950709435558106,
          1.950709435558106
         ],
         "z": [
          8.927038626609441,
          8.927038626609441
         ]
        },
        {
         "line": {
          "color": "gray",
          "width": 1
         },
         "mode": "lines",
         "name": "Hydrogen Bond",
         "type": "scatter3d",
         "x": [
          0.4762812345229609,
          -0.4762812345229609
         ],
         "y": [
          -1.9424613730113873,
          1.9424613730113873
         ],
         "z": [
          8.94134477825465,
          8.94134477825465
         ]
        },
        {
         "line": {
          "color": "gray",
          "width": 1
         },
         "mode": "lines",
         "name": "Hydrogen Bond",
         "type": "scatter3d",
         "x": [
          0.5111232615774151,
          -0.5111232615774151
         ],
         "y": [
          -1.9335855324951274,
          1.9335855324951274
         ],
         "z": [
          8.955650929899857,
          8.955650929899857
         ]
        },
        {
         "line": {
          "color": "gray",
          "width": 1
         },
         "mode": "lines",
         "name": "Hydrogen Bond",
         "type": "scatter3d",
         "x": [
          0.5458001003157481,
          -0.5458001003157481
         ],
         "y": [
          -1.9240847825642506,
          1.9240847825642506
         ],
         "z": [
          8.969957081545065,
          8.969957081545065
         ]
        },
        {
         "line": {
          "color": "gray",
          "width": 1
         },
         "mode": "lines",
         "name": "Hydrogen Bond",
         "type": "scatter3d",
         "x": [
          0.5803005436397308,
          -0.5803005436397308
         ],
         "y": [
          -1.913962193736186,
          1.913962193736186
         ],
         "z": [
          8.984263233190271,
          8.984263233190271
         ]
        },
        {
         "line": {
          "color": "gray",
          "width": 1
         },
         "mode": "lines",
         "name": "Hydrogen Bond",
         "type": "scatter3d",
         "x": [
          0.6146134414598124,
          -0.6146134414598124
         ],
         "y": [
          -1.9032210374985155,
          1.9032210374985155
         ],
         "z": [
          8.998569384835479,
          8.998569384835479
         ]
        },
        {
         "line": {
          "color": "gray",
          "width": 1
         },
         "mode": "lines",
         "name": "Hydrogen Bond",
         "type": "scatter3d",
         "x": [
          0.6487277042986824,
          -0.6487277042986824
         ],
         "y": [
          -1.8918647852516737,
          1.8918647852516737
         ],
         "z": [
          9.012875536480687,
          9.012875536480687
         ]
        },
        {
         "line": {
          "color": "gray",
          "width": 1
         },
         "mode": "lines",
         "name": "Hydrogen Bond",
         "type": "scatter3d",
         "x": [
          0.6826323068752439,
          -0.6826323068752439
         ],
         "y": [
          -1.8798971071870352,
          1.8798971071870352
         ],
         "z": [
          9.027181688125895,
          9.027181688125895
         ]
        },
        {
         "line": {
          "color": "gray",
          "width": 1
         },
         "mode": "lines",
         "name": "Hydrogen Bond",
         "type": "scatter3d",
         "x": [
          0.7163162916678393,
          -0.7163162916678393
         ],
         "y": [
          -1.8673218711007578,
          1.8673218711007578
         ],
         "z": [
          9.0414878397711,
          9.0414878397711
         ]
        },
        {
         "line": {
          "color": "gray",
          "width": 1
         },
         "mode": "lines",
         "name": "Hydrogen Bond",
         "type": "scatter3d",
         "x": [
          0.7497687724555774,
          -0.7497687724555774
         ],
         "y": [
          -1.854143141143762,
          1.854143141143762
         ],
         "z": [
          9.055793991416309,
          9.055793991416309
         ]
        },
        {
         "line": {
          "color": "gray",
          "width": 1
         },
         "mode": "lines",
         "name": "Hydrogen Bond",
         "type": "scatter3d",
         "x": [
          0.7829789378366169,
          -0.7829789378366169
         ],
         "y": [
          -1.8403651765082503,
          1.8403651765082503
         ],
         "z": [
          9.070100143061516,
          9.070100143061516
         ]
        },
        {
         "line": {
          "color": "gray",
          "width": 1
         },
         "mode": "lines",
         "name": "Hydrogen Bond",
         "type": "scatter3d",
         "x": [
          0.8159360547222689,
          -0.8159360547222689
         ],
         "y": [
          -1.8259924300511923,
          1.8259924300511923
         ],
         "z": [
          9.084406294706724,
          9.084406294706724
         ]
        },
        {
         "line": {
          "color": "gray",
          "width": 1
         },
         "mode": "lines",
         "name": "Hydrogen Bond",
         "type": "scatter3d",
         "x": [
          0.8486294718057906,
          -0.8486294718057906
         ],
         "y": [
          -1.8110295468552202,
          1.8110295468552202
         ],
         "z": [
          9.09871244635193,
          9.09871244635193
         ]
        },
        {
         "line": {
          "color": "gray",
          "width": 1
         },
         "mode": "lines",
         "name": "Hydrogen Bond",
         "type": "scatter3d",
         "x": [
          0.8810486230047468,
          -0.8810486230047468
         ],
         "y": [
          -1.7954813627273993,
          1.7954813627273993
         ],
         "z": [
          9.113018597997138,
          9.113018597997138
         ]
        },
        {
         "line": {
          "color": "gray",
          "width": 1
         },
         "mode": "lines",
         "name": "Hydrogen Bond",
         "type": "scatter3d",
         "x": [
          0.9131830308758295,
          -0.9131830308758295
         ],
         "y": [
          -1.7793529026363584,
          1.7793529026363584
         ],
         "z": [
          9.127324749642346,
          9.127324749642346
         ]
        },
        {
         "line": {
          "color": "gray",
          "width": 1
         },
         "mode": "lines",
         "name": "Hydrogen Bond",
         "type": "scatter3d",
         "x": [
          0.9450223100010293,
          -0.9450223100010293
         ],
         "y": [
          -1.7626493790882856,
          1.7626493790882856
         ],
         "z": [
          9.141630901287554,
          9.141630901287554
         ]
        },
        {
         "line": {
          "color": "gray",
          "width": 1
         },
         "mode": "lines",
         "name": "Hydrogen Bond",
         "type": "scatter3d",
         "x": [
          0.9765561703440662,
          -0.9765561703440662
         ],
         "y": [
          -1.745376190442316,
          1.745376190442316
         ],
         "z": [
          9.15593705293276,
          9.15593705293276
         ]
        },
        {
         "line": {
          "color": "gray",
          "width": 1
         },
         "mode": "lines",
         "name": "Hydrogen Bond",
         "type": "scatter3d",
         "x": [
          1.0077744205759938,
          -1.0077744205759938
         ],
         "y": [
          -1.727538919165852,
          1.727538919165852
         ],
         "z": [
          9.170243204577968,
          9.170243204577968
         ]
        },
        {
         "line": {
          "color": "gray",
          "width": 1
         },
         "mode": "lines",
         "name": "Hydrogen Bond",
         "type": "scatter3d",
         "x": [
          1.0386669713689027,
          -1.0386669713689027
         ],
         "y": [
          -1.7091433300303842,
          1.7091433300303842
         ],
         "z": [
          9.184549356223176,
          9.184549356223176
         ]
        },
        {
         "line": {
          "color": "gray",
          "width": 1
         },
         "mode": "lines",
         "name": "Hydrogen Bond",
         "type": "scatter3d",
         "x": [
          1.0692238386566595,
          -1.0692238386566595
         ],
         "y": [
          -1.6901953682483921,
          1.6901953682483921
         ],
         "z": [
          9.198855507868384,
          9.198855507868384
         ]
        },
        {
         "line": {
          "color": "gray",
          "width": 1
         },
         "mode": "lines",
         "name": "Hydrogen Bond",
         "type": "scatter3d",
         "x": [
          1.099435146861624,
          -1.099435146861624
         ],
         "y": [
          -1.6707011575519302,
          1.6707011575519302
         ],
         "z": [
          9.213161659513592,
          9.213161659513592
         ]
        },
        {
         "line": {
          "color": "gray",
          "width": 1
         },
         "mode": "lines",
         "name": "Hydrogen Bond",
         "type": "scatter3d",
         "x": [
          1.1292911320863075,
          -1.1292911320863075
         ],
         "y": [
          -1.650666998213518,
          1.650666998213518
         ],
         "z": [
          9.227467811158798,
          9.227467811158798
         ]
        },
        {
         "line": {
          "color": "gray",
          "width": 1
         },
         "mode": "lines",
         "name": "Hydrogen Bond",
         "type": "scatter3d",
         "x": [
          1.1587821452689353,
          -1.1587821452689353
         ],
         "y": [
          -1.630099365009975,
          1.630099365009975
         ],
         "z": [
          9.241773962804006,
          9.241773962804006
         ]
        },
        {
         "line": {
          "color": "gray",
          "width": 1
         },
         "mode": "lines",
         "name": "Hydrogen Bond",
         "type": "scatter3d",
         "x": [
          1.1878986553018969,
          -1.1878986553018969
         ],
         "y": [
          -1.6090049051298585,
          1.6090049051298585
         ],
         "z": [
          9.256080114449214,
          9.256080114449214
         ]
        },
        {
         "line": {
          "color": "gray",
          "width": 1
         },
         "mode": "lines",
         "name": "Hydrogen Bond",
         "type": "scatter3d",
         "x": [
          1.2166312521120746,
          -1.2166312521120746
         ],
         "y": [
          -1.5873904360251783,
          1.5873904360251783
         ],
         "z": [
          9.270386266094421,
          9.270386266094421
         ]
        },
        {
         "line": {
          "color": "gray",
          "width": 1
         },
         "mode": "lines",
         "name": "Hydrogen Bond",
         "type": "scatter3d",
         "x": [
          1.244970649702055,
          -1.244970649702055
         ],
         "y": [
          -1.565262943208087,
          1.565262943208087
         ],
         "z": [
          9.284692417739628,
          9.284692417739628
         ]
        },
        {
         "line": {
          "color": "gray",
          "width": 1
         },
         "mode": "lines",
         "name": "Hydrogen Bond",
         "type": "scatter3d",
         "x": [
          1.2729076891512416,
          -1.2729076891512416
         ],
         "y": [
          -1.5426295779932544,
          1.5426295779932544
         ],
         "z": [
          9.298998569384835,
          9.298998569384835
         ]
        },
        {
         "line": {
          "color": "gray",
          "width": 1
         },
         "mode": "lines",
         "name": "Hydrogen Bond",
         "type": "scatter3d",
         "x": [
          1.3004333415758975,
          -1.3004333415758975
         ],
         "y": [
          -1.5194976551866557,
          1.5194976551866557
         ],
         "z": [
          9.313304721030043,
          9.313304721030043
         ]
        },
        {
         "line": {
          "color": "gray",
          "width": 1
         },
         "mode": "lines",
         "name": "Hydrogen Bond",
         "type": "scatter3d",
         "x": [
          1.327538711047162,
          -1.327538711047162
         ],
         "y": [
          -1.4958746507215235,
          1.4958746507215235
         ],
         "z": [
          9.327610872675251,
          9.327610872675251
         ]
        },
        {
         "line": {
          "color": "gray",
          "width": 1
         },
         "mode": "lines",
         "name": "Hydrogen Bond",
         "type": "scatter3d",
         "x": [
          1.3542150374660968,
          -1.3542150374660968
         ],
         "y": [
          -1.4717681992422236,
          1.4717681992422236
         ],
         "z": [
          9.341917024320457,
          9.341917024320457
         ]
        },
        {
         "line": {
          "color": "gray",
          "width": 1
         },
         "mode": "lines",
         "name": "Hydrogen Bond",
         "type": "scatter3d",
         "x": [
          1.3804536993948366,
          -1.3804536993948366
         ],
         "y": [
          -1.447186091636839,
          1.447186091636839
         ],
         "z": [
          9.356223175965665,
          9.356223175965665
         ]
        },
        {
         "line": {
          "color": "gray",
          "width": 1
         },
         "mode": "lines",
         "name": "Hydrogen Bond",
         "type": "scatter3d",
         "x": [
          1.406246216842923,
          -1.406246216842923
         ],
         "y": [
          -1.4221362725192572,
          1.4221362725192572
         ],
         "z": [
          9.370529327610873,
          9.370529327610873
         ]
        },
        {
         "line": {
          "color": "gray",
          "width": 1
         },
         "mode": "lines",
         "name": "Hydrogen Bond",
         "type": "scatter3d",
         "x": [
          1.4315842540079258,
          -1.4315842540079258
         ],
         "y": [
          -1.3966268376615747,
          1.3966268376615747
         ],
         "z": [
          9.38483547925608,
          9.38483547925608
         ]
        },
        {
         "line": {
          "color": "gray",
          "width": 1
         },
         "mode": "lines",
         "name": "Hydrogen Bond",
         "type": "scatter3d",
         "x": [
          1.4564596219694659,
          -1.4564596219694659
         ],
         "y": [
          -1.3706660313776513,
          1.3706660313776513
         ],
         "z": [
          9.399141630901287,
          9.399141630901287
         ]
        },
        {
         "line": {
          "color": "gray",
          "width": 1
         },
         "mode": "lines",
         "name": "Hydrogen Bond",
         "type": "scatter3d",
         "x": [
          1.4808642813357655,
          -1.4808642813357655
         ],
         "y": [
          -1.3442622438586553,
          1.3442622438586553
         ],
         "z": [
          9.413447782546495,
          9.413447782546495
         ]
        },
        {
         "line": {
          "color": "gray",
          "width": 1
         },
         "mode": "lines",
         "name": "Hydrogen Bond",
         "type": "scatter3d",
         "x": [
          1.5047903448418747,
          -1.5047903448418747
         ],
         "y": [
          -1.3174240084614641,
          1.3174240084614641
         ],
         "z": [
          9.427753934191703,
          9.427753934191703
         ]
        },
        {
         "line": {
          "color": "gray",
          "width": 1
         },
         "mode": "lines",
         "name": "Hydrogen Bond",
         "type": "scatter3d",
         "x": [
          1.528230079898731,
          -1.528230079898731
         ],
         "y": [
          -1.2901599989507964,
          1.2901599989507964
         ],
         "z": [
          9.44206008583691,
          9.44206008583691
         ]
        },
        {
         "line": {
          "color": "gray",
          "width": 1
         },
         "mode": "lines",
         "name": "Hydrogen Bond",
         "type": "scatter3d",
         "x": [
          1.5511759110922307,
          -1.5511759110922307
         ],
         "y": [
          -1.2624790266959636,
          1.2624790266959636
         ],
         "z": [
          9.456366237482117,
          9.456366237482117
         ]
        },
        {
         "line": {
          "color": "gray",
          "width": 1
         },
         "mode": "lines",
         "name": "Hydrogen Bond",
         "type": "scatter3d",
         "x": [
          1.5736204226315063,
          -1.5736204226315063
         ],
         "y": [
          -1.234390037823151,
          1.234390037823151
         ],
         "z": [
          9.470672389127325,
          9.470672389127325
         ]
        },
        {
         "line": {
          "color": "gray",
          "width": 1
         },
         "mode": "lines",
         "name": "Hydrogen Bond",
         "type": "scatter3d",
         "x": [
          1.5955563607456011,
          -1.5955563607456011
         ],
         "y": [
          -1.2059021103241558,
          1.2059021103241558
         ],
         "z": [
          9.484978540772532,
          9.484978540772532
         ]
        },
        {
         "line": {
          "color": "gray",
          "width": 1
         },
         "mode": "lines",
         "name": "Hydrogen Bond",
         "type": "scatter3d",
         "x": [
          1.6169766360278097,
          -1.6169766360278097
         ],
         "y": [
          -1.1770244511224854,
          1.1770244511224854
         ],
         "z": [
          9.49928469241774,
          9.49928469241774
         ]
        },
        {
         "line": {
          "color": "gray",
          "width": 1
         },
         "mode": "lines",
         "name": "Hydrogen Bond",
         "type": "scatter3d",
         "x": [
          1.6378743257268682,
          -1.6378743257268682
         ],
         "y": [
          -1.1477663930978101,
          1.1477663930978101
         ],
         "z": [
          9.513590844062946,
          9.513590844062946
         ]
        },
        {
         "line": {
          "color": "gray",
          "width": 1
         },
         "mode": "lines",
         "name": "Hydrogen Bond",
         "type": "scatter3d",
         "x": [
          1.6582426759843014,
          -1.6582426759843014
         ],
         "y": [
          -1.118137392069697,
          1.118137392069697
         ],
         "z": [
          9.527896995708154,
          9.527896995708154
         ]
        },
        {
         "line": {
          "color": "gray",
          "width": 1
         },
         "mode": "lines",
         "name": "Hydrogen Bond",
         "type": "scatter3d",
         "x": [
          1.6780751040171795,
          -1.6780751040171795
         ],
         "y": [
          -1.0881470237416135,
          1.0881470237416135
         ],
         "z": [
          9.542203147353362,
          9.542203147353362
         ]
        },
        {
         "line": {
          "color": "gray",
          "width": 1
         },
         "mode": "lines",
         "name": "Hydrogen Bond",
         "type": "scatter3d",
         "x": [
          1.6973652002455883,
          -1.6973652002455883
         ],
         "y": [
          -1.0578049806061862,
          1.0578049806061862
         ],
         "z": [
          9.55650929899857,
          9.55650929899857
         ]
        },
        {
         "line": {
          "color": "gray",
          "width": 1
         },
         "mode": "lines",
         "name": "Hydrogen Bond",
         "type": "scatter3d",
         "x": [
          1.7161067303641195,
          -1.7161067303641195
         ],
         "y": [
          -1.0271210688127137,
          1.0271210688127137
         ],
         "z": [
          9.570815450643776,
          9.570815450643776
         ]
        },
        {
         "line": {
          "color": "gray",
          "width": 1
         },
         "mode": "lines",
         "name": "Hydrogen Bond",
         "type": "scatter3d",
         "x": [
          1.7342936373567173,
          -1.7342936373567173
         ],
         "y": [
          -0.9961052049979495,
          0.9961052049979495
         ],
         "z": [
          9.585121602288984,
          9.585121602288984
         ]
        },
        {
         "line": {
          "color": "gray",
          "width": 1
         },
         "mode": "lines",
         "name": "Hydrogen Bond",
         "type": "scatter3d",
         "x": [
          1.7519200434542266,
          -1.7519200434542266
         ],
         "y": [
          -0.9647674130811743,
          0.9647674130811743
         ],
         "z": [
          9.599427753934192,
          9.599427753934192
         ]
        },
        {
         "line": {
          "color": "gray",
          "width": 1
         },
         "mode": "lines",
         "name": "Hydrogen Bond",
         "type": "scatter3d",
         "x": [
          1.7689802520340092,
          -1.7689802520340092
         ],
         "y": [
          -0.9331178210245978,
          0.9331178210245978
         ],
         "z": [
          9.6137339055794,
          9.6137339055794
         ]
        },
        {
         "line": {
          "color": "gray",
          "width": 1
         },
         "mode": "lines",
         "name": "Hydrogen Bond",
         "type": "scatter3d",
         "x": [
          1.7854687494610193,
          -1.7854687494610193
         ],
         "y": [
          -0.901166657560134,
          0.901166657560134
         ],
         "z": [
          9.628040057224606,
          9.628040057224606
         ]
        },
        {
         "line": {
          "color": "gray",
          "width": 1
         },
         "mode": "lines",
         "name": "Hydrogen Bond",
         "type": "scatter3d",
         "x": [
          1.8013802068697364,
          -1.8013802068697364
         ],
         "y": [
          -0.86892424888361,
          0.86892424888361
         ],
         "z": [
          9.642346208869814,
          9.642346208869814
         ]
        },
        {
         "line": {
          "color": "gray",
          "width": 1
         },
         "mode": "lines",
         "name": "Hydrogen Bond",
         "type": "scatter3d",
         "x": [
          1.816709481886385,
          -1.816709481886385
         ],
         "y": [
          -0.8364010153174751,
          0.8364010153174751
         ],
         "z": [
          9.656652360515022,
          9.656652360515022
         ]
        },
        {
         "line": {
          "color": "gray",
          "width": 1
         },
         "mode": "lines",
         "name": "Hydrogen Bond",
         "type": "scatter3d",
         "x": [
          1.8314516202908817,
          -1.8314516202908817
         ],
         "y": [
          -0.8036074679430897,
          0.8036074679430897
         ],
         "z": [
          9.67095851216023,
          9.67095851216023
         ]
        },
        {
         "line": {
          "color": "gray",
          "width": 1
         },
         "mode": "lines",
         "name": "Hydrogen Bond",
         "type": "scatter3d",
         "x": [
          1.8456018576179756,
          -1.8456018576179756
         ],
         "y": [
          -0.7705542052036818,
          0.7705542052036818
         ],
         "z": [
          9.685264663805436,
          9.685264663805436
         ]
        },
        {
         "line": {
          "color": "gray",
          "width": 1
         },
         "mode": "lines",
         "name": "Hydrogen Bond",
         "type": "scatter3d",
         "x": [
          1.8591556206970585,
          -1.8591556206970585
         ],
         "y": [
          -0.73725190947907,
          0.73725190947907
         ],
         "z": [
          9.699570815450643,
          9.699570815450643
         ]
        },
        {
         "line": {
          "color": "gray",
          "width": 1
         },
         "mode": "lines",
         "name": "Hydrogen Bond",
         "type": "scatter3d",
         "x": [
          1.8721085291301554,
          -1.8721085291301554
         ],
         "y": [
          -0.7037113436332586,
          0.7037113436332586
         ],
         "z": [
          9.713876967095851,
          9.713876967095851
         ]
        },
        {
         "line": {
          "color": "gray",
          "width": 1
         },
         "mode": "lines",
         "name": "Hydrogen Bond",
         "type": "scatter3d",
         "x": [
          1.8844563967076102,
          -1.8844563967076102
         ],
         "y": [
          -0.669943347536021,
          0.669943347536021
         ],
         "z": [
          9.72818311874106,
          9.72818311874106
         ]
        },
        {
         "line": {
          "color": "gray",
          "width": 1
         },
         "mode": "lines",
         "name": "Hydrogen Bond",
         "type": "scatter3d",
         "x": [
          1.8961952327610145,
          -1.8961952327610145
         ],
         "y": [
          -0.6359588345595976,
          0.6359588345595976
         ],
         "z": [
          9.742489270386265,
          9.742489270386265
         ]
        },
        {
         "line": {
          "color": "gray",
          "width": 1
         },
         "mode": "lines",
         "name": "Hydrogen Bond",
         "type": "scatter3d",
         "x": [
          1.907321243452939,
          -1.907321243452939
         ],
         "y": [
          -0.6017687880516357,
          0.6017687880516357
         ],
         "z": [
          9.756795422031473,
          9.756795422031473
         ]
        },
        {
         "line": {
          "color": "gray",
          "width": 1
         },
         "mode": "lines",
         "name": "Hydrogen Bond",
         "type": "scatter3d",
         "x": [
          1.9178308330030511,
          -1.9178308330030511
         ],
         "y": [
          -0.5673842577855178,
          0.5673842577855178
         ],
         "z": [
          9.771101573676681,
          9.771101573676681
         ]
        },
        {
         "line": {
          "color": "gray",
          "width": 1
         },
         "mode": "lines",
         "name": "Hydrogen Bond",
         "type": "scatter3d",
         "x": [
          1.927720604850225,
          -1.927720604850225
         ],
         "y": [
          -0.5328163563892186,
          0.5328163563892186
         ],
         "z": [
          9.785407725321889,
          9.785407725321889
         ]
        },
        {
         "line": {
          "color": "gray",
          "width": 1
         },
         "mode": "lines",
         "name": "Hydrogen Bond",
         "type": "scatter3d",
         "x": [
          1.9369873627502643,
          -1.9369873627502643
         ],
         "y": [
          -0.49807625575385117,
          0.49807625575385117
         ],
         "z": [
          9.799713876967095,
          9.799713876967095
         ]
        },
        {
         "line": {
          "color": "gray",
          "width": 1
         },
         "mode": "lines",
         "name": "Hydrogen Bond",
         "type": "scatter3d",
         "x": [
          1.9456281118088876,
          -1.9456281118088876
         ],
         "y": [
          -0.46317518342305725,
          0.46317518342305725
         ],
         "z": [
          9.814020028612303,
          9.814020028612303
         ]
        },
        {
         "line": {
          "color": "gray",
          "width": 1
         },
         "mode": "lines",
         "name": "Hydrogen Bond",
         "type": "scatter3d",
         "x": [
          1.9536400594496375,
          -1.9536400594496375
         ],
         "y": [
          -0.428124418964414,
          0.428124418964414
         ],
         "z": [
          9.82832618025751,
          9.82832618025751
         ]
        },
        {
         "line": {
          "color": "gray",
          "width": 1
         },
         "mode": "lines",
         "name": "Hydrogen Bond",
         "type": "scatter3d",
         "x": [
          1.9610206163164052,
          -1.9610206163164052
         ],
         "y": [
          -0.39293529032402547,
          0.39293529032402547
         ],
         "z": [
          9.842632331902719,
          9.842632331902719
         ]
        },
        {
         "line": {
          "color": "gray",
          "width": 1
         },
         "mode": "lines",
         "name": "Hydrogen Bond",
         "type": "scatter3d",
         "x": [
          1.9677673971102767,
          -1.9677673971102767
         ],
         "y": [
          -0.3576191701654795,
          0.3576191701654795
         ],
         "z": [
          9.856938483547925,
          9.856938483547925
         ]
        },
        {
         "line": {
          "color": "gray",
          "width": 1
         },
         "mode": "lines",
         "name": "Hydrogen Bond",
         "type": "scatter3d",
         "x": [
          1.9738782213604296,
          -1.9738782213604296
         ],
         "y": [
          -0.32218747219435273,
          0.32218747219435273
         ],
         "z": [
          9.871244635193133,
          9.871244635193133
         ]
        },
        {
         "line": {
          "color": "gray",
          "width": 1
         },
         "mode": "lines",
         "name": "Hydrogen Bond",
         "type": "scatter3d",
         "x": [
          1.9793511141288322,
          -1.9793511141288322
         ],
         "y": [
          -0.2866516474694505,
          0.2866516474694505
         ],
         "z": [
          9.88555078683834,
          9.88555078683834
         ]
        },
        {
         "line": {
          "color": "gray",
          "width": 1
         },
         "mode": "lines",
         "name": "Hydrogen Bond",
         "type": "scatter3d",
         "x": [
          1.9841843066485187,
          -1.9841843066485187
         ],
         "y": [
          -0.25102318070197577,
          0.25102318070197577
         ],
         "z": [
          9.899856938483548,
          9.899856938483548
         ]
        },
        {
         "line": {
          "color": "gray",
          "width": 1
         },
         "mode": "lines",
         "name": "Hydrogen Bond",
         "type": "scatter3d",
         "x": [
          1.9883762368952302,
          -1.9883762368952302
         ],
         "y": [
          -0.21531358654382105,
          0.21531358654382105
         ],
         "z": [
          9.914163090128755,
          9.914163090128755
         ]
        },
        {
         "line": {
          "color": "gray",
          "width": 1
         },
         "mode": "lines",
         "name": "Hydrogen Bond",
         "type": "scatter3d",
         "x": [
          1.9919255500922408,
          -1.9919255500922408
         ],
         "y": [
          -0.17953440586618488,
          0.17953440586618488
         ],
         "z": [
          9.928469241773962,
          9.928469241773962
         ]
        },
        {
         "line": {
          "color": "gray",
          "width": 1
         },
         "mode": "lines",
         "name": "Hydrogen Bond",
         "type": "scatter3d",
         "x": [
          1.994831099148204,
          -1.994831099148204
         ],
         "y": [
          -0.14369720202971353,
          0.14369720202971353
         ],
         "z": [
          9.94277539341917,
          9.94277539341917
         ]
        },
        {
         "line": {
          "color": "gray",
          "width": 1
         },
         "mode": "lines",
         "name": "Hydrogen Bond",
         "type": "scatter3d",
         "x": [
          1.9970919450278772,
          -1.9970919450278772
         ],
         "y": [
          -0.10781355714737513,
          0.10781355714737513
         ],
         "z": [
          9.957081545064378,
          9.957081545064378
         ]
        },
        {
         "line": {
          "color": "gray",
          "width": 1
         },
         "mode": "lines",
         "name": "Hydrogen Bond",
         "type": "scatter3d",
         "x": [
          1.9987073570556055,
          -1.9987073570556055
         ],
         "y": [
          -0.07189506834127309,
          0.07189506834127309
         ],
         "z": [
          9.971387696709584,
          9.971387696709584
         ]
        },
        {
         "line": {
          "color": "gray",
          "width": 1
         },
         "mode": "lines",
         "name": "Hydrogen Bond",
         "type": "scatter3d",
         "x": [
          1.9996768131514666,
          -1.9996768131514666
         ],
         "y": [
          -0.035953343994608734,
          0.035953343994608734
         ],
         "z": [
          9.985693848354792,
          9.985693848354792
         ]
        },
        {
         "line": {
          "color": "gray",
          "width": 1
         },
         "mode": "lines",
         "name": "Hydrogen Bond",
         "type": "scatter3d",
         "x": [
          2,
          -2
         ],
         "y": [
          -9.797174393178826e-16,
          9.797174393178826e-16
         ],
         "z": [
          10,
          10
         ]
        }
       ],
       "layout": {
        "height": 600,
        "margin": {
         "b": 0,
         "l": 0,
         "r": 0,
         "t": 50
        },
        "scene": {
         "xaxis": {
          "visible": false
         },
         "yaxis": {
          "visible": false
         },
         "zaxis": {
          "visible": false
         }
        },
        "template": {
         "data": {
          "bar": [
           {
            "error_x": {
             "color": "#2a3f5f"
            },
            "error_y": {
             "color": "#2a3f5f"
            },
            "marker": {
             "line": {
              "color": "#E5ECF6",
              "width": 0.5
             },
             "pattern": {
              "fillmode": "overlay",
              "size": 10,
              "solidity": 0.2
             }
            },
            "type": "bar"
           }
          ],
          "barpolar": [
           {
            "marker": {
             "line": {
              "color": "#E5ECF6",
              "width": 0.5
             },
             "pattern": {
              "fillmode": "overlay",
              "size": 10,
              "solidity": 0.2
             }
            },
            "type": "barpolar"
           }
          ],
          "carpet": [
           {
            "aaxis": {
             "endlinecolor": "#2a3f5f",
             "gridcolor": "white",
             "linecolor": "white",
             "minorgridcolor": "white",
             "startlinecolor": "#2a3f5f"
            },
            "baxis": {
             "endlinecolor": "#2a3f5f",
             "gridcolor": "white",
             "linecolor": "white",
             "minorgridcolor": "white",
             "startlinecolor": "#2a3f5f"
            },
            "type": "carpet"
           }
          ],
          "choropleth": [
           {
            "colorbar": {
             "outlinewidth": 0,
             "ticks": ""
            },
            "type": "choropleth"
           }
          ],
          "contour": [
           {
            "colorbar": {
             "outlinewidth": 0,
             "ticks": ""
            },
            "colorscale": [
             [
              0,
              "#0d0887"
             ],
             [
              0.1111111111111111,
              "#46039f"
             ],
             [
              0.2222222222222222,
              "#7201a8"
             ],
             [
              0.3333333333333333,
              "#9c179e"
             ],
             [
              0.4444444444444444,
              "#bd3786"
             ],
             [
              0.5555555555555556,
              "#d8576b"
             ],
             [
              0.6666666666666666,
              "#ed7953"
             ],
             [
              0.7777777777777778,
              "#fb9f3a"
             ],
             [
              0.8888888888888888,
              "#fdca26"
             ],
             [
              1,
              "#f0f921"
             ]
            ],
            "type": "contour"
           }
          ],
          "contourcarpet": [
           {
            "colorbar": {
             "outlinewidth": 0,
             "ticks": ""
            },
            "type": "contourcarpet"
           }
          ],
          "heatmap": [
           {
            "colorbar": {
             "outlinewidth": 0,
             "ticks": ""
            },
            "colorscale": [
             [
              0,
              "#0d0887"
             ],
             [
              0.1111111111111111,
              "#46039f"
             ],
             [
              0.2222222222222222,
              "#7201a8"
             ],
             [
              0.3333333333333333,
              "#9c179e"
             ],
             [
              0.4444444444444444,
              "#bd3786"
             ],
             [
              0.5555555555555556,
              "#d8576b"
             ],
             [
              0.6666666666666666,
              "#ed7953"
             ],
             [
              0.7777777777777778,
              "#fb9f3a"
             ],
             [
              0.8888888888888888,
              "#fdca26"
             ],
             [
              1,
              "#f0f921"
             ]
            ],
            "type": "heatmap"
           }
          ],
          "histogram": [
           {
            "marker": {
             "pattern": {
              "fillmode": "overlay",
              "size": 10,
              "solidity": 0.2
             }
            },
            "type": "histogram"
           }
          ],
          "histogram2d": [
           {
            "colorbar": {
             "outlinewidth": 0,
             "ticks": ""
            },
            "colorscale": [
             [
              0,
              "#0d0887"
             ],
             [
              0.1111111111111111,
              "#46039f"
             ],
             [
              0.2222222222222222,
              "#7201a8"
             ],
             [
              0.3333333333333333,
              "#9c179e"
             ],
             [
              0.4444444444444444,
              "#bd3786"
             ],
             [
              0.5555555555555556,
              "#d8576b"
             ],
             [
              0.6666666666666666,
              "#ed7953"
             ],
             [
              0.7777777777777778,
              "#fb9f3a"
             ],
             [
              0.8888888888888888,
              "#fdca26"
             ],
             [
              1,
              "#f0f921"
             ]
            ],
            "type": "histogram2d"
           }
          ],
          "histogram2dcontour": [
           {
            "colorbar": {
             "outlinewidth": 0,
             "ticks": ""
            },
            "colorscale": [
             [
              0,
              "#0d0887"
             ],
             [
              0.1111111111111111,
              "#46039f"
             ],
             [
              0.2222222222222222,
              "#7201a8"
             ],
             [
              0.3333333333333333,
              "#9c179e"
             ],
             [
              0.4444444444444444,
              "#bd3786"
             ],
             [
              0.5555555555555556,
              "#d8576b"
             ],
             [
              0.6666666666666666,
              "#ed7953"
             ],
             [
              0.7777777777777778,
              "#fb9f3a"
             ],
             [
              0.8888888888888888,
              "#fdca26"
             ],
             [
              1,
              "#f0f921"
             ]
            ],
            "type": "histogram2dcontour"
           }
          ],
          "mesh3d": [
           {
            "colorbar": {
             "outlinewidth": 0,
             "ticks": ""
            },
            "type": "mesh3d"
           }
          ],
          "parcoords": [
           {
            "line": {
             "colorbar": {
              "outlinewidth": 0,
              "ticks": ""
             }
            },
            "type": "parcoords"
           }
          ],
          "pie": [
           {
            "automargin": true,
            "type": "pie"
           }
          ],
          "scatter": [
           {
            "fillpattern": {
             "fillmode": "overlay",
             "size": 10,
             "solidity": 0.2
            },
            "type": "scatter"
           }
          ],
          "scatter3d": [
           {
            "line": {
             "colorbar": {
              "outlinewidth": 0,
              "ticks": ""
             }
            },
            "marker": {
             "colorbar": {
              "outlinewidth": 0,
              "ticks": ""
             }
            },
            "type": "scatter3d"
           }
          ],
          "scattercarpet": [
           {
            "marker": {
             "colorbar": {
              "outlinewidth": 0,
              "ticks": ""
             }
            },
            "type": "scattercarpet"
           }
          ],
          "scattergeo": [
           {
            "marker": {
             "colorbar": {
              "outlinewidth": 0,
              "ticks": ""
             }
            },
            "type": "scattergeo"
           }
          ],
          "scattergl": [
           {
            "marker": {
             "colorbar": {
              "outlinewidth": 0,
              "ticks": ""
             }
            },
            "type": "scattergl"
           }
          ],
          "scattermap": [
           {
            "marker": {
             "colorbar": {
              "outlinewidth": 0,
              "ticks": ""
             }
            },
            "type": "scattermap"
           }
          ],
          "scattermapbox": [
           {
            "marker": {
             "colorbar": {
              "outlinewidth": 0,
              "ticks": ""
             }
            },
            "type": "scattermapbox"
           }
          ],
          "scatterpolar": [
           {
            "marker": {
             "colorbar": {
              "outlinewidth": 0,
              "ticks": ""
             }
            },
            "type": "scatterpolar"
           }
          ],
          "scatterpolargl": [
           {
            "marker": {
             "colorbar": {
              "outlinewidth": 0,
              "ticks": ""
             }
            },
            "type": "scatterpolargl"
           }
          ],
          "scatterternary": [
           {
            "marker": {
             "colorbar": {
              "outlinewidth": 0,
              "ticks": ""
             }
            },
            "type": "scatterternary"
           }
          ],
          "surface": [
           {
            "colorbar": {
             "outlinewidth": 0,
             "ticks": ""
            },
            "colorscale": [
             [
              0,
              "#0d0887"
             ],
             [
              0.1111111111111111,
              "#46039f"
             ],
             [
              0.2222222222222222,
              "#7201a8"
             ],
             [
              0.3333333333333333,
              "#9c179e"
             ],
             [
              0.4444444444444444,
              "#bd3786"
             ],
             [
              0.5555555555555556,
              "#d8576b"
             ],
             [
              0.6666666666666666,
              "#ed7953"
             ],
             [
              0.7777777777777778,
              "#fb9f3a"
             ],
             [
              0.8888888888888888,
              "#fdca26"
             ],
             [
              1,
              "#f0f921"
             ]
            ],
            "type": "surface"
           }
          ],
          "table": [
           {
            "cells": {
             "fill": {
              "color": "#EBF0F8"
             },
             "line": {
              "color": "white"
             }
            },
            "header": {
             "fill": {
              "color": "#C8D4E3"
             },
             "line": {
              "color": "white"
             }
            },
            "type": "table"
           }
          ]
         },
         "layout": {
          "annotationdefaults": {
           "arrowcolor": "#2a3f5f",
           "arrowhead": 0,
           "arrowwidth": 1
          },
          "autotypenumbers": "strict",
          "coloraxis": {
           "colorbar": {
            "outlinewidth": 0,
            "ticks": ""
           }
          },
          "colorscale": {
           "diverging": [
            [
             0,
             "#8e0152"
            ],
            [
             0.1,
             "#c51b7d"
            ],
            [
             0.2,
             "#de77ae"
            ],
            [
             0.3,
             "#f1b6da"
            ],
            [
             0.4,
             "#fde0ef"
            ],
            [
             0.5,
             "#f7f7f7"
            ],
            [
             0.6,
             "#e6f5d0"
            ],
            [
             0.7,
             "#b8e186"
            ],
            [
             0.8,
             "#7fbc41"
            ],
            [
             0.9,
             "#4d9221"
            ],
            [
             1,
             "#276419"
            ]
           ],
           "sequential": [
            [
             0,
             "#0d0887"
            ],
            [
             0.1111111111111111,
             "#46039f"
            ],
            [
             0.2222222222222222,
             "#7201a8"
            ],
            [
             0.3333333333333333,
             "#9c179e"
            ],
            [
             0.4444444444444444,
             "#bd3786"
            ],
            [
             0.5555555555555556,
             "#d8576b"
            ],
            [
             0.6666666666666666,
             "#ed7953"
            ],
            [
             0.7777777777777778,
             "#fb9f3a"
            ],
            [
             0.8888888888888888,
             "#fdca26"
            ],
            [
             1,
             "#f0f921"
            ]
           ],
           "sequentialminus": [
            [
             0,
             "#0d0887"
            ],
            [
             0.1111111111111111,
             "#46039f"
            ],
            [
             0.2222222222222222,
             "#7201a8"
            ],
            [
             0.3333333333333333,
             "#9c179e"
            ],
            [
             0.4444444444444444,
             "#bd3786"
            ],
            [
             0.5555555555555556,
             "#d8576b"
            ],
            [
             0.6666666666666666,
             "#ed7953"
            ],
            [
             0.7777777777777778,
             "#fb9f3a"
            ],
            [
             0.8888888888888888,
             "#fdca26"
            ],
            [
             1,
             "#f0f921"
            ]
           ]
          },
          "colorway": [
           "#636efa",
           "#EF553B",
           "#00cc96",
           "#ab63fa",
           "#FFA15A",
           "#19d3f3",
           "#FF6692",
           "#B6E880",
           "#FF97FF",
           "#FECB52"
          ],
          "font": {
           "color": "#2a3f5f"
          },
          "geo": {
           "bgcolor": "white",
           "lakecolor": "white",
           "landcolor": "#E5ECF6",
           "showlakes": true,
           "showland": true,
           "subunitcolor": "white"
          },
          "hoverlabel": {
           "align": "left"
          },
          "hovermode": "closest",
          "mapbox": {
           "style": "light"
          },
          "paper_bgcolor": "white",
          "plot_bgcolor": "#E5ECF6",
          "polar": {
           "angularaxis": {
            "gridcolor": "white",
            "linecolor": "white",
            "ticks": ""
           },
           "bgcolor": "#E5ECF6",
           "radialaxis": {
            "gridcolor": "white",
            "linecolor": "white",
            "ticks": ""
           }
          },
          "scene": {
           "xaxis": {
            "backgroundcolor": "#E5ECF6",
            "gridcolor": "white",
            "gridwidth": 2,
            "linecolor": "white",
            "showbackground": true,
            "ticks": "",
            "zerolinecolor": "white"
           },
           "yaxis": {
            "backgroundcolor": "#E5ECF6",
            "gridcolor": "white",
            "gridwidth": 2,
            "linecolor": "white",
            "showbackground": true,
            "ticks": "",
            "zerolinecolor": "white"
           },
           "zaxis": {
            "backgroundcolor": "#E5ECF6",
            "gridcolor": "white",
            "gridwidth": 2,
            "linecolor": "white",
            "showbackground": true,
            "ticks": "",
            "zerolinecolor": "white"
           }
          },
          "shapedefaults": {
           "line": {
            "color": "#2a3f5f"
           }
          },
          "ternary": {
           "aaxis": {
            "gridcolor": "white",
            "linecolor": "white",
            "ticks": ""
           },
           "baxis": {
            "gridcolor": "white",
            "linecolor": "white",
            "ticks": ""
           },
           "bgcolor": "#E5ECF6",
           "caxis": {
            "gridcolor": "white",
            "linecolor": "white",
            "ticks": ""
           }
          },
          "title": {
           "x": 0.05
          },
          "xaxis": {
           "automargin": true,
           "gridcolor": "white",
           "linecolor": "white",
           "ticks": "",
           "title": {
            "standoff": 15
           },
           "zerolinecolor": "white",
           "zerolinewidth": 2
          },
          "yaxis": {
           "automargin": true,
           "gridcolor": "white",
           "linecolor": "white",
           "ticks": "",
           "title": {
            "standoff": 15
           },
           "zerolinecolor": "white",
           "zerolinewidth": 2
          }
         }
        },
        "title": {
         "text": "DNA Sequence 3D Double Helix View with Hydrogen Bonds"
        }
       }
      }
     },
     "metadata": {},
     "output_type": "display_data"
    }
   ],
   "source": [
    "import pandas as pd\n",
    "import numpy as np\n",
    "import plotly.graph_objects as go\n",
    "\n",
    "# 读取DNA序列\n",
    "df = pd.read_csv('Otter.csv')  # 修改为对应组的文件名\n",
    "sequence = ''.join(df.iloc[:10, 0].astype(str).tolist())\n",
    "\n",
    "# 碱基互补配对\n",
    "complementary_base = {'A': 'T', 'T': 'A', 'C': 'G', 'G': 'C'}\n",
    "complementary_sequence = ''.join([complementary_base[b] for b in sequence])\n",
    "\n",
    "# 螺旋参数\n",
    "n = len(sequence)\n",
    "theta = np.linspace(0, 4 * np.pi, n)\n",
    "z = np.linspace(0, 10, n)\n",
    "radius = 2\n",
    "\n",
    "# 计算螺旋坐标\n",
    "x = radius * np.cos(theta)\n",
    "y = radius * np.sin(theta)\n",
    "\n",
    "# 碱基颜色映射\n",
    "base_colors = {'A': 'red', 'T': 'blue', 'C': 'green', 'G': 'orange'}\n",
    "colors = [base_colors.get(b, 'gray') for b in sequence]\n",
    "complementary_colors = [base_colors.get(b, 'gray') for b in complementary_sequence]\n",
    "\n",
    "# 创建3D图\n",
    "fig = go.Figure()\n",
    "\n",
    "# 添加碱基球体（原始链）\n",
    "fig.add_trace(go.Scatter3d(\n",
    "    x=x, y=y, z=z,\n",
    "    mode='markers+text',\n",
    "    marker=dict(size=6, color=colors, opacity=0.8),\n",
    "    text=list(sequence),\n",
    "    textposition='top center'\n",
    "))\n",
    "\n",
    "# 添加螺旋线（原始链）\n",
    "fig.add_trace(go.Scatter3d(\n",
    "    x=x, y=y, z=z,\n",
    "    mode='lines',\n",
    "    line=dict(color='lightgray', width=2),\n",
    "    name='Helix'\n",
    "))\n",
    "\n",
    "# 添加碱基球体（互补链）\n",
    "fig.add_trace(go.Scatter3d(\n",
    "    x=-x, y=-y, z=z,\n",
    "    mode='markers+text',\n",
    "    marker=dict(size=6, color=complementary_colors, opacity=0.8),\n",
    "    text=list(complementary_sequence),\n",
    "    textposition='top center'\n",
    "))\n",
    "\n",
    "# 添加螺旋线（互补链）\n",
    "fig.add_trace(go.Scatter3d(\n",
    "    x=-x, y=-y, z=z,\n",
    "    mode='lines',\n",
    "    line=dict(color='lightgray', width=2),\n",
    "    name='Helix'\n",
    "))\n",
    "\n",
    "# 添加氢键\n",
    "for i in range(n):\n",
    "    fig.add_trace(go.Scatter3d(\n",
    "        x=[x[i], -x[i]],\n",
    "        y=[y[i], -y[i]],\n",
    "        z=[z[i], z[i]],\n",
    "        mode='lines',\n",
    "        line=dict(color='gray', width=1),\n",
    "        name='Hydrogen Bond'\n",
    "    ))\n",
    "\n",
    "fig.update_layout(\n",
    "    scene=dict(\n",
    "        xaxis=dict(visible=False),\n",
    "        yaxis=dict(visible=False),\n",
    "        zaxis=dict(visible=False)\n",
    "    ),\n",
    "    title='DNA Sequence 3D Double Helix View with Hydrogen Bonds',\n",
    "    margin=dict(l=0, r=0, b=0, t=50),\n",
    "    height=600\n",
    ")\n",
    "\n",
    "fig.show()\n"
   ]
  }
 ],
 "metadata": {
  "kernelspec": {
   "display_name": "py312",
   "language": "python",
   "name": "python3"
  },
  "language_info": {
   "codemirror_mode": {
    "name": "ipython",
    "version": 3
   },
   "file_extension": ".py",
   "mimetype": "text/x-python",
   "name": "python",
   "nbconvert_exporter": "python",
   "pygments_lexer": "ipython3",
   "version": "3.12.9"
  }
 },
 "nbformat": 4,
 "nbformat_minor": 5
}
