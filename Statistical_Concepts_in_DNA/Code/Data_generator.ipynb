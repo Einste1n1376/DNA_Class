{
 "cells": [
  {
   "cell_type": "code",
   "execution_count": null,
   "metadata": {},
   "outputs": [],
   "source": [
    "import pandas as pd\n",
    "import random\n",
    "\n",
    "# 可选标签\n",
    "labels = ['enhancer', 'noncoding', 'promoter']\n",
    "\n",
    "# 生成随机 DNA 序列\n",
    "def generate_random_sequence(length):\n",
    "    return ''.join(random.choices('ATCG', k=length))\n",
    "\n",
    "# 生成训练数据\n",
    "num_train = 150\n",
    "train_data = {\n",
    "    'sequence': [generate_random_sequence(random.randint(60, 90)) for _ in range(num_train)],\n",
    "    'label': [random.choice(labels) for _ in range(num_train)]\n",
    "}\n",
    "df_train = pd.DataFrame(train_data)\n",
    "df_train.to_csv(\"dna_training_data_augmented.csv\", index=False)\n",
    "\n",
    "# 生成测试数据\n",
    "num_test = 30\n",
    "test_data = {\n",
    "    'sequence': [generate_random_sequence(random.randint(60, 90)) for _ in range(num_test)]\n",
    "}\n",
    "df_test = pd.DataFrame(test_data)\n",
    "df_test.to_csv(\"dna_test_data_augmented.csv\", index=False)\n"
   ]
  }
 ],
 "metadata": {
  "kernelspec": {
   "display_name": "base",
   "language": "python",
   "name": "python3"
  },
  "language_info": {
   "codemirror_mode": {
    "name": "ipython",
    "version": 3
   },
   "file_extension": ".py",
   "mimetype": "text/x-python",
   "name": "python",
   "nbconvert_exporter": "python",
   "pygments_lexer": "ipython3",
   "version": "3.12.7"
  }
 },
 "nbformat": 4,
 "nbformat_minor": 2
}
