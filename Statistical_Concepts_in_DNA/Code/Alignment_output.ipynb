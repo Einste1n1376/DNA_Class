{
 "cells": [
  {
   "cell_type": "code",
   "execution_count": null,
   "id": "91c2386f",
   "metadata": {
    "vscode": {
     "languageId": "plaintext"
    }
   },
   "outputs": [],
   "source": [
    "!pip install biopython #Running on Colab, install biopython on Colab\n",
    "from Bio import SeqIO\n",
    "from Bio import pairwise2\n",
    "from Bio.pairwise2 import format_alignment\n",
    "import matplotlib.pyplot as plt"
   ]
  },
  {
   "cell_type": "code",
   "execution_count": null,
   "id": "0323a17c",
   "metadata": {
    "vscode": {
     "languageId": "plaintext"
    }
   },
   "outputs": [],
   "source": [
    "# ---- Load sequences ----\n",
    "query_seqs = list(SeqIO.parse(\"Suspect.fasta\", \"fasta\"))\n",
    "db_seqs = list(SeqIO.parse(\"Database.fasta\", \"fasta\"))\n",
    "\n",
    "# ---- Store all alignments for combined plotting ----\n",
    "alignment_data = []\n",
    "\n",
    "for query in query_seqs:\n",
    "    for db in db_seqs:\n",
    "        alignments = pairwise2.align.localms(query.seq, db.seq, 2, -1, -0.5, -0.1)\n",
    "        if alignments:\n",
    "            top_alignment = alignments[0]\n",
    "            q_aln, db_aln, score, start, end = top_alignment\n",
    "\n",
    "            print(f\"\\n--- Alignment: {query.id} vs {db.id} ---\")\n",
    "            print(f\"Score: {score}\")\n",
    "            print(format_alignment(*top_alignment))\n",
    "\n",
    "            # Match line: '|' for match, ' ' otherwise\n",
    "            match_line = \"\".join('|' if q == d and q != '-' else ' ' for q, d in zip(q_aln, db_aln))\n",
    "\n",
    "            # Store for later plotting\n",
    "            alignment_data.append({\n",
    "                'query_id': query.id,\n",
    "                'db_id': db.id,\n",
    "                'q_aln': q_aln,\n",
    "                'match_line': match_line,\n",
    "                'db_aln': db_aln,\n",
    "                'score': score\n",
    "            })\n",
    "\n",
    "# ---- Create combined plot with subplots ----\n",
    "n_alignments = len(alignment_data)\n",
    "fig_height = max(2, n_alignments * 2)  # Auto adjust height\n",
    "fig, axes = plt.subplots(n_alignments, 1, figsize=(15, fig_height))\n",
    "\n",
    "# If only one alignment, wrap axes in a list\n",
    "if n_alignments == 1:\n",
    "    axes = [axes]\n",
    "\n",
    "for ax, aln in zip(axes, alignment_data):\n",
    "    q = aln['q_aln']\n",
    "    m = aln['match_line']\n",
    "    d = aln['db_aln']\n",
    "\n",
    "    for i, (q_char, m_char, d_char) in enumerate(zip(q, m, d)):\n",
    "        ax.text(i, 2, q_char, ha='center', va='center', fontsize=10, fontfamily='monospace')\n",
    "        ax.text(i, 1, m_char, ha='center', va='center', fontsize=9, color='gray', fontfamily='monospace')\n",
    "        ax.text(i, 0, d_char, ha='center', va='center', fontsize=10, fontfamily='monospace')\n",
    "\n",
    "    ax.set_xlim(-1, len(q) + 1)\n",
    "    ax.set_ylim(-0.5, 2.5)\n",
    "    ax.set_title(f\"{aln['query_id']} vs {aln['db_id']} | Score: {int(aln['score'])}\", fontsize=12)\n",
    "    ax.axis('off')\n",
    "\n",
    "plt.tight_layout()\n",
    "plt.show()"
   ]
  }
 ],
 "metadata": {
  "language_info": {
   "name": "python"
  }
 },
 "nbformat": 4,
 "nbformat_minor": 5
}
