{
 "cells": [
  {
   "cell_type": "code",
   "execution_count": null,
   "id": "b3b86e49",
   "metadata": {},
   "outputs": [],
   "source": [
    "!pip install biopython #Running on Colab, install biopython on Colab\n",
    "import matplotlib.pyplot as plt\n",
    "from Bio import SeqIO\n",
    "from collections import Counter"
   ]
  },
  {
   "cell_type": "code",
   "execution_count": null,
   "id": "1a7b3172",
   "metadata": {},
   "outputs": [],
   "source": [
    "# Draw the ATCG distribution\n",
    "\n",
    "# Read sequences\n",
    "records = list(SeqIO.parse(\"Suspect.fasta\", \"fasta\"))\n",
    "\n",
    "# Concatenate all sequences (if there's more than one)\n",
    "sequence = \"\".join(str(record.seq).upper() for record in records)\n",
    "\n",
    "# Count base frequencies\n",
    "base_counts = Counter(sequence)\n",
    "bases = ['A', 'T', 'G', 'C']\n",
    "counts = [base_counts.get(base, 0) for base in bases]\n",
    "\n",
    "# 1. Histogram\n",
    "plt.figure(figsize=(6, 4))\n",
    "plt.bar(bases, counts, color=[\"#66c2a5\", \"#fc8d62\", \"#8da0cb\", \"#e78ac3\"])\n",
    "plt.title(\"Nucleotide Frequency Histogram\")\n",
    "plt.xlabel(\"Base\")\n",
    "plt.ylabel(\"Count\")\n",
    "plt.grid(True, axis='y', linestyle='--', alpha=0.7)\n",
    "plt.tight_layout()\n",
    "plt.show()\n",
    "\n",
    "# 2. Pie Chart\n",
    "plt.figure(figsize=(5, 5))\n",
    "plt.pie(counts, labels=bases, autopct='%1.1f%%', colors=[\"#66c2a5\", \"#fc8d62\", \"#8da0cb\", \"#e78ac3\"])\n",
    "plt.title(\"Nucleotide Composition Pie Chart\")\n",
    "plt.tight_layout()\n",
    "plt.show()\n",
    "\n",
    "# 3. GC content and other information (optional)\n",
    "total = sum(counts)\n",
    "gc_content = (base_counts.get('G', 0) + base_counts.get('C', 0)) / total * 100\n",
    "print(f\"Total Length: {total}\")\n",
    "print(f\"GC Content: {gc_content:.2f}%\")"
   ]
  }
 ],
 "metadata": {
  "language_info": {
   "name": "python"
  }
 },
 "nbformat": 4,
 "nbformat_minor": 5
}
