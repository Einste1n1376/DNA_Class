{
 "cells": [
  {
   "cell_type": "code",
   "execution_count": null,
   "id": "b3b86e49",
   "metadata": {
    "vscode": {
     "languageId": "plaintext"
    }
   },
   "outputs": [],
   "source": [
    "import pandas as pd\n",
    "import matplotlib.pyplot as plt\n",
    "from sklearn.model_selection import train_test_split\n",
    "from sklearn.neighbors import KNeighborsClassifier\n",
    "from sklearn.metrics import accuracy_score\n",
    "!pip install biopython #Running on Colab, install biopython on Colab\n",
    "from Bio import SeqIO\n",
    "import matplotlib.pyplot as plt\n",
    "from collections import Counter"
   ]
  },
  {
   "cell_type": "code",
   "execution_count": null,
   "id": "1a7b3172",
   "metadata": {
    "vscode": {
     "languageId": "plaintext"
    }
   },
   "outputs": [],
   "source": [
    "# Draw the ATCG distribution\n",
    "\n",
    "# 读取序列\n",
    "records = list(SeqIO.parse(\"Suspect.fasta\", \"fasta\"))\n",
    "\n",
    "# 合并所有序列（如果不止一条）\n",
    "sequence = \"\".join(str(record.seq).upper() for record in records)\n",
    "\n",
    "# 统计碱基频数\n",
    "base_counts = Counter(sequence)\n",
    "bases = ['A', 'T', 'G', 'C']\n",
    "counts = [base_counts.get(base, 0) for base in bases]\n",
    "\n",
    "# 1. 直方图\n",
    "plt.figure(figsize=(6, 4))\n",
    "plt.bar(bases, counts, color=[\"#66c2a5\", \"#fc8d62\", \"#8da0cb\", \"#e78ac3\"])\n",
    "plt.title(\"Nucleotide Frequency Histogram\")\n",
    "plt.xlabel(\"Base\")\n",
    "plt.ylabel(\"Count\")\n",
    "plt.grid(True, axis='y', linestyle='--', alpha=0.7)\n",
    "plt.tight_layout()\n",
    "plt.show()\n",
    "\n",
    "# 2. 饼状图\n",
    "plt.figure(figsize=(5, 5))\n",
    "plt.pie(counts, labels=bases, autopct='%1.1f%%', colors=[\"#66c2a5\", \"#fc8d62\", \"#8da0cb\", \"#e78ac3\"])\n",
    "plt.title(\"Nucleotide Composition Pie Chart\")\n",
    "plt.tight_layout()\n",
    "plt.show()\n",
    "\n",
    "# 3. GC含量等信息（可选）\n",
    "total = sum(counts)\n",
    "gc_content = (base_counts.get('G', 0) + base_counts.get('C', 0)) / total * 100\n",
    "print(f\"Total Length: {total}\")\n",
    "print(f\"GC Content: {gc_content:.2f}%\")"
   ]
  }
 ],
 "metadata": {
  "language_info": {
   "name": "python"
  }
 },
 "nbformat": 4,
 "nbformat_minor": 5
}
